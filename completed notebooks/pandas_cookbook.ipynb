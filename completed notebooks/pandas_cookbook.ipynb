{
 "cells": [
  {
   "cell_type": "markdown",
   "metadata": {},
   "source": [
    "# Pandas Library\n",
    "Pandas is a library used for data manipulation and analysis. Pandas offers data structures and operations for creating and manipulating Data [Series](http://pandas.pydata.org/pandas-docs/dev/generated/pandas.Series.html) and [DataFrame](http://pandas.pydata.org/pandas-docs/dev/generated/pandas.DataFrame.html) objects. Data can be imported from various data sources, e.g., [Numpy](http://www.numpy.org/) arrays, Python dictionaries and CSV files. Pandas allows you to manipulate, organize and display the data. \n",
    "<div class=\"alert alert-block alert-info\" style=\"margin-top: 20px\">**Note:**\n",
    "This cookbook is based on the examples and tutorials from the [Pandas Homepage](http://pandas.pydata.org). \n",
    "</div>\n"
   ]
  },
  {
   "cell_type": "markdown",
   "metadata": {},
   "source": [
    "# Setup"
   ]
  },
  {
   "cell_type": "code",
   "execution_count": 133,
   "metadata": {
    "collapsed": false
   },
   "outputs": [
    {
     "name": "stdout",
     "output_type": "stream",
     "text": [
      "Requirement already satisfied: pandas in /usr/local/lib/python2.7/dist-packages\r\n",
      "Requirement already satisfied: pytz>=2011k in /usr/local/lib/python2.7/dist-packages (from pandas)\r\n",
      "Requirement already satisfied: python-dateutil in /usr/local/lib/python2.7/dist-packages (from pandas)\r\n",
      "Requirement already satisfied: numpy>=1.7.0 in /usr/local/lib/python2.7/dist-packages (from pandas)\r\n",
      "Requirement already satisfied: six>=1.5 in ./common/.virtualenv/python2/lib/python2.7/site-packages (from python-dateutil->pandas)\r\n"
     ]
    }
   ],
   "source": [
    "#<help:pandas_setup>\n",
    "!pip install pandas"
   ]
  },
  {
   "cell_type": "code",
   "execution_count": 134,
   "metadata": {
    "collapsed": false
   },
   "outputs": [
    {
     "data": {
      "text/plain": [
       "u'0.18.1'"
      ]
     },
     "execution_count": 134,
     "metadata": {},
     "output_type": "execute_result"
    }
   ],
   "source": [
    "#<help:pandas_setup>\n",
    "import pandas as pd\n",
    "pd.__version__"
   ]
  },
  {
   "cell_type": "markdown",
   "metadata": {},
   "source": [
    "# Series\n",
    "Series are one dimensional arrays capable of holding any array type. The axis labels are known as the **index**. The index must be the same length as the amount of values passed. Pass a list of values to a series."
   ]
  },
  {
   "cell_type": "code",
   "execution_count": 135,
   "metadata": {
    "collapsed": false
   },
   "outputs": [
    {
     "data": {
      "text/plain": [
       "0    1.5\n",
       "1    3.0\n",
       "2    5.0\n",
       "3    NaN\n",
       "4    5.0\n",
       "5    9.0\n",
       "dtype: float64"
      ]
     },
     "execution_count": 135,
     "metadata": {},
     "output_type": "execute_result"
    }
   ],
   "source": [
    "#<help:series_create>\n",
    "import pandas as pd\n",
    "import numpy as np\n",
    "s = pd.Series([1.5,3,5,np.nan,5,9])\n",
    "s"
   ]
  },
  {
   "cell_type": "markdown",
   "metadata": {},
   "source": [
    "# DataFrames\n",
    "A DataFrame is two-dimensional. Columns can be of different data types.\n",
    "DataFrames accept many data inputs including series and other DataFrames.\n",
    "You can pass indexes (row labels) and columns (column labels). Indexes can be numbers, dates, or strings/tuples."
   ]
  },
  {
   "cell_type": "code",
   "execution_count": 136,
   "metadata": {
    "collapsed": false
   },
   "outputs": [
    {
     "data": {
      "text/plain": [
       "DatetimeIndex(['2014-01-02', '2014-01-03', '2014-01-04', '2014-01-05'], dtype='datetime64[ns]', freq='D')"
      ]
     },
     "execution_count": 136,
     "metadata": {},
     "output_type": "execute_result"
    }
   ],
   "source": [
    "#<help:dataframe_create>\n",
    "import pandas as pd\n",
    "dates = pd.date_range('20140102',periods=4)\n",
    "dates"
   ]
  },
  {
   "cell_type": "markdown",
   "metadata": {},
   "source": [
    "Create the DataFrame by adding the values, set the index and columns. "
   ]
  },
  {
   "cell_type": "code",
   "execution_count": 137,
   "metadata": {
    "collapsed": false
   },
   "outputs": [
    {
     "data": {
      "text/html": [
       "<div>\n",
       "<table border=\"1\" class=\"dataframe\">\n",
       "  <thead>\n",
       "    <tr style=\"text-align: right;\">\n",
       "      <th></th>\n",
       "      <th>A</th>\n",
       "      <th>B</th>\n",
       "      <th>C</th>\n",
       "      <th>D</th>\n",
       "      <th>E</th>\n",
       "    </tr>\n",
       "  </thead>\n",
       "  <tbody>\n",
       "    <tr>\n",
       "      <th>2014-01-02</th>\n",
       "      <td>-0.831750</td>\n",
       "      <td>0.757271</td>\n",
       "      <td>-0.869368</td>\n",
       "      <td>0.183001</td>\n",
       "      <td>-0.270922</td>\n",
       "    </tr>\n",
       "    <tr>\n",
       "      <th>2014-01-03</th>\n",
       "      <td>-1.595973</td>\n",
       "      <td>-0.256652</td>\n",
       "      <td>-0.050999</td>\n",
       "      <td>1.819811</td>\n",
       "      <td>2.071619</td>\n",
       "    </tr>\n",
       "    <tr>\n",
       "      <th>2014-01-04</th>\n",
       "      <td>-2.246503</td>\n",
       "      <td>-1.903838</td>\n",
       "      <td>-0.121493</td>\n",
       "      <td>0.294257</td>\n",
       "      <td>1.238015</td>\n",
       "    </tr>\n",
       "    <tr>\n",
       "      <th>2014-01-05</th>\n",
       "      <td>0.187230</td>\n",
       "      <td>-0.653564</td>\n",
       "      <td>0.946105</td>\n",
       "      <td>-0.609610</td>\n",
       "      <td>1.125160</td>\n",
       "    </tr>\n",
       "  </tbody>\n",
       "</table>\n",
       "</div>"
      ],
      "text/plain": [
       "                   A         B         C         D         E\n",
       "2014-01-02 -0.831750  0.757271 -0.869368  0.183001 -0.270922\n",
       "2014-01-03 -1.595973 -0.256652 -0.050999  1.819811  2.071619\n",
       "2014-01-04 -2.246503 -1.903838 -0.121493  0.294257  1.238015\n",
       "2014-01-05  0.187230 -0.653564  0.946105 -0.609610  1.125160"
      ]
     },
     "execution_count": 137,
     "metadata": {},
     "output_type": "execute_result"
    }
   ],
   "source": [
    "#<help:dataframe_create>\n",
    "import pandas as pd\n",
    "import numpy as np\n",
    "dates = pd.date_range('20140102',periods=4)\n",
    "df = pd.DataFrame(np.random.randn(4,5),index=dates,columns=list('ABCDE'))\n",
    "df"
   ]
  },
  {
   "cell_type": "markdown",
   "metadata": {},
   "source": [
    "## Head\n",
    "View the top rows of a DataFrame with `head()`. You can configure the number of rows that `head` shows by passing a parameter value. The default (without parameter) is `5`."
   ]
  },
  {
   "cell_type": "code",
   "execution_count": 138,
   "metadata": {
    "collapsed": false
   },
   "outputs": [
    {
     "data": {
      "text/html": [
       "<div>\n",
       "<table border=\"1\" class=\"dataframe\">\n",
       "  <thead>\n",
       "    <tr style=\"text-align: right;\">\n",
       "      <th></th>\n",
       "      <th>A</th>\n",
       "      <th>B</th>\n",
       "      <th>C</th>\n",
       "      <th>D</th>\n",
       "      <th>E</th>\n",
       "    </tr>\n",
       "  </thead>\n",
       "  <tbody>\n",
       "    <tr>\n",
       "      <th>2014-04-02</th>\n",
       "      <td>1.177157</td>\n",
       "      <td>-1.676483</td>\n",
       "      <td>-1.672431</td>\n",
       "      <td>0.225070</td>\n",
       "      <td>-1.255085</td>\n",
       "    </tr>\n",
       "    <tr>\n",
       "      <th>2014-04-03</th>\n",
       "      <td>1.687872</td>\n",
       "      <td>-0.220329</td>\n",
       "      <td>0.691946</td>\n",
       "      <td>-1.784762</td>\n",
       "      <td>-2.085923</td>\n",
       "    </tr>\n",
       "    <tr>\n",
       "      <th>2014-04-04</th>\n",
       "      <td>-1.238302</td>\n",
       "      <td>0.819441</td>\n",
       "      <td>1.713799</td>\n",
       "      <td>-0.021517</td>\n",
       "      <td>-0.149169</td>\n",
       "    </tr>\n",
       "    <tr>\n",
       "      <th>2014-04-05</th>\n",
       "      <td>-0.092308</td>\n",
       "      <td>0.801893</td>\n",
       "      <td>0.633650</td>\n",
       "      <td>0.854329</td>\n",
       "      <td>-0.601070</td>\n",
       "    </tr>\n",
       "    <tr>\n",
       "      <th>2014-04-06</th>\n",
       "      <td>-1.149889</td>\n",
       "      <td>-0.011589</td>\n",
       "      <td>0.280978</td>\n",
       "      <td>-0.441048</td>\n",
       "      <td>1.696261</td>\n",
       "    </tr>\n",
       "  </tbody>\n",
       "</table>\n",
       "</div>"
      ],
      "text/plain": [
       "                   A         B         C         D         E\n",
       "2014-04-02  1.177157 -1.676483 -1.672431  0.225070 -1.255085\n",
       "2014-04-03  1.687872 -0.220329  0.691946 -1.784762 -2.085923\n",
       "2014-04-04 -1.238302  0.819441  1.713799 -0.021517 -0.149169\n",
       "2014-04-05 -0.092308  0.801893  0.633650  0.854329 -0.601070\n",
       "2014-04-06 -1.149889 -0.011589  0.280978 -0.441048  1.696261"
      ]
     },
     "execution_count": 138,
     "metadata": {},
     "output_type": "execute_result"
    }
   ],
   "source": [
    "#<help:dataframe_head>\n",
    "import pandas as pd\n",
    "import numpy as np\n",
    "dates = pd.date_range('20140402',periods=6)\n",
    "df = pd.DataFrame(np.random.randn(6,5),index=dates,columns=list('ABCDE'))\n",
    "df.head()"
   ]
  },
  {
   "cell_type": "markdown",
   "metadata": {},
   "source": [
    "## Tail\n",
    "View the bottom rows of the DataFrame with `tail()`.  You can configure the number of rows that `tail` shows by passing a parameter value. The default (without parameter) is `5`. "
   ]
  },
  {
   "cell_type": "code",
   "execution_count": 139,
   "metadata": {
    "collapsed": false
   },
   "outputs": [
    {
     "data": {
      "text/html": [
       "<div>\n",
       "<table border=\"1\" class=\"dataframe\">\n",
       "  <thead>\n",
       "    <tr style=\"text-align: right;\">\n",
       "      <th></th>\n",
       "      <th>A</th>\n",
       "      <th>B</th>\n",
       "      <th>C</th>\n",
       "      <th>D</th>\n",
       "      <th>E</th>\n",
       "    </tr>\n",
       "  </thead>\n",
       "  <tbody>\n",
       "    <tr>\n",
       "      <th>2014-05-02</th>\n",
       "      <td>0.120337</td>\n",
       "      <td>-0.212058</td>\n",
       "      <td>-0.456558</td>\n",
       "      <td>0.134193</td>\n",
       "      <td>-0.087353</td>\n",
       "    </tr>\n",
       "    <tr>\n",
       "      <th>2014-05-03</th>\n",
       "      <td>-1.313084</td>\n",
       "      <td>1.401797</td>\n",
       "      <td>0.398442</td>\n",
       "      <td>-1.903052</td>\n",
       "      <td>-0.723983</td>\n",
       "    </tr>\n",
       "    <tr>\n",
       "      <th>2014-05-04</th>\n",
       "      <td>-0.785295</td>\n",
       "      <td>-0.591234</td>\n",
       "      <td>-0.437806</td>\n",
       "      <td>-0.732843</td>\n",
       "      <td>0.307817</td>\n",
       "    </tr>\n",
       "    <tr>\n",
       "      <th>2014-05-05</th>\n",
       "      <td>0.941517</td>\n",
       "      <td>0.902961</td>\n",
       "      <td>0.992639</td>\n",
       "      <td>0.439482</td>\n",
       "      <td>0.222202</td>\n",
       "    </tr>\n",
       "    <tr>\n",
       "      <th>2014-05-06</th>\n",
       "      <td>0.267495</td>\n",
       "      <td>-0.364144</td>\n",
       "      <td>-0.312973</td>\n",
       "      <td>0.577474</td>\n",
       "      <td>-0.728805</td>\n",
       "    </tr>\n",
       "  </tbody>\n",
       "</table>\n",
       "</div>"
      ],
      "text/plain": [
       "                   A         B         C         D         E\n",
       "2014-05-02  0.120337 -0.212058 -0.456558  0.134193 -0.087353\n",
       "2014-05-03 -1.313084  1.401797  0.398442 -1.903052 -0.723983\n",
       "2014-05-04 -0.785295 -0.591234 -0.437806 -0.732843  0.307817\n",
       "2014-05-05  0.941517  0.902961  0.992639  0.439482  0.222202\n",
       "2014-05-06  0.267495 -0.364144 -0.312973  0.577474 -0.728805"
      ]
     },
     "execution_count": 139,
     "metadata": {},
     "output_type": "execute_result"
    }
   ],
   "source": [
    "#<help:dataframe_tail>\n",
    "import pandas as pd\n",
    "import numpy as np\n",
    "dates = pd.date_range('20140501',periods=6)\n",
    "df = pd.DataFrame(np.random.randn(6,5),index=dates,columns=list('ABCDE'))\n",
    "df.tail()"
   ]
  },
  {
   "cell_type": "markdown",
   "metadata": {},
   "source": [
    "## Index, Columns, and Values\n",
    "See the index, columns, and values with `data_frame.index`, `data_frame.columns` and `data_frame.values` respectively."
   ]
  },
  {
   "cell_type": "code",
   "execution_count": 140,
   "metadata": {
    "collapsed": false
   },
   "outputs": [
    {
     "data": {
      "text/plain": [
       "DatetimeIndex(['2014-01-02', '2014-01-03', '2014-01-04', '2014-01-05'], dtype='datetime64[ns]', freq='D')"
      ]
     },
     "execution_count": 140,
     "metadata": {},
     "output_type": "execute_result"
    }
   ],
   "source": [
    "#<help:dataframe_index>\n",
    "import pandas as pd\n",
    "import numpy as np\n",
    "dates = pd.date_range('20140102',periods=4)\n",
    "df = pd.DataFrame(np.random.randn(4,5),index=dates,columns=list('ABCDE'))\n",
    "df.index"
   ]
  },
  {
   "cell_type": "markdown",
   "metadata": {},
   "source": [
    "For specific values:"
   ]
  },
  {
   "cell_type": "code",
   "execution_count": 141,
   "metadata": {
    "collapsed": false
   },
   "outputs": [
    {
     "data": {
      "text/plain": [
       "Index([u'A', u'B', u'C', u'D', u'E'], dtype='object')"
      ]
     },
     "execution_count": 141,
     "metadata": {},
     "output_type": "execute_result"
    }
   ],
   "source": [
    "#<help:dataframe_columns>\n",
    "import pandas as pd\n",
    "import numpy as np\n",
    "dates = pd.date_range('20140102',periods=4)\n",
    "df = pd.DataFrame(np.random.randn(4,5),index=dates,columns=list('ABCDE'))\n",
    "df.columns"
   ]
  },
  {
   "cell_type": "code",
   "execution_count": 142,
   "metadata": {
    "collapsed": false
   },
   "outputs": [
    {
     "data": {
      "text/plain": [
       "array([[-0.21187019, -1.51944216, -2.03757131,  0.04181873,  0.03882856],\n",
       "       [ 0.17236137,  0.27351806, -2.58098206, -0.74155918, -1.16990891],\n",
       "       [-2.22854668,  0.15875093,  2.23806565,  0.35220581, -0.21318791],\n",
       "       [ 2.06237226, -0.73299304, -0.84927291, -0.66792171,  0.55998788]])"
      ]
     },
     "execution_count": 142,
     "metadata": {},
     "output_type": "execute_result"
    }
   ],
   "source": [
    "#<help:dataframe_values>\n",
    "import pandas as pd\n",
    "import numpy as np\n",
    "dates = pd.date_range('20140102',periods=4)\n",
    "df = pd.DataFrame(np.random.randn(4,5),index=dates,columns=list('ABCDE'))\n",
    "df.values"
   ]
  },
  {
   "cell_type": "markdown",
   "metadata": {},
   "source": [
    "## Describe Statistics\n",
    "Use `.describe()` to display the mean, median, variance etc. of the data in your DataFrame."
   ]
  },
  {
   "cell_type": "code",
   "execution_count": 143,
   "metadata": {
    "collapsed": false
   },
   "outputs": [
    {
     "data": {
      "text/html": [
       "<div>\n",
       "<table border=\"1\" class=\"dataframe\">\n",
       "  <thead>\n",
       "    <tr style=\"text-align: right;\">\n",
       "      <th></th>\n",
       "      <th>A</th>\n",
       "      <th>B</th>\n",
       "      <th>C</th>\n",
       "      <th>D</th>\n",
       "      <th>E</th>\n",
       "    </tr>\n",
       "  </thead>\n",
       "  <tbody>\n",
       "    <tr>\n",
       "      <th>count</th>\n",
       "      <td>4.000000</td>\n",
       "      <td>4.000000</td>\n",
       "      <td>4.000000</td>\n",
       "      <td>4.000000</td>\n",
       "      <td>4.000000</td>\n",
       "    </tr>\n",
       "    <tr>\n",
       "      <th>mean</th>\n",
       "      <td>0.552783</td>\n",
       "      <td>0.663990</td>\n",
       "      <td>0.501703</td>\n",
       "      <td>-0.353672</td>\n",
       "      <td>-0.218582</td>\n",
       "    </tr>\n",
       "    <tr>\n",
       "      <th>std</th>\n",
       "      <td>0.684388</td>\n",
       "      <td>0.788079</td>\n",
       "      <td>0.781775</td>\n",
       "      <td>1.395093</td>\n",
       "      <td>1.111976</td>\n",
       "    </tr>\n",
       "    <tr>\n",
       "      <th>min</th>\n",
       "      <td>-0.423951</td>\n",
       "      <td>-0.505211</td>\n",
       "      <td>-0.559937</td>\n",
       "      <td>-2.020047</td>\n",
       "      <td>-1.782065</td>\n",
       "    </tr>\n",
       "    <tr>\n",
       "      <th>25%</th>\n",
       "      <td>0.424032</td>\n",
       "      <td>0.556747</td>\n",
       "      <td>0.225854</td>\n",
       "      <td>-1.229141</td>\n",
       "      <td>-0.468511</td>\n",
       "    </tr>\n",
       "    <tr>\n",
       "      <th>50%</th>\n",
       "      <td>0.730002</td>\n",
       "      <td>0.982922</td>\n",
       "      <td>0.637224</td>\n",
       "      <td>-0.197617</td>\n",
       "      <td>0.030988</td>\n",
       "    </tr>\n",
       "    <tr>\n",
       "      <th>75%</th>\n",
       "      <td>0.858753</td>\n",
       "      <td>1.090165</td>\n",
       "      <td>0.913072</td>\n",
       "      <td>0.677852</td>\n",
       "      <td>0.280917</td>\n",
       "    </tr>\n",
       "    <tr>\n",
       "      <th>max</th>\n",
       "      <td>1.175079</td>\n",
       "      <td>1.195326</td>\n",
       "      <td>1.292299</td>\n",
       "      <td>1.000593</td>\n",
       "      <td>0.845760</td>\n",
       "    </tr>\n",
       "  </tbody>\n",
       "</table>\n",
       "</div>"
      ],
      "text/plain": [
       "              A         B         C         D         E\n",
       "count  4.000000  4.000000  4.000000  4.000000  4.000000\n",
       "mean   0.552783  0.663990  0.501703 -0.353672 -0.218582\n",
       "std    0.684388  0.788079  0.781775  1.395093  1.111976\n",
       "min   -0.423951 -0.505211 -0.559937 -2.020047 -1.782065\n",
       "25%    0.424032  0.556747  0.225854 -1.229141 -0.468511\n",
       "50%    0.730002  0.982922  0.637224 -0.197617  0.030988\n",
       "75%    0.858753  1.090165  0.913072  0.677852  0.280917\n",
       "max    1.175079  1.195326  1.292299  1.000593  0.845760"
      ]
     },
     "execution_count": 143,
     "metadata": {},
     "output_type": "execute_result"
    }
   ],
   "source": [
    "#<help:dataframe_describe>\n",
    "import pandas as pd\n",
    "import numpy as np\n",
    "dates = pd.date_range('20140102',periods=4)\n",
    "df = pd.DataFrame(np.random.randn(4,5),index=dates,columns=list('ABCDE'))\n",
    "df.describe()"
   ]
  },
  {
   "cell_type": "markdown",
   "metadata": {},
   "source": [
    "## Transpose Data\n",
    "Transpose rows and columns easily using `DataFrame.T`."
   ]
  },
  {
   "cell_type": "code",
   "execution_count": 144,
   "metadata": {
    "collapsed": false
   },
   "outputs": [
    {
     "data": {
      "text/html": [
       "<div>\n",
       "<table border=\"1\" class=\"dataframe\">\n",
       "  <thead>\n",
       "    <tr style=\"text-align: right;\">\n",
       "      <th></th>\n",
       "      <th>2014-01-02 00:00:00</th>\n",
       "      <th>2014-01-03 00:00:00</th>\n",
       "      <th>2014-01-04 00:00:00</th>\n",
       "      <th>2014-01-05 00:00:00</th>\n",
       "    </tr>\n",
       "  </thead>\n",
       "  <tbody>\n",
       "    <tr>\n",
       "      <th>A</th>\n",
       "      <td>-0.866963</td>\n",
       "      <td>0.810405</td>\n",
       "      <td>0.252459</td>\n",
       "      <td>-0.421007</td>\n",
       "    </tr>\n",
       "    <tr>\n",
       "      <th>B</th>\n",
       "      <td>-0.192787</td>\n",
       "      <td>-0.617179</td>\n",
       "      <td>-0.849610</td>\n",
       "      <td>0.285661</td>\n",
       "    </tr>\n",
       "    <tr>\n",
       "      <th>C</th>\n",
       "      <td>-1.493059</td>\n",
       "      <td>0.643963</td>\n",
       "      <td>0.477278</td>\n",
       "      <td>0.071094</td>\n",
       "    </tr>\n",
       "    <tr>\n",
       "      <th>D</th>\n",
       "      <td>0.089037</td>\n",
       "      <td>-0.386885</td>\n",
       "      <td>-1.347041</td>\n",
       "      <td>-2.725692</td>\n",
       "    </tr>\n",
       "    <tr>\n",
       "      <th>E</th>\n",
       "      <td>-0.602931</td>\n",
       "      <td>0.995186</td>\n",
       "      <td>-1.586848</td>\n",
       "      <td>-0.077377</td>\n",
       "    </tr>\n",
       "  </tbody>\n",
       "</table>\n",
       "</div>"
      ],
      "text/plain": [
       "   2014-01-02  2014-01-03  2014-01-04  2014-01-05\n",
       "A   -0.866963    0.810405    0.252459   -0.421007\n",
       "B   -0.192787   -0.617179   -0.849610    0.285661\n",
       "C   -1.493059    0.643963    0.477278    0.071094\n",
       "D    0.089037   -0.386885   -1.347041   -2.725692\n",
       "E   -0.602931    0.995186   -1.586848   -0.077377"
      ]
     },
     "execution_count": 144,
     "metadata": {},
     "output_type": "execute_result"
    }
   ],
   "source": [
    "#<help:dataframe_transpose>\n",
    "import pandas as pd\n",
    "import numpy as np\n",
    "dates = pd.date_range('20140102',periods=4)\n",
    "df = pd.DataFrame(np.random.randn(4,5),index=dates,columns=list('ABCDE'))\n",
    "df.T"
   ]
  },
  {
   "cell_type": "markdown",
   "metadata": {},
   "source": [
    "## Sort by Index"
   ]
  },
  {
   "cell_type": "code",
   "execution_count": 145,
   "metadata": {
    "collapsed": false
   },
   "outputs": [
    {
     "data": {
      "text/html": [
       "<div>\n",
       "<table border=\"1\" class=\"dataframe\">\n",
       "  <thead>\n",
       "    <tr style=\"text-align: right;\">\n",
       "      <th></th>\n",
       "      <th>A</th>\n",
       "      <th>B</th>\n",
       "      <th>C</th>\n",
       "      <th>D</th>\n",
       "      <th>E</th>\n",
       "    </tr>\n",
       "  </thead>\n",
       "  <tbody>\n",
       "    <tr>\n",
       "      <th>2014-01-02</th>\n",
       "      <td>-1.237866</td>\n",
       "      <td>0.010766</td>\n",
       "      <td>0.457325</td>\n",
       "      <td>0.357253</td>\n",
       "      <td>0.727361</td>\n",
       "    </tr>\n",
       "    <tr>\n",
       "      <th>2014-01-03</th>\n",
       "      <td>0.280173</td>\n",
       "      <td>1.362982</td>\n",
       "      <td>-0.670579</td>\n",
       "      <td>0.639244</td>\n",
       "      <td>-1.466333</td>\n",
       "    </tr>\n",
       "    <tr>\n",
       "      <th>2014-01-04</th>\n",
       "      <td>0.143060</td>\n",
       "      <td>0.488882</td>\n",
       "      <td>-1.488615</td>\n",
       "      <td>0.294249</td>\n",
       "      <td>-0.600822</td>\n",
       "    </tr>\n",
       "    <tr>\n",
       "      <th>2014-01-05</th>\n",
       "      <td>0.534350</td>\n",
       "      <td>-0.465786</td>\n",
       "      <td>0.263021</td>\n",
       "      <td>1.649785</td>\n",
       "      <td>-1.052658</td>\n",
       "    </tr>\n",
       "  </tbody>\n",
       "</table>\n",
       "</div>"
      ],
      "text/plain": [
       "                   A         B         C         D         E\n",
       "2014-01-02 -1.237866  0.010766  0.457325  0.357253  0.727361\n",
       "2014-01-03  0.280173  1.362982 -0.670579  0.639244 -1.466333\n",
       "2014-01-04  0.143060  0.488882 -1.488615  0.294249 -0.600822\n",
       "2014-01-05  0.534350 -0.465786  0.263021  1.649785 -1.052658"
      ]
     },
     "execution_count": 145,
     "metadata": {},
     "output_type": "execute_result"
    }
   ],
   "source": [
    "#<help:dataframe_sort_index>\n",
    "import pandas as pd\n",
    "import numpy as np\n",
    "dates = pd.date_range('20140102',periods=4)\n",
    "df = pd.DataFrame(np.random.randn(4,5),index=dates,columns=list('ABCDE'))\n",
    "df.sort_index(axis=1, ascending=True)"
   ]
  },
  {
   "cell_type": "markdown",
   "metadata": {},
   "source": [
    "## Sort by Columns"
   ]
  },
  {
   "cell_type": "code",
   "execution_count": 146,
   "metadata": {
    "collapsed": false
   },
   "outputs": [
    {
     "name": "stderr",
     "output_type": "stream",
     "text": [
      "/usr/local/lib/python2.7/dist-packages/ipykernel/__main__.py:6: FutureWarning: sort(columns=....) is deprecated, use sort_values(by=.....)\n"
     ]
    },
    {
     "data": {
      "text/html": [
       "<div>\n",
       "<table border=\"1\" class=\"dataframe\">\n",
       "  <thead>\n",
       "    <tr style=\"text-align: right;\">\n",
       "      <th></th>\n",
       "      <th>A</th>\n",
       "      <th>B</th>\n",
       "      <th>C</th>\n",
       "      <th>D</th>\n",
       "      <th>E</th>\n",
       "    </tr>\n",
       "  </thead>\n",
       "  <tbody>\n",
       "    <tr>\n",
       "      <th>2014-01-03</th>\n",
       "      <td>-1.119780</td>\n",
       "      <td>-0.761131</td>\n",
       "      <td>-0.465497</td>\n",
       "      <td>-0.039661</td>\n",
       "      <td>-1.528578</td>\n",
       "    </tr>\n",
       "    <tr>\n",
       "      <th>2014-01-02</th>\n",
       "      <td>-0.050350</td>\n",
       "      <td>1.341218</td>\n",
       "      <td>-0.611043</td>\n",
       "      <td>0.588783</td>\n",
       "      <td>-0.860688</td>\n",
       "    </tr>\n",
       "    <tr>\n",
       "      <th>2014-01-04</th>\n",
       "      <td>0.883134</td>\n",
       "      <td>1.911067</td>\n",
       "      <td>0.330225</td>\n",
       "      <td>0.029393</td>\n",
       "      <td>-2.732584</td>\n",
       "    </tr>\n",
       "    <tr>\n",
       "      <th>2014-01-05</th>\n",
       "      <td>-0.924262</td>\n",
       "      <td>2.331551</td>\n",
       "      <td>-0.454361</td>\n",
       "      <td>-0.232568</td>\n",
       "      <td>1.495385</td>\n",
       "    </tr>\n",
       "  </tbody>\n",
       "</table>\n",
       "</div>"
      ],
      "text/plain": [
       "                   A         B         C         D         E\n",
       "2014-01-03 -1.119780 -0.761131 -0.465497 -0.039661 -1.528578\n",
       "2014-01-02 -0.050350  1.341218 -0.611043  0.588783 -0.860688\n",
       "2014-01-04  0.883134  1.911067  0.330225  0.029393 -2.732584\n",
       "2014-01-05 -0.924262  2.331551 -0.454361 -0.232568  1.495385"
      ]
     },
     "execution_count": 146,
     "metadata": {},
     "output_type": "execute_result"
    }
   ],
   "source": [
    "#<help:dataframe_sort_columns>\n",
    "import pandas as pd\n",
    "import numpy as np\n",
    "dates = pd.date_range('20140102',periods=4)\n",
    "df = pd.DataFrame(np.random.randn(4,5),index=dates,columns=list('ABCDE'))\n",
    "df.sort(columns='B')"
   ]
  },
  {
   "cell_type": "markdown",
   "metadata": {},
   "source": [
    "# Selection\n",
    "Find and select data, slice, locate by columns or values. These operations make pandas very similar to SQL in terms of querying information. The `.loc` attribute is the primary access method. The following are valid inputs:\n",
    "\n",
    "* A single label, e.g. `5` or 'a' (Note that `5` is interpreted as a label of the index. This use is not an integer position along the index.)\n",
    "* A list or array of labels ['a', 'b', 'c']\n",
    "* A slice object with labels 'a':'f' (note that contrary to usual python slices, both the start and the stop are included!)\n",
    "* A boolean array"
   ]
  },
  {
   "cell_type": "markdown",
   "metadata": {},
   "source": [
    "## Select\n",
    "Select columns by label."
   ]
  },
  {
   "cell_type": "code",
   "execution_count": 147,
   "metadata": {
    "collapsed": false
   },
   "outputs": [
    {
     "data": {
      "text/html": [
       "<div>\n",
       "<table border=\"1\" class=\"dataframe\">\n",
       "  <thead>\n",
       "    <tr style=\"text-align: right;\">\n",
       "      <th></th>\n",
       "      <th>A</th>\n",
       "      <th>E</th>\n",
       "    </tr>\n",
       "  </thead>\n",
       "  <tbody>\n",
       "    <tr>\n",
       "      <th>2014-01-02</th>\n",
       "      <td>-1.180756</td>\n",
       "      <td>-0.716714</td>\n",
       "    </tr>\n",
       "    <tr>\n",
       "      <th>2014-01-03</th>\n",
       "      <td>-1.123342</td>\n",
       "      <td>0.033169</td>\n",
       "    </tr>\n",
       "    <tr>\n",
       "      <th>2014-01-04</th>\n",
       "      <td>-1.456421</td>\n",
       "      <td>1.761065</td>\n",
       "    </tr>\n",
       "    <tr>\n",
       "      <th>2014-01-05</th>\n",
       "      <td>1.025421</td>\n",
       "      <td>-1.240572</td>\n",
       "    </tr>\n",
       "  </tbody>\n",
       "</table>\n",
       "</div>"
      ],
      "text/plain": [
       "                   A         E\n",
       "2014-01-02 -1.180756 -0.716714\n",
       "2014-01-03 -1.123342  0.033169\n",
       "2014-01-04 -1.456421  1.761065\n",
       "2014-01-05  1.025421 -1.240572"
      ]
     },
     "execution_count": 147,
     "metadata": {},
     "output_type": "execute_result"
    }
   ],
   "source": [
    "#<help:dataframe_select_cols>\n",
    "import pandas as pd\n",
    "import numpy as np\n",
    "dates = pd.date_range('20140102',periods=4)\n",
    "df = pd.DataFrame(np.random.randn(4,5),index=dates,columns=list('ABCDE'))\n",
    "df[['A','E']]"
   ]
  },
  {
   "cell_type": "markdown",
   "metadata": {},
   "source": [
    "Select row by label."
   ]
  },
  {
   "cell_type": "code",
   "execution_count": 148,
   "metadata": {
    "collapsed": false
   },
   "outputs": [
    {
     "data": {
      "text/plain": [
       "A   -0.440639\n",
       "B   -1.456126\n",
       "C    0.247525\n",
       "D   -0.640072\n",
       "E    2.139927\n",
       "Name: 2014-01-02 00:00:00, dtype: float64"
      ]
     },
     "execution_count": 148,
     "metadata": {},
     "output_type": "execute_result"
    }
   ],
   "source": [
    "#<help:dataframe_select_row>\n",
    "import pandas as pd\n",
    "import numpy as np\n",
    "dates = pd.date_range('20140102',periods=4)\n",
    "df = pd.DataFrame(np.random.randn(4,5),index=dates,columns=list('ABCDE'))\n",
    "df.loc['20140102']"
   ]
  },
  {
   "cell_type": "markdown",
   "metadata": {},
   "source": [
    "Selection row by index."
   ]
  },
  {
   "cell_type": "code",
   "execution_count": 149,
   "metadata": {
    "collapsed": false
   },
   "outputs": [
    {
     "data": {
      "text/plain": [
       "A    1.235458\n",
       "B    0.610263\n",
       "C    0.956149\n",
       "D   -1.230983\n",
       "E    0.284060\n",
       "Name: 2014-01-05 00:00:00, dtype: float64"
      ]
     },
     "execution_count": 149,
     "metadata": {},
     "output_type": "execute_result"
    }
   ],
   "source": [
    "#<help:dataframe_select_row_pos>\n",
    "import pandas as pd\n",
    "import numpy as np\n",
    "dates = pd.date_range('20140102',periods=4)\n",
    "df = pd.DataFrame(np.random.randn(4,5),index=dates,columns=list('ABCDE'))\n",
    "df.iloc[3]"
   ]
  },
  {
   "cell_type": "markdown",
   "metadata": {},
   "source": [
    "Select row and columns by labels."
   ]
  },
  {
   "cell_type": "code",
   "execution_count": 150,
   "metadata": {
    "collapsed": false
   },
   "outputs": [
    {
     "data": {
      "text/plain": [
       "0.28032400878530389"
      ]
     },
     "execution_count": 150,
     "metadata": {},
     "output_type": "execute_result"
    }
   ],
   "source": [
    "#<help:dataframe_select_row_col>\n",
    "import pandas as pd\n",
    "import numpy as np\n",
    "dates = pd.date_range('20140102',periods=4)\n",
    "df = pd.DataFrame(np.random.randn(4,5),index=dates,columns=list('ABCDE'))\n",
    "df.loc['20140102','E']"
   ]
  },
  {
   "cell_type": "code",
   "execution_count": 151,
   "metadata": {
    "collapsed": false
   },
   "outputs": [
    {
     "data": {
      "text/plain": [
       "-0.45974668902448423"
      ]
     },
     "execution_count": 151,
     "metadata": {},
     "output_type": "execute_result"
    }
   ],
   "source": [
    "#<help:dataframe_select_row_col_pos>\n",
    "import pandas as pd\n",
    "import numpy as np\n",
    "dates = pd.date_range('20140102',periods=4)\n",
    "df = pd.DataFrame(np.random.randn(4,5),index=dates,columns=list('ABCDE'))\n",
    "df.iloc[1,1]"
   ]
  },
  {
   "cell_type": "code",
   "execution_count": 152,
   "metadata": {
    "collapsed": false
   },
   "outputs": [
    {
     "data": {
      "text/plain": [
       "0.21999468695033994"
      ]
     },
     "execution_count": 152,
     "metadata": {},
     "output_type": "execute_result"
    }
   ],
   "source": [
    "#<help:dataframe_select_row_col_pos>\n",
    "import pandas as pd\n",
    "import numpy as np\n",
    "dates = pd.date_range('20140102',periods=4)\n",
    "df = pd.DataFrame(np.random.randn(4,5),index=dates,columns=list('ABCDE'))\n",
    "df.iat[1,1]"
   ]
  },
  {
   "cell_type": "code",
   "execution_count": 153,
   "metadata": {
    "collapsed": false
   },
   "outputs": [
    {
     "data": {
      "text/plain": [
       "A    0.854952\n",
       "D    2.102117\n",
       "Name: 2014-01-02 00:00:00, dtype: float64"
      ]
     },
     "execution_count": 153,
     "metadata": {},
     "output_type": "execute_result"
    }
   ],
   "source": [
    "#<help:dataframe_select_row_cols>\n",
    "import pandas as pd\n",
    "import numpy as np\n",
    "dates = pd.date_range('20140102',periods=4)\n",
    "df = pd.DataFrame(np.random.randn(4,5),index=dates,columns=list('ABCDE'))\n",
    "df.loc['20140102',['A','D']]"
   ]
  },
  {
   "cell_type": "code",
   "execution_count": 154,
   "metadata": {
    "collapsed": false
   },
   "outputs": [
    {
     "data": {
      "text/html": [
       "<div>\n",
       "<table border=\"1\" class=\"dataframe\">\n",
       "  <thead>\n",
       "    <tr style=\"text-align: right;\">\n",
       "      <th></th>\n",
       "      <th>A</th>\n",
       "      <th>C</th>\n",
       "    </tr>\n",
       "  </thead>\n",
       "  <tbody>\n",
       "    <tr>\n",
       "      <th>2014-01-03</th>\n",
       "      <td>0.124844</td>\n",
       "      <td>-0.732488</td>\n",
       "    </tr>\n",
       "    <tr>\n",
       "      <th>2014-01-04</th>\n",
       "      <td>-0.175387</td>\n",
       "      <td>-1.039364</td>\n",
       "    </tr>\n",
       "    <tr>\n",
       "      <th>2014-01-05</th>\n",
       "      <td>-0.298749</td>\n",
       "      <td>-0.066001</td>\n",
       "    </tr>\n",
       "  </tbody>\n",
       "</table>\n",
       "</div>"
      ],
      "text/plain": [
       "                   A         C\n",
       "2014-01-03  0.124844 -0.732488\n",
       "2014-01-04 -0.175387 -1.039364\n",
       "2014-01-05 -0.298749 -0.066001"
      ]
     },
     "execution_count": 154,
     "metadata": {},
     "output_type": "execute_result"
    }
   ],
   "source": [
    "#<help:dataframe_select_rows_cols_pos>\n",
    "import pandas as pd\n",
    "import numpy as np\n",
    "dates = pd.date_range('20140102',periods=4)\n",
    "df = pd.DataFrame(np.random.randn(4,5),index=dates,columns=list('ABCDE'))\n",
    "df.iloc[[1,2,3],[0,2]]"
   ]
  },
  {
   "cell_type": "markdown",
   "metadata": {},
   "source": [
    "## Slice\n",
    "Select rows of a DataFrame by slicing."
   ]
  },
  {
   "cell_type": "code",
   "execution_count": 155,
   "metadata": {
    "collapsed": false
   },
   "outputs": [
    {
     "data": {
      "text/html": [
       "<div>\n",
       "<table border=\"1\" class=\"dataframe\">\n",
       "  <thead>\n",
       "    <tr style=\"text-align: right;\">\n",
       "      <th></th>\n",
       "      <th>A</th>\n",
       "      <th>B</th>\n",
       "      <th>C</th>\n",
       "      <th>D</th>\n",
       "      <th>E</th>\n",
       "    </tr>\n",
       "  </thead>\n",
       "  <tbody>\n",
       "    <tr>\n",
       "      <th>2014-01-03</th>\n",
       "      <td>-1.359702</td>\n",
       "      <td>0.451618</td>\n",
       "      <td>1.501799</td>\n",
       "      <td>-0.142622</td>\n",
       "      <td>0.187381</td>\n",
       "    </tr>\n",
       "    <tr>\n",
       "      <th>2014-01-04</th>\n",
       "      <td>-0.577543</td>\n",
       "      <td>0.841912</td>\n",
       "      <td>-1.730890</td>\n",
       "      <td>-1.984779</td>\n",
       "      <td>-0.515848</td>\n",
       "    </tr>\n",
       "    <tr>\n",
       "      <th>2014-01-05</th>\n",
       "      <td>1.675814</td>\n",
       "      <td>-0.896542</td>\n",
       "      <td>2.215158</td>\n",
       "      <td>-0.038421</td>\n",
       "      <td>0.272462</td>\n",
       "    </tr>\n",
       "  </tbody>\n",
       "</table>\n",
       "</div>"
      ],
      "text/plain": [
       "                   A         B         C         D         E\n",
       "2014-01-03 -1.359702  0.451618  1.501799 -0.142622  0.187381\n",
       "2014-01-04 -0.577543  0.841912 -1.730890 -1.984779 -0.515848\n",
       "2014-01-05  1.675814 -0.896542  2.215158 -0.038421  0.272462"
      ]
     },
     "execution_count": 155,
     "metadata": {},
     "output_type": "execute_result"
    }
   ],
   "source": [
    "#<help:dataframe_slice_rows>\n",
    "import pandas as pd\n",
    "import numpy as np\n",
    "dates = pd.date_range('20140102',periods=4)\n",
    "df = pd.DataFrame(np.random.randn(4,5),index=dates,columns=list('ABCDE'))\n",
    "df[1:4]"
   ]
  },
  {
   "cell_type": "code",
   "execution_count": 156,
   "metadata": {
    "collapsed": false
   },
   "outputs": [
    {
     "data": {
      "text/html": [
       "<div>\n",
       "<table border=\"1\" class=\"dataframe\">\n",
       "  <thead>\n",
       "    <tr style=\"text-align: right;\">\n",
       "      <th></th>\n",
       "      <th>B</th>\n",
       "      <th>D</th>\n",
       "    </tr>\n",
       "  </thead>\n",
       "  <tbody>\n",
       "    <tr>\n",
       "      <th>2014-01-02</th>\n",
       "      <td>0.816612</td>\n",
       "      <td>1.490394</td>\n",
       "    </tr>\n",
       "    <tr>\n",
       "      <th>2014-01-03</th>\n",
       "      <td>-0.221483</td>\n",
       "      <td>-0.581343</td>\n",
       "    </tr>\n",
       "    <tr>\n",
       "      <th>2014-01-04</th>\n",
       "      <td>0.721491</td>\n",
       "      <td>1.163365</td>\n",
       "    </tr>\n",
       "    <tr>\n",
       "      <th>2014-01-05</th>\n",
       "      <td>1.397116</td>\n",
       "      <td>-1.183660</td>\n",
       "    </tr>\n",
       "  </tbody>\n",
       "</table>\n",
       "</div>"
      ],
      "text/plain": [
       "                   B         D\n",
       "2014-01-02  0.816612  1.490394\n",
       "2014-01-03 -0.221483 -0.581343\n",
       "2014-01-04  0.721491  1.163365\n",
       "2014-01-05  1.397116 -1.183660"
      ]
     },
     "execution_count": 156,
     "metadata": {},
     "output_type": "execute_result"
    }
   ],
   "source": [
    "#<help:dataframe_slice_rows_cols>\n",
    "import pandas as pd\n",
    "import numpy as np\n",
    "dates = pd.date_range('20140102',periods=4)\n",
    "df = pd.DataFrame(np.random.randn(4,5),index=dates,columns=list('ABCDE'))\n",
    "df.loc[:,['B','D']]"
   ]
  },
  {
   "cell_type": "code",
   "execution_count": 157,
   "metadata": {
    "collapsed": false
   },
   "outputs": [
    {
     "data": {
      "text/html": [
       "<div>\n",
       "<table border=\"1\" class=\"dataframe\">\n",
       "  <thead>\n",
       "    <tr style=\"text-align: right;\">\n",
       "      <th></th>\n",
       "      <th>B</th>\n",
       "      <th>E</th>\n",
       "    </tr>\n",
       "  </thead>\n",
       "  <tbody>\n",
       "    <tr>\n",
       "      <th>2014-01-02</th>\n",
       "      <td>-0.512961</td>\n",
       "      <td>-0.394944</td>\n",
       "    </tr>\n",
       "    <tr>\n",
       "      <th>2014-01-03</th>\n",
       "      <td>1.356101</td>\n",
       "      <td>-1.449406</td>\n",
       "    </tr>\n",
       "    <tr>\n",
       "      <th>2014-01-04</th>\n",
       "      <td>1.713521</td>\n",
       "      <td>0.463199</td>\n",
       "    </tr>\n",
       "  </tbody>\n",
       "</table>\n",
       "</div>"
      ],
      "text/plain": [
       "                   B         E\n",
       "2014-01-02 -0.512961 -0.394944\n",
       "2014-01-03  1.356101 -1.449406\n",
       "2014-01-04  1.713521  0.463199"
      ]
     },
     "execution_count": 157,
     "metadata": {},
     "output_type": "execute_result"
    }
   ],
   "source": [
    "#<help:dataframe_slice_rows_cols>\n",
    "import pandas as pd\n",
    "import numpy as np\n",
    "dates = pd.date_range('20140102',periods=4)\n",
    "df = pd.DataFrame(np.random.randn(4,5),index=dates,columns=list('ABCDE'))\n",
    "df.loc['20140102':'20140104',['B','E']]"
   ]
  },
  {
   "cell_type": "markdown",
   "metadata": {},
   "source": [
    "Slice rows and columns by index value."
   ]
  },
  {
   "cell_type": "code",
   "execution_count": 158,
   "metadata": {
    "collapsed": false
   },
   "outputs": [
    {
     "data": {
      "text/html": [
       "<div>\n",
       "<table border=\"1\" class=\"dataframe\">\n",
       "  <thead>\n",
       "    <tr style=\"text-align: right;\">\n",
       "      <th></th>\n",
       "      <th>A</th>\n",
       "      <th>B</th>\n",
       "      <th>C</th>\n",
       "      <th>D</th>\n",
       "      <th>E</th>\n",
       "    </tr>\n",
       "  </thead>\n",
       "  <tbody>\n",
       "    <tr>\n",
       "      <th>2014-01-03</th>\n",
       "      <td>1.089617</td>\n",
       "      <td>-0.233766</td>\n",
       "      <td>-0.767904</td>\n",
       "      <td>-2.566380</td>\n",
       "      <td>0.895573</td>\n",
       "    </tr>\n",
       "    <tr>\n",
       "      <th>2014-01-04</th>\n",
       "      <td>0.531454</td>\n",
       "      <td>1.182347</td>\n",
       "      <td>1.064194</td>\n",
       "      <td>-0.812967</td>\n",
       "      <td>-0.681940</td>\n",
       "    </tr>\n",
       "  </tbody>\n",
       "</table>\n",
       "</div>"
      ],
      "text/plain": [
       "                   A         B         C         D         E\n",
       "2014-01-03  1.089617 -0.233766 -0.767904 -2.566380  0.895573\n",
       "2014-01-04  0.531454  1.182347  1.064194 -0.812967 -0.681940"
      ]
     },
     "execution_count": 158,
     "metadata": {},
     "output_type": "execute_result"
    }
   ],
   "source": [
    "#<help:dataframe_slice_rows_cols_pos>\n",
    "import pandas as pd\n",
    "import numpy as np\n",
    "dates = pd.date_range('20140102',periods=4)\n",
    "df = pd.DataFrame(np.random.randn(4,5),index=dates,columns=list('ABCDE'))\n",
    "df.iloc[1:3,:]"
   ]
  },
  {
   "cell_type": "code",
   "execution_count": 159,
   "metadata": {
    "collapsed": false
   },
   "outputs": [
    {
     "data": {
      "text/html": [
       "<div>\n",
       "<table border=\"1\" class=\"dataframe\">\n",
       "  <thead>\n",
       "    <tr style=\"text-align: right;\">\n",
       "      <th></th>\n",
       "      <th>B</th>\n",
       "      <th>C</th>\n",
       "    </tr>\n",
       "  </thead>\n",
       "  <tbody>\n",
       "    <tr>\n",
       "      <th>2014-01-02</th>\n",
       "      <td>0.265375</td>\n",
       "      <td>0.725750</td>\n",
       "    </tr>\n",
       "    <tr>\n",
       "      <th>2014-01-03</th>\n",
       "      <td>1.045745</td>\n",
       "      <td>1.288111</td>\n",
       "    </tr>\n",
       "    <tr>\n",
       "      <th>2014-01-04</th>\n",
       "      <td>1.352419</td>\n",
       "      <td>0.291885</td>\n",
       "    </tr>\n",
       "    <tr>\n",
       "      <th>2014-01-05</th>\n",
       "      <td>-1.621690</td>\n",
       "      <td>-0.922121</td>\n",
       "    </tr>\n",
       "  </tbody>\n",
       "</table>\n",
       "</div>"
      ],
      "text/plain": [
       "                   B         C\n",
       "2014-01-02  0.265375  0.725750\n",
       "2014-01-03  1.045745  1.288111\n",
       "2014-01-04  1.352419  0.291885\n",
       "2014-01-05 -1.621690 -0.922121"
      ]
     },
     "execution_count": 159,
     "metadata": {},
     "output_type": "execute_result"
    }
   ],
   "source": [
    "#<help:dataframe_slice_rows_cols_pos>\n",
    "import pandas as pd\n",
    "import numpy as np\n",
    "dates = pd.date_range('20140102',periods=4)\n",
    "df = pd.DataFrame(np.random.randn(4,5),index=dates,columns=list('ABCDE'))\n",
    "df.iloc[:,1:3]"
   ]
  },
  {
   "cell_type": "code",
   "execution_count": 160,
   "metadata": {
    "collapsed": false
   },
   "outputs": [
    {
     "data": {
      "text/html": [
       "<div>\n",
       "<table border=\"1\" class=\"dataframe\">\n",
       "  <thead>\n",
       "    <tr style=\"text-align: right;\">\n",
       "      <th></th>\n",
       "      <th>A</th>\n",
       "      <th>B</th>\n",
       "    </tr>\n",
       "  </thead>\n",
       "  <tbody>\n",
       "    <tr>\n",
       "      <th>2014-01-05</th>\n",
       "      <td>-1.133183</td>\n",
       "      <td>-0.10004</td>\n",
       "    </tr>\n",
       "  </tbody>\n",
       "</table>\n",
       "</div>"
      ],
      "text/plain": [
       "                   A        B\n",
       "2014-01-05 -1.133183 -0.10004"
      ]
     },
     "execution_count": 160,
     "metadata": {},
     "output_type": "execute_result"
    }
   ],
   "source": [
    "#<help:dataframe_slice_rows_cols_pos>\n",
    "import pandas as pd\n",
    "import numpy as np\n",
    "dates = pd.date_range('20140102',periods=4)\n",
    "df = pd.DataFrame(np.random.randn(4,5),index=dates,columns=list('ABCDE'))\n",
    "df.iloc[3:4,0:2]"
   ]
  },
  {
   "cell_type": "markdown",
   "metadata": {},
   "source": [
    "## Index\n",
    "Filter DataFrame contents using vector masks."
   ]
  },
  {
   "cell_type": "markdown",
   "metadata": {},
   "source": [
    "Filter DataFrame using logical expressions."
   ]
  },
  {
   "cell_type": "code",
   "execution_count": 161,
   "metadata": {
    "collapsed": false
   },
   "outputs": [
    {
     "data": {
      "text/html": [
       "<div>\n",
       "<table border=\"1\" class=\"dataframe\">\n",
       "  <thead>\n",
       "    <tr style=\"text-align: right;\">\n",
       "      <th></th>\n",
       "      <th>A</th>\n",
       "      <th>B</th>\n",
       "      <th>C</th>\n",
       "      <th>D</th>\n",
       "      <th>E</th>\n",
       "    </tr>\n",
       "  </thead>\n",
       "  <tbody>\n",
       "    <tr>\n",
       "      <th>2014-01-03</th>\n",
       "      <td>0.943930</td>\n",
       "      <td>0.108503</td>\n",
       "      <td>0.259702</td>\n",
       "      <td>-0.223904</td>\n",
       "      <td>0.721084</td>\n",
       "    </tr>\n",
       "    <tr>\n",
       "      <th>2014-01-05</th>\n",
       "      <td>1.275404</td>\n",
       "      <td>2.010501</td>\n",
       "      <td>0.309467</td>\n",
       "      <td>0.877791</td>\n",
       "      <td>0.383743</td>\n",
       "    </tr>\n",
       "  </tbody>\n",
       "</table>\n",
       "</div>"
      ],
      "text/plain": [
       "                   A         B         C         D         E\n",
       "2014-01-03  0.943930  0.108503  0.259702 -0.223904  0.721084\n",
       "2014-01-05  1.275404  2.010501  0.309467  0.877791  0.383743"
      ]
     },
     "execution_count": 161,
     "metadata": {},
     "output_type": "execute_result"
    }
   ],
   "source": [
    "#<help:dataframe_index_boolean>\n",
    "import pandas as pd\n",
    "import numpy as np\n",
    "dates = pd.date_range('20140102',periods=4)\n",
    "df = pd.DataFrame(np.random.randn(4,5),index=dates,columns=list('ABCDE'))\n",
    "df[df.A > 0]"
   ]
  },
  {
   "cell_type": "code",
   "execution_count": 162,
   "metadata": {
    "collapsed": false
   },
   "outputs": [
    {
     "data": {
      "text/html": [
       "<div>\n",
       "<table border=\"1\" class=\"dataframe\">\n",
       "  <thead>\n",
       "    <tr style=\"text-align: right;\">\n",
       "      <th></th>\n",
       "      <th>A</th>\n",
       "      <th>B</th>\n",
       "      <th>C</th>\n",
       "      <th>D</th>\n",
       "    </tr>\n",
       "  </thead>\n",
       "  <tbody>\n",
       "    <tr>\n",
       "      <th>0</th>\n",
       "      <td>foo</td>\n",
       "      <td>one</td>\n",
       "      <td>0.587773</td>\n",
       "      <td>-0.015298</td>\n",
       "    </tr>\n",
       "    <tr>\n",
       "      <th>2</th>\n",
       "      <td>foo</td>\n",
       "      <td>two</td>\n",
       "      <td>1.102010</td>\n",
       "      <td>-2.335911</td>\n",
       "    </tr>\n",
       "    <tr>\n",
       "      <th>4</th>\n",
       "      <td>foo</td>\n",
       "      <td>two</td>\n",
       "      <td>2.119049</td>\n",
       "      <td>-0.439791</td>\n",
       "    </tr>\n",
       "    <tr>\n",
       "      <th>6</th>\n",
       "      <td>foo</td>\n",
       "      <td>one</td>\n",
       "      <td>-1.357915</td>\n",
       "      <td>0.408189</td>\n",
       "    </tr>\n",
       "    <tr>\n",
       "      <th>7</th>\n",
       "      <td>foo</td>\n",
       "      <td>three</td>\n",
       "      <td>1.280248</td>\n",
       "      <td>-0.359982</td>\n",
       "    </tr>\n",
       "  </tbody>\n",
       "</table>\n",
       "</div>"
      ],
      "text/plain": [
       "     A      B         C         D\n",
       "0  foo    one  0.587773 -0.015298\n",
       "2  foo    two  1.102010 -2.335911\n",
       "4  foo    two  2.119049 -0.439791\n",
       "6  foo    one -1.357915  0.408189\n",
       "7  foo  three  1.280248 -0.359982"
      ]
     },
     "execution_count": 162,
     "metadata": {},
     "output_type": "execute_result"
    }
   ],
   "source": [
    "#<help:dataframe_index_boolean>\n",
    "import pandas as pd\n",
    "import numpy as np\n",
    "dates = pd.date_range('20140102',periods=4)\n",
    "\n",
    "df = pd.DataFrame({'A' : ['foo', 'bar', 'foo', 'bar', 'foo', 'bar', 'foo', 'foo'],\n",
    "                'B' : ['one', 'one', 'two', 'three', 'two', 'two', 'one', 'three'],\n",
    "                'C' : np.random.randn(8), 'D' : np.random.randn(8)})\n",
    "\n",
    "df[df['A'] == 'foo']"
   ]
  },
  {
   "cell_type": "markdown",
   "metadata": {},
   "source": [
    "Filter DataFrame using multiple logical expressions."
   ]
  },
  {
   "cell_type": "code",
   "execution_count": 163,
   "metadata": {
    "collapsed": false
   },
   "outputs": [
    {
     "data": {
      "text/html": [
       "<div>\n",
       "<table border=\"1\" class=\"dataframe\">\n",
       "  <thead>\n",
       "    <tr style=\"text-align: right;\">\n",
       "      <th></th>\n",
       "      <th>A</th>\n",
       "      <th>B</th>\n",
       "      <th>C</th>\n",
       "      <th>D</th>\n",
       "    </tr>\n",
       "  </thead>\n",
       "  <tbody>\n",
       "    <tr>\n",
       "      <th>0</th>\n",
       "      <td>foo</td>\n",
       "      <td>one</td>\n",
       "      <td>0.760242</td>\n",
       "      <td>0.786295</td>\n",
       "    </tr>\n",
       "    <tr>\n",
       "      <th>6</th>\n",
       "      <td>foo</td>\n",
       "      <td>one</td>\n",
       "      <td>-1.321512</td>\n",
       "      <td>1.089770</td>\n",
       "    </tr>\n",
       "  </tbody>\n",
       "</table>\n",
       "</div>"
      ],
      "text/plain": [
       "     A    B         C         D\n",
       "0  foo  one  0.760242  0.786295\n",
       "6  foo  one -1.321512  1.089770"
      ]
     },
     "execution_count": 163,
     "metadata": {},
     "output_type": "execute_result"
    }
   ],
   "source": [
    "#<help:dataframe_index_boolean_multiple>\n",
    "import pandas as pd\n",
    "import numpy as np\n",
    "dates = pd.date_range('20140102',periods=4)\n",
    "\n",
    "df = pd.DataFrame({'A' : ['foo', 'bar', 'foo', 'bar', 'foo', 'bar', 'foo', 'foo'],\n",
    "                'B' : ['one', 'one', 'two', 'three', 'two', 'two', 'one', 'three'],\n",
    "                'C' : np.random.randn(8), 'D' : np.random.randn(8)})\n",
    "\n",
    "df[(df['A'] == 'foo') & (df['B'] == 'one')]"
   ]
  },
  {
   "cell_type": "markdown",
   "metadata": {},
   "source": [
    "## Built-in Methods"
   ]
  },
  {
   "cell_type": "markdown",
   "metadata": {},
   "source": [
    "Filter DataFrame using `isin` method."
   ]
  },
  {
   "cell_type": "code",
   "execution_count": 164,
   "metadata": {
    "collapsed": false
   },
   "outputs": [
    {
     "data": {
      "text/html": [
       "<div>\n",
       "<table border=\"1\" class=\"dataframe\">\n",
       "  <thead>\n",
       "    <tr style=\"text-align: right;\">\n",
       "      <th></th>\n",
       "      <th>A</th>\n",
       "      <th>B</th>\n",
       "      <th>C</th>\n",
       "      <th>D</th>\n",
       "    </tr>\n",
       "  </thead>\n",
       "  <tbody>\n",
       "    <tr>\n",
       "      <th>2</th>\n",
       "      <td>foo</td>\n",
       "      <td>two</td>\n",
       "      <td>1.558978</td>\n",
       "      <td>-0.294752</td>\n",
       "    </tr>\n",
       "    <tr>\n",
       "      <th>3</th>\n",
       "      <td>bar</td>\n",
       "      <td>three</td>\n",
       "      <td>-1.049997</td>\n",
       "      <td>-0.169673</td>\n",
       "    </tr>\n",
       "    <tr>\n",
       "      <th>4</th>\n",
       "      <td>foo</td>\n",
       "      <td>two</td>\n",
       "      <td>1.853689</td>\n",
       "      <td>-0.401266</td>\n",
       "    </tr>\n",
       "    <tr>\n",
       "      <th>5</th>\n",
       "      <td>bar</td>\n",
       "      <td>two</td>\n",
       "      <td>-0.811671</td>\n",
       "      <td>0.650788</td>\n",
       "    </tr>\n",
       "    <tr>\n",
       "      <th>7</th>\n",
       "      <td>foo</td>\n",
       "      <td>three</td>\n",
       "      <td>0.064600</td>\n",
       "      <td>1.796982</td>\n",
       "    </tr>\n",
       "  </tbody>\n",
       "</table>\n",
       "</div>"
      ],
      "text/plain": [
       "     A      B         C         D\n",
       "2  foo    two  1.558978 -0.294752\n",
       "3  bar  three -1.049997 -0.169673\n",
       "4  foo    two  1.853689 -0.401266\n",
       "5  bar    two -0.811671  0.650788\n",
       "7  foo  three  0.064600  1.796982"
      ]
     },
     "execution_count": 164,
     "metadata": {},
     "output_type": "execute_result"
    }
   ],
   "source": [
    "#<help:dataframe_index_isin>\n",
    "import pandas as pd\n",
    "import numpy as np\n",
    "dates = pd.date_range('20140102',periods=4)\n",
    "\n",
    "df = pd.DataFrame({'A' : ['foo', 'bar', 'foo', 'bar', 'foo', 'bar', 'foo', 'foo'],\n",
    "                'B' : ['one', 'one', 'two', 'three', 'two', 'two', 'one', 'three'],\n",
    "                'C' : np.random.randn(8), 'D' : np.random.randn(8)})\n",
    "\n",
    "df[df['B'].isin(['two','three'])]"
   ]
  },
  {
   "cell_type": "markdown",
   "metadata": {},
   "source": [
    "# Assignment\n",
    "Assign vector values to DataFrame columns."
   ]
  },
  {
   "cell_type": "code",
   "execution_count": 165,
   "metadata": {
    "collapsed": false
   },
   "outputs": [
    {
     "data": {
      "text/html": [
       "<div>\n",
       "<table border=\"1\" class=\"dataframe\">\n",
       "  <thead>\n",
       "    <tr style=\"text-align: right;\">\n",
       "      <th></th>\n",
       "      <th>A</th>\n",
       "      <th>B</th>\n",
       "      <th>C</th>\n",
       "      <th>D</th>\n",
       "      <th>E</th>\n",
       "      <th>F</th>\n",
       "    </tr>\n",
       "  </thead>\n",
       "  <tbody>\n",
       "    <tr>\n",
       "      <th>2014-01-02</th>\n",
       "      <td>-1.220128</td>\n",
       "      <td>-1.606248</td>\n",
       "      <td>0.151842</td>\n",
       "      <td>0.628282</td>\n",
       "      <td>0.956948</td>\n",
       "      <td>1</td>\n",
       "    </tr>\n",
       "    <tr>\n",
       "      <th>2014-01-03</th>\n",
       "      <td>0.916684</td>\n",
       "      <td>-0.919846</td>\n",
       "      <td>-1.307236</td>\n",
       "      <td>0.320156</td>\n",
       "      <td>1.684954</td>\n",
       "      <td>2</td>\n",
       "    </tr>\n",
       "    <tr>\n",
       "      <th>2014-01-04</th>\n",
       "      <td>0.845531</td>\n",
       "      <td>0.034753</td>\n",
       "      <td>0.419743</td>\n",
       "      <td>0.994225</td>\n",
       "      <td>-0.716088</td>\n",
       "      <td>3</td>\n",
       "    </tr>\n",
       "    <tr>\n",
       "      <th>2014-01-05</th>\n",
       "      <td>-1.351443</td>\n",
       "      <td>-0.639890</td>\n",
       "      <td>0.409063</td>\n",
       "      <td>0.253271</td>\n",
       "      <td>1.340414</td>\n",
       "      <td>4</td>\n",
       "    </tr>\n",
       "  </tbody>\n",
       "</table>\n",
       "</div>"
      ],
      "text/plain": [
       "                   A         B         C         D         E  F\n",
       "2014-01-02 -1.220128 -1.606248  0.151842  0.628282  0.956948  1\n",
       "2014-01-03  0.916684 -0.919846 -1.307236  0.320156  1.684954  2\n",
       "2014-01-04  0.845531  0.034753  0.419743  0.994225 -0.716088  3\n",
       "2014-01-05 -1.351443 -0.639890  0.409063  0.253271  1.340414  4"
      ]
     },
     "execution_count": 165,
     "metadata": {},
     "output_type": "execute_result"
    }
   ],
   "source": [
    "#<help:dataframe_assign_col>\n",
    "import pandas as pd\n",
    "import numpy as np\n",
    "dates = pd.date_range('20140102',periods=4)\n",
    "df = pd.DataFrame(np.random.randn(4,5),index=dates,columns=list('ABCDE'))\n",
    "df['F'] = pd.Series([1,2,3,4],index=pd.date_range('20140102',periods=4))\n",
    "df"
   ]
  },
  {
   "cell_type": "code",
   "execution_count": 166,
   "metadata": {
    "collapsed": false
   },
   "outputs": [
    {
     "data": {
      "text/html": [
       "<div>\n",
       "<table border=\"1\" class=\"dataframe\">\n",
       "  <thead>\n",
       "    <tr style=\"text-align: right;\">\n",
       "      <th></th>\n",
       "      <th>A</th>\n",
       "      <th>B</th>\n",
       "      <th>C</th>\n",
       "      <th>D</th>\n",
       "      <th>E</th>\n",
       "    </tr>\n",
       "  </thead>\n",
       "  <tbody>\n",
       "    <tr>\n",
       "      <th>2014-01-02</th>\n",
       "      <td>0.236686</td>\n",
       "      <td>0.171921</td>\n",
       "      <td>0.046524</td>\n",
       "      <td>5</td>\n",
       "      <td>0.140717</td>\n",
       "    </tr>\n",
       "    <tr>\n",
       "      <th>2014-01-03</th>\n",
       "      <td>-0.868752</td>\n",
       "      <td>0.550307</td>\n",
       "      <td>-0.036536</td>\n",
       "      <td>5</td>\n",
       "      <td>-0.827752</td>\n",
       "    </tr>\n",
       "    <tr>\n",
       "      <th>2014-01-04</th>\n",
       "      <td>-1.700730</td>\n",
       "      <td>-0.525229</td>\n",
       "      <td>-0.141113</td>\n",
       "      <td>5</td>\n",
       "      <td>-0.102712</td>\n",
       "    </tr>\n",
       "    <tr>\n",
       "      <th>2014-01-05</th>\n",
       "      <td>-0.158542</td>\n",
       "      <td>-0.267278</td>\n",
       "      <td>-0.327556</td>\n",
       "      <td>5</td>\n",
       "      <td>0.642500</td>\n",
       "    </tr>\n",
       "  </tbody>\n",
       "</table>\n",
       "</div>"
      ],
      "text/plain": [
       "                   A         B         C  D         E\n",
       "2014-01-02  0.236686  0.171921  0.046524  5  0.140717\n",
       "2014-01-03 -0.868752  0.550307 -0.036536  5 -0.827752\n",
       "2014-01-04 -1.700730 -0.525229 -0.141113  5 -0.102712\n",
       "2014-01-05 -0.158542 -0.267278 -0.327556  5  0.642500"
      ]
     },
     "execution_count": 166,
     "metadata": {},
     "output_type": "execute_result"
    }
   ],
   "source": [
    "#<help:dataframe_assign_col>\n",
    "import pandas as pd\n",
    "import numpy as np\n",
    "dates = pd.date_range('20140102',periods=4)\n",
    "df = pd.DataFrame(np.random.randn(4,5),index=dates,columns=list('ABCDE'))\n",
    "df.loc[:,'D'] = np.array([5] * len(df))\n",
    "df"
   ]
  },
  {
   "cell_type": "code",
   "execution_count": 167,
   "metadata": {
    "collapsed": false
   },
   "outputs": [
    {
     "data": {
      "text/html": [
       "<div>\n",
       "<table border=\"1\" class=\"dataframe\">\n",
       "  <thead>\n",
       "    <tr style=\"text-align: right;\">\n",
       "      <th></th>\n",
       "      <th>A</th>\n",
       "      <th>B</th>\n",
       "      <th>C</th>\n",
       "      <th>D</th>\n",
       "      <th>E</th>\n",
       "    </tr>\n",
       "  </thead>\n",
       "  <tbody>\n",
       "    <tr>\n",
       "      <th>2014-01-02</th>\n",
       "      <td>-0.940103</td>\n",
       "      <td>0.000000</td>\n",
       "      <td>1.194457</td>\n",
       "      <td>0.938177</td>\n",
       "      <td>-1.197843</td>\n",
       "    </tr>\n",
       "    <tr>\n",
       "      <th>2014-01-03</th>\n",
       "      <td>0.324814</td>\n",
       "      <td>0.550087</td>\n",
       "      <td>-1.495802</td>\n",
       "      <td>-1.134606</td>\n",
       "      <td>0.543045</td>\n",
       "    </tr>\n",
       "    <tr>\n",
       "      <th>2014-01-04</th>\n",
       "      <td>-0.082982</td>\n",
       "      <td>-0.349372</td>\n",
       "      <td>-0.189496</td>\n",
       "      <td>0.249940</td>\n",
       "      <td>-0.937354</td>\n",
       "    </tr>\n",
       "    <tr>\n",
       "      <th>2014-01-05</th>\n",
       "      <td>-1.279948</td>\n",
       "      <td>0.129198</td>\n",
       "      <td>1.151265</td>\n",
       "      <td>0.907562</td>\n",
       "      <td>-0.392772</td>\n",
       "    </tr>\n",
       "  </tbody>\n",
       "</table>\n",
       "</div>"
      ],
      "text/plain": [
       "                   A         B         C         D         E\n",
       "2014-01-02 -0.940103  0.000000  1.194457  0.938177 -1.197843\n",
       "2014-01-03  0.324814  0.550087 -1.495802 -1.134606  0.543045\n",
       "2014-01-04 -0.082982 -0.349372 -0.189496  0.249940 -0.937354\n",
       "2014-01-05 -1.279948  0.129198  1.151265  0.907562 -0.392772"
      ]
     },
     "execution_count": 167,
     "metadata": {},
     "output_type": "execute_result"
    }
   ],
   "source": [
    "#<help:dataframe_assign_row_col>\n",
    "import pandas as pd\n",
    "import numpy as np\n",
    "dates = pd.date_range('20140102',periods=4)\n",
    "df = pd.DataFrame(np.random.randn(4,5),index=dates,columns=list('ABCDE'))\n",
    "df.at[dates[0],'B'] = 0\n",
    "df"
   ]
  },
  {
   "cell_type": "code",
   "execution_count": 168,
   "metadata": {
    "collapsed": false
   },
   "outputs": [
    {
     "data": {
      "text/html": [
       "<div>\n",
       "<table border=\"1\" class=\"dataframe\">\n",
       "  <thead>\n",
       "    <tr style=\"text-align: right;\">\n",
       "      <th></th>\n",
       "      <th>A</th>\n",
       "      <th>B</th>\n",
       "      <th>C</th>\n",
       "      <th>D</th>\n",
       "      <th>E</th>\n",
       "    </tr>\n",
       "  </thead>\n",
       "  <tbody>\n",
       "    <tr>\n",
       "      <th>2014-01-02</th>\n",
       "      <td>-0.048925</td>\n",
       "      <td>0.000000</td>\n",
       "      <td>0.125053</td>\n",
       "      <td>-1.692900</td>\n",
       "      <td>0.972928</td>\n",
       "    </tr>\n",
       "    <tr>\n",
       "      <th>2014-01-03</th>\n",
       "      <td>-0.641096</td>\n",
       "      <td>-1.560563</td>\n",
       "      <td>-0.407276</td>\n",
       "      <td>0.282440</td>\n",
       "      <td>1.166772</td>\n",
       "    </tr>\n",
       "    <tr>\n",
       "      <th>2014-01-04</th>\n",
       "      <td>-1.261172</td>\n",
       "      <td>1.021721</td>\n",
       "      <td>1.152762</td>\n",
       "      <td>-0.285044</td>\n",
       "      <td>1.090669</td>\n",
       "    </tr>\n",
       "    <tr>\n",
       "      <th>2014-01-05</th>\n",
       "      <td>1.133172</td>\n",
       "      <td>0.749409</td>\n",
       "      <td>0.515432</td>\n",
       "      <td>0.479264</td>\n",
       "      <td>-0.283636</td>\n",
       "    </tr>\n",
       "  </tbody>\n",
       "</table>\n",
       "</div>"
      ],
      "text/plain": [
       "                   A         B         C         D         E\n",
       "2014-01-02 -0.048925  0.000000  0.125053 -1.692900  0.972928\n",
       "2014-01-03 -0.641096 -1.560563 -0.407276  0.282440  1.166772\n",
       "2014-01-04 -1.261172  1.021721  1.152762 -0.285044  1.090669\n",
       "2014-01-05  1.133172  0.749409  0.515432  0.479264 -0.283636"
      ]
     },
     "execution_count": 168,
     "metadata": {},
     "output_type": "execute_result"
    }
   ],
   "source": [
    "#<help:dataframe_assign_row_col_pos>\n",
    "import pandas as pd\n",
    "import numpy as np\n",
    "dates = pd.date_range('20140102',periods=4)\n",
    "df = pd.DataFrame(np.random.randn(4,5),index=dates,columns=list('ABCDE'))\n",
    "df.iat[0,1] = 0\n",
    "df"
   ]
  },
  {
   "cell_type": "markdown",
   "metadata": {},
   "source": [
    "# Missing Data"
   ]
  },
  {
   "cell_type": "markdown",
   "metadata": {},
   "source": [
    "Drop rows that have missing data."
   ]
  },
  {
   "cell_type": "code",
   "execution_count": 169,
   "metadata": {
    "collapsed": false
   },
   "outputs": [
    {
     "data": {
      "text/html": [
       "<div>\n",
       "<table border=\"1\" class=\"dataframe\">\n",
       "  <thead>\n",
       "    <tr style=\"text-align: right;\">\n",
       "      <th></th>\n",
       "      <th>A</th>\n",
       "      <th>B</th>\n",
       "      <th>C</th>\n",
       "      <th>D</th>\n",
       "      <th>E</th>\n",
       "    </tr>\n",
       "  </thead>\n",
       "  <tbody>\n",
       "    <tr>\n",
       "      <th>2014-01-04</th>\n",
       "      <td>-0.487113</td>\n",
       "      <td>0.004752</td>\n",
       "      <td>0.340000</td>\n",
       "      <td>0.78291</td>\n",
       "      <td>-3.728095</td>\n",
       "    </tr>\n",
       "    <tr>\n",
       "      <th>2014-01-05</th>\n",
       "      <td>-2.184158</td>\n",
       "      <td>-0.655236</td>\n",
       "      <td>0.822446</td>\n",
       "      <td>-0.59394</td>\n",
       "      <td>-0.144469</td>\n",
       "    </tr>\n",
       "  </tbody>\n",
       "</table>\n",
       "</div>"
      ],
      "text/plain": [
       "                   A         B         C        D         E\n",
       "2014-01-04 -0.487113  0.004752  0.340000  0.78291 -3.728095\n",
       "2014-01-05 -2.184158 -0.655236  0.822446 -0.59394 -0.144469"
      ]
     },
     "execution_count": 169,
     "metadata": {},
     "output_type": "execute_result"
    }
   ],
   "source": [
    "#<help:dataframe_dropna>\n",
    "import pandas as pd\n",
    "import numpy as np\n",
    "dates = pd.date_range('20140102',periods=4)\n",
    "df = pd.DataFrame(np.random.randn(4,5),index=dates,columns=list('ABCDE'))\n",
    "df.loc[dates[0]:dates[1],['D','E']] = float('nan')\n",
    "df.dropna()"
   ]
  },
  {
   "cell_type": "markdown",
   "metadata": {},
   "source": [
    "Set the value of cells that have missing data."
   ]
  },
  {
   "cell_type": "code",
   "execution_count": 170,
   "metadata": {
    "collapsed": false
   },
   "outputs": [
    {
     "data": {
      "text/html": [
       "<div>\n",
       "<table border=\"1\" class=\"dataframe\">\n",
       "  <thead>\n",
       "    <tr style=\"text-align: right;\">\n",
       "      <th></th>\n",
       "      <th>A</th>\n",
       "      <th>B</th>\n",
       "      <th>C</th>\n",
       "      <th>D</th>\n",
       "      <th>E</th>\n",
       "    </tr>\n",
       "  </thead>\n",
       "  <tbody>\n",
       "    <tr>\n",
       "      <th>2014-01-02</th>\n",
       "      <td>-0.036411</td>\n",
       "      <td>-0.075935</td>\n",
       "      <td>-1.812632</td>\n",
       "      <td>0.000000</td>\n",
       "      <td>0.000000</td>\n",
       "    </tr>\n",
       "    <tr>\n",
       "      <th>2014-01-03</th>\n",
       "      <td>-0.106074</td>\n",
       "      <td>0.087828</td>\n",
       "      <td>-0.988198</td>\n",
       "      <td>0.000000</td>\n",
       "      <td>0.000000</td>\n",
       "    </tr>\n",
       "    <tr>\n",
       "      <th>2014-01-04</th>\n",
       "      <td>-0.182918</td>\n",
       "      <td>-0.317369</td>\n",
       "      <td>-0.681954</td>\n",
       "      <td>-1.353307</td>\n",
       "      <td>-0.292681</td>\n",
       "    </tr>\n",
       "    <tr>\n",
       "      <th>2014-01-05</th>\n",
       "      <td>-0.017791</td>\n",
       "      <td>-0.280356</td>\n",
       "      <td>-1.084999</td>\n",
       "      <td>-0.226396</td>\n",
       "      <td>-2.075492</td>\n",
       "    </tr>\n",
       "  </tbody>\n",
       "</table>\n",
       "</div>"
      ],
      "text/plain": [
       "                   A         B         C         D         E\n",
       "2014-01-02 -0.036411 -0.075935 -1.812632  0.000000  0.000000\n",
       "2014-01-03 -0.106074  0.087828 -0.988198  0.000000  0.000000\n",
       "2014-01-04 -0.182918 -0.317369 -0.681954 -1.353307 -0.292681\n",
       "2014-01-05 -0.017791 -0.280356 -1.084999 -0.226396 -2.075492"
      ]
     },
     "execution_count": 170,
     "metadata": {},
     "output_type": "execute_result"
    }
   ],
   "source": [
    "#<help:dataframe_fillna>\n",
    "import pandas as pd\n",
    "import numpy as np\n",
    "dates = pd.date_range('20140102',periods=4)\n",
    "df = pd.DataFrame(np.random.randn(4,5),index=dates,columns=list('ABCDE'))\n",
    "df.loc[dates[0]:dates[1],['D','E']] = float('nan')\n",
    "df.fillna(value=0)"
   ]
  },
  {
   "cell_type": "markdown",
   "metadata": {},
   "source": [
    "List cells where data is missing."
   ]
  },
  {
   "cell_type": "code",
   "execution_count": 171,
   "metadata": {
    "collapsed": false
   },
   "outputs": [
    {
     "data": {
      "text/html": [
       "<div>\n",
       "<table border=\"1\" class=\"dataframe\">\n",
       "  <thead>\n",
       "    <tr style=\"text-align: right;\">\n",
       "      <th></th>\n",
       "      <th>A</th>\n",
       "      <th>B</th>\n",
       "      <th>C</th>\n",
       "      <th>D</th>\n",
       "      <th>E</th>\n",
       "    </tr>\n",
       "  </thead>\n",
       "  <tbody>\n",
       "    <tr>\n",
       "      <th>2014-01-02</th>\n",
       "      <td>False</td>\n",
       "      <td>False</td>\n",
       "      <td>False</td>\n",
       "      <td>True</td>\n",
       "      <td>True</td>\n",
       "    </tr>\n",
       "    <tr>\n",
       "      <th>2014-01-03</th>\n",
       "      <td>False</td>\n",
       "      <td>False</td>\n",
       "      <td>False</td>\n",
       "      <td>True</td>\n",
       "      <td>True</td>\n",
       "    </tr>\n",
       "    <tr>\n",
       "      <th>2014-01-04</th>\n",
       "      <td>False</td>\n",
       "      <td>False</td>\n",
       "      <td>False</td>\n",
       "      <td>False</td>\n",
       "      <td>False</td>\n",
       "    </tr>\n",
       "    <tr>\n",
       "      <th>2014-01-05</th>\n",
       "      <td>False</td>\n",
       "      <td>False</td>\n",
       "      <td>False</td>\n",
       "      <td>False</td>\n",
       "      <td>False</td>\n",
       "    </tr>\n",
       "  </tbody>\n",
       "</table>\n",
       "</div>"
      ],
      "text/plain": [
       "                A      B      C      D      E\n",
       "2014-01-02  False  False  False   True   True\n",
       "2014-01-03  False  False  False   True   True\n",
       "2014-01-04  False  False  False  False  False\n",
       "2014-01-05  False  False  False  False  False"
      ]
     },
     "execution_count": 171,
     "metadata": {},
     "output_type": "execute_result"
    }
   ],
   "source": [
    "#<help:dataframe_isnull>\n",
    "import pandas as pd\n",
    "import numpy as np\n",
    "dates = pd.date_range('20140102',periods=4)\n",
    "df = pd.DataFrame(np.random.randn(4,5),index=dates,columns=list('ABCDE'))\n",
    "df.loc[dates[0]:dates[1],['D','E']] = float('nan')\n",
    "pd.isnull(df)"
   ]
  },
  {
   "cell_type": "markdown",
   "metadata": {},
   "source": [
    "# Append"
   ]
  },
  {
   "cell_type": "code",
   "execution_count": 172,
   "metadata": {
    "collapsed": false
   },
   "outputs": [
    {
     "data": {
      "text/html": [
       "<div>\n",
       "<table border=\"1\" class=\"dataframe\">\n",
       "  <thead>\n",
       "    <tr style=\"text-align: right;\">\n",
       "      <th></th>\n",
       "      <th>A</th>\n",
       "      <th>B</th>\n",
       "      <th>C</th>\n",
       "      <th>D</th>\n",
       "    </tr>\n",
       "  </thead>\n",
       "  <tbody>\n",
       "    <tr>\n",
       "      <th>0</th>\n",
       "      <td>1.295584</td>\n",
       "      <td>0.329522</td>\n",
       "      <td>-0.117027</td>\n",
       "      <td>0.705454</td>\n",
       "    </tr>\n",
       "    <tr>\n",
       "      <th>1</th>\n",
       "      <td>-0.253128</td>\n",
       "      <td>-1.084725</td>\n",
       "      <td>-1.224332</td>\n",
       "      <td>-0.398378</td>\n",
       "    </tr>\n",
       "    <tr>\n",
       "      <th>2</th>\n",
       "      <td>1.357892</td>\n",
       "      <td>0.926121</td>\n",
       "      <td>-0.974376</td>\n",
       "      <td>1.635177</td>\n",
       "    </tr>\n",
       "    <tr>\n",
       "      <th>3</th>\n",
       "      <td>1.010470</td>\n",
       "      <td>0.876579</td>\n",
       "      <td>0.559777</td>\n",
       "      <td>-0.747636</td>\n",
       "    </tr>\n",
       "    <tr>\n",
       "      <th>4</th>\n",
       "      <td>0.276063</td>\n",
       "      <td>-0.353297</td>\n",
       "      <td>1.807780</td>\n",
       "      <td>1.487521</td>\n",
       "    </tr>\n",
       "    <tr>\n",
       "      <th>5</th>\n",
       "      <td>0.420647</td>\n",
       "      <td>0.207400</td>\n",
       "      <td>0.096218</td>\n",
       "      <td>-1.351488</td>\n",
       "    </tr>\n",
       "    <tr>\n",
       "      <th>6</th>\n",
       "      <td>2.378987</td>\n",
       "      <td>0.332673</td>\n",
       "      <td>-0.388444</td>\n",
       "      <td>0.207806</td>\n",
       "    </tr>\n",
       "    <tr>\n",
       "      <th>7</th>\n",
       "      <td>-0.439929</td>\n",
       "      <td>0.248491</td>\n",
       "      <td>0.523131</td>\n",
       "      <td>0.732277</td>\n",
       "    </tr>\n",
       "    <tr>\n",
       "      <th>8</th>\n",
       "      <td>-0.439929</td>\n",
       "      <td>0.248491</td>\n",
       "      <td>0.523131</td>\n",
       "      <td>0.732277</td>\n",
       "    </tr>\n",
       "  </tbody>\n",
       "</table>\n",
       "</div>"
      ],
      "text/plain": [
       "          A         B         C         D\n",
       "0  1.295584  0.329522 -0.117027  0.705454\n",
       "1 -0.253128 -1.084725 -1.224332 -0.398378\n",
       "2  1.357892  0.926121 -0.974376  1.635177\n",
       "3  1.010470  0.876579  0.559777 -0.747636\n",
       "4  0.276063 -0.353297  1.807780  1.487521\n",
       "5  0.420647  0.207400  0.096218 -1.351488\n",
       "6  2.378987  0.332673 -0.388444  0.207806\n",
       "7 -0.439929  0.248491  0.523131  0.732277\n",
       "8 -0.439929  0.248491  0.523131  0.732277"
      ]
     },
     "execution_count": 172,
     "metadata": {},
     "output_type": "execute_result"
    }
   ],
   "source": [
    "#<help:dataframe_append_rows>\n",
    "import pandas as pd\n",
    "import numpy as np\n",
    "df = pd.DataFrame(np.random.randn(8, 4), columns=['A','B','C','D'])\n",
    "# duplicate last row\n",
    "df.append(df.iloc[-1], ignore_index=True)"
   ]
  },
  {
   "cell_type": "markdown",
   "metadata": {},
   "source": [
    "# Groupby\n",
    "\n",
    "* **Splitting** the data into groups based on some criteria\n",
    "\n",
    "* **Applying** a function to each group independently\n",
    "\n",
    "* **Combining** the results into a data structure"
   ]
  },
  {
   "cell_type": "code",
   "execution_count": 173,
   "metadata": {
    "collapsed": false
   },
   "outputs": [
    {
     "name": "stdout",
     "output_type": "stream",
     "text": [
      "     A      B         C         D\n",
      "0  foo    one -0.188112 -0.163060\n",
      "1  bar    one -0.561291  0.624213\n",
      "2  foo    two  0.804013 -2.008327\n",
      "3  bar  three  1.054067 -1.049913\n",
      "4  foo    two -1.512620  0.093695\n",
      "5  bar    two -1.101215  0.962657\n",
      "6  foo    one  0.033641  0.529683\n",
      "7  foo  three  0.808496 -0.493695\n"
     ]
    },
    {
     "data": {
      "text/plain": [
       "{'bar': [1, 3, 5], 'foo': [0, 2, 4, 6, 7]}"
      ]
     },
     "execution_count": 173,
     "metadata": {},
     "output_type": "execute_result"
    }
   ],
   "source": [
    "#<help:dataframe_groupby>\n",
    "import pandas as pd\n",
    "import numpy as np\n",
    "dates = pd.date_range('20140102',periods=4)\n",
    "df = pd.DataFrame({'A' : ['foo', 'bar', 'foo', 'bar', 'foo', 'bar', 'foo', 'foo'],\n",
    "                'B' : ['one', 'one', 'two', 'three', 'two', 'two', 'one', 'three'],\n",
    "                'C' : np.random.randn(8), 'D' : np.random.randn(8)})\n",
    "print df\n",
    "df.groupby('A').groups"
   ]
  },
  {
   "cell_type": "code",
   "execution_count": 174,
   "metadata": {
    "collapsed": false
   },
   "outputs": [
    {
     "name": "stdout",
     "output_type": "stream",
     "text": [
      "     A      B         C         D\n",
      "0  foo    one  0.880564 -1.745499\n",
      "1  bar    one  0.142343 -0.147769\n",
      "2  foo    two  0.135721 -0.760899\n",
      "3  bar  three -1.203053  1.245398\n",
      "4  foo    two -2.139568 -1.046529\n",
      "5  bar    two  2.031749  0.286791\n",
      "6  foo    one  0.387936 -1.949567\n",
      "7  foo  three -1.089109  1.155474\n"
     ]
    },
    {
     "data": {
      "text/plain": [
       "{('bar', 'one'): [1],\n",
       " ('bar', 'three'): [3],\n",
       " ('bar', 'two'): [5],\n",
       " ('foo', 'one'): [0, 6],\n",
       " ('foo', 'three'): [7],\n",
       " ('foo', 'two'): [2, 4]}"
      ]
     },
     "execution_count": 174,
     "metadata": {},
     "output_type": "execute_result"
    }
   ],
   "source": [
    "#<help:dataframe_groupby_multiple>\n",
    "import pandas as pd\n",
    "import numpy as np\n",
    "dates = pd.date_range('20140102',periods=4)\n",
    "df = pd.DataFrame({'A' : ['foo', 'bar', 'foo', 'bar', 'foo', 'bar', 'foo', 'foo'],\n",
    "                'B' : ['one', 'one', 'two', 'three', 'two', 'two', 'one', 'three'],\n",
    "                'C' : np.random.randn(8), 'D' : np.random.randn(8)})\n",
    "print df\n",
    "df.groupby(['A','B']).groups"
   ]
  },
  {
   "cell_type": "markdown",
   "metadata": {},
   "source": [
    "Group by a column and compute cumulative sum."
   ]
  },
  {
   "cell_type": "code",
   "execution_count": 175,
   "metadata": {
    "collapsed": false
   },
   "outputs": [
    {
     "data": {
      "text/html": [
       "<div>\n",
       "<table border=\"1\" class=\"dataframe\">\n",
       "  <thead>\n",
       "    <tr style=\"text-align: right;\">\n",
       "      <th></th>\n",
       "      <th>C</th>\n",
       "      <th>D</th>\n",
       "    </tr>\n",
       "    <tr>\n",
       "      <th>A</th>\n",
       "      <th></th>\n",
       "      <th></th>\n",
       "    </tr>\n",
       "  </thead>\n",
       "  <tbody>\n",
       "    <tr>\n",
       "      <th>bar</th>\n",
       "      <td>-0.167501</td>\n",
       "      <td>2.239362</td>\n",
       "    </tr>\n",
       "    <tr>\n",
       "      <th>foo</th>\n",
       "      <td>2.729387</td>\n",
       "      <td>0.141858</td>\n",
       "    </tr>\n",
       "  </tbody>\n",
       "</table>\n",
       "</div>"
      ],
      "text/plain": [
       "            C         D\n",
       "A                      \n",
       "bar -0.167501  2.239362\n",
       "foo  2.729387  0.141858"
      ]
     },
     "execution_count": 175,
     "metadata": {},
     "output_type": "execute_result"
    }
   ],
   "source": [
    "#<help:dataframe_groupby_sum>\n",
    "import pandas as pd\n",
    "import numpy as np\n",
    "dates = pd.date_range('20140102',periods=4)\n",
    "df = pd.DataFrame({'A' : ['foo', 'bar', 'foo', 'bar', 'foo', 'bar', 'foo', 'foo'],\n",
    "                'B' : ['one', 'one', 'two', 'three', 'two', 'two', 'one', 'three'],\n",
    "                'C' : np.random.randn(8), 'D' : np.random.randn(8)})\n",
    "df.groupby('A').sum()"
   ]
  },
  {
   "cell_type": "markdown",
   "metadata": {},
   "source": [
    "Group multiple columns and add them."
   ]
  },
  {
   "cell_type": "code",
   "execution_count": 176,
   "metadata": {
    "collapsed": false
   },
   "outputs": [
    {
     "data": {
      "text/html": [
       "<div>\n",
       "<table border=\"1\" class=\"dataframe\">\n",
       "  <thead>\n",
       "    <tr style=\"text-align: right;\">\n",
       "      <th></th>\n",
       "      <th></th>\n",
       "      <th>C</th>\n",
       "      <th>D</th>\n",
       "    </tr>\n",
       "    <tr>\n",
       "      <th>A</th>\n",
       "      <th>B</th>\n",
       "      <th></th>\n",
       "      <th></th>\n",
       "    </tr>\n",
       "  </thead>\n",
       "  <tbody>\n",
       "    <tr>\n",
       "      <th rowspan=\"3\" valign=\"top\">bar</th>\n",
       "      <th>one</th>\n",
       "      <td>2.526009</td>\n",
       "      <td>0.552526</td>\n",
       "    </tr>\n",
       "    <tr>\n",
       "      <th>three</th>\n",
       "      <td>-1.037088</td>\n",
       "      <td>-0.986310</td>\n",
       "    </tr>\n",
       "    <tr>\n",
       "      <th>two</th>\n",
       "      <td>-2.075049</td>\n",
       "      <td>0.252156</td>\n",
       "    </tr>\n",
       "    <tr>\n",
       "      <th rowspan=\"3\" valign=\"top\">foo</th>\n",
       "      <th>one</th>\n",
       "      <td>-0.683945</td>\n",
       "      <td>3.657584</td>\n",
       "    </tr>\n",
       "    <tr>\n",
       "      <th>three</th>\n",
       "      <td>-0.619090</td>\n",
       "      <td>-0.914246</td>\n",
       "    </tr>\n",
       "    <tr>\n",
       "      <th>two</th>\n",
       "      <td>-2.118957</td>\n",
       "      <td>0.170407</td>\n",
       "    </tr>\n",
       "  </tbody>\n",
       "</table>\n",
       "</div>"
      ],
      "text/plain": [
       "                  C         D\n",
       "A   B                        \n",
       "bar one    2.526009  0.552526\n",
       "    three -1.037088 -0.986310\n",
       "    two   -2.075049  0.252156\n",
       "foo one   -0.683945  3.657584\n",
       "    three -0.619090 -0.914246\n",
       "    two   -2.118957  0.170407"
      ]
     },
     "execution_count": 176,
     "metadata": {},
     "output_type": "execute_result"
    }
   ],
   "source": [
    "#<help:dataframe_groupby_multiple_sum>\n",
    "import pandas as pd\n",
    "import numpy as np\n",
    "dates = pd.date_range('20140102',periods=4)\n",
    "df = pd.DataFrame({'A' : ['foo', 'bar', 'foo', 'bar', 'foo', 'bar', 'foo', 'foo'],\n",
    "                'B' : ['one', 'one', 'two', 'three', 'two', 'two', 'one', 'three'],\n",
    "                'C' : np.random.randn(8), 'D' : np.random.randn(8)})\n",
    "df.groupby(['A','B']).sum()"
   ]
  },
  {
   "cell_type": "markdown",
   "metadata": {},
   "source": [
    "# File Management"
   ]
  },
  {
   "cell_type": "markdown",
   "metadata": {},
   "source": [
    "## Save to CSV\n",
    "Use the `to_csv` function to save a DataFrame to a `csv` or `txt` file.  The full parameter list is in the [documentation](http://pandas.pydata.org/pandas-docs/version/0.15.1/generated/pandas.DataFrame.to_csv.html)."
   ]
  },
  {
   "cell_type": "code",
   "execution_count": 177,
   "metadata": {
    "collapsed": false
   },
   "outputs": [
    {
     "name": "stdout",
     "output_type": "stream",
     "text": [
      "      Name  Births\n",
      "0  Michael    1168\n",
      "1  Jessica     255\n",
      "2     Mary     177\n",
      "3     John     878\n",
      "4   Ashley     973\n"
     ]
    }
   ],
   "source": [
    "#<help:to_csv>\n",
    "import pandas as pd\n",
    "import numpy as np\n",
    "names = ['Michael','Jessica','Mary','John','Ashley']\n",
    "births = [1168, 255, 177, 878, 973]\n",
    "df = pd.DataFrame(data=zip(names,births), columns=['Name', 'Births'])\n",
    "print df\n",
    "df.to_csv('births.csv',index=False,header=False)"
   ]
  },
  {
   "cell_type": "markdown",
   "metadata": {},
   "source": [
    "## Read from CSV\n",
    "Use the `read_csv` function to read from a csv or text file.  By default, `read_csv` assumes that the fields are comma-separated. If the data is indexed, you can select the column to be used as an index, eg. `index_col=0`. The complete parameter list is in the [documentation](http://pandas.pydata.org/pandas-docs/stable/generated/pandas.io.parsers.read_csv.html)."
   ]
  },
  {
   "cell_type": "code",
   "execution_count": 178,
   "metadata": {
    "collapsed": false
   },
   "outputs": [
    {
     "data": {
      "text/html": [
       "<div>\n",
       "<table border=\"1\" class=\"dataframe\">\n",
       "  <thead>\n",
       "    <tr style=\"text-align: right;\">\n",
       "      <th></th>\n",
       "      <th>Name</th>\n",
       "      <th>Births</th>\n",
       "    </tr>\n",
       "  </thead>\n",
       "  <tbody>\n",
       "    <tr>\n",
       "      <th>0</th>\n",
       "      <td>Michael</td>\n",
       "      <td>1168</td>\n",
       "    </tr>\n",
       "    <tr>\n",
       "      <th>1</th>\n",
       "      <td>Jessica</td>\n",
       "      <td>255</td>\n",
       "    </tr>\n",
       "    <tr>\n",
       "      <th>2</th>\n",
       "      <td>Mary</td>\n",
       "      <td>177</td>\n",
       "    </tr>\n",
       "    <tr>\n",
       "      <th>3</th>\n",
       "      <td>John</td>\n",
       "      <td>878</td>\n",
       "    </tr>\n",
       "    <tr>\n",
       "      <th>4</th>\n",
       "      <td>Ashley</td>\n",
       "      <td>973</td>\n",
       "    </tr>\n",
       "  </tbody>\n",
       "</table>\n",
       "</div>"
      ],
      "text/plain": [
       "      Name  Births\n",
       "0  Michael    1168\n",
       "1  Jessica     255\n",
       "2     Mary     177\n",
       "3     John     878\n",
       "4   Ashley     973"
      ]
     },
     "execution_count": 178,
     "metadata": {},
     "output_type": "execute_result"
    }
   ],
   "source": [
    "#<help:read_csv>\n",
    "import pandas as pd\n",
    "import numpy as np\n",
    "\n",
    "# write DataFrame to file\n",
    "names = ['Michael','Jessica','Mary','John','Ashley']\n",
    "births = [1168, 255, 177, 878, 973]\n",
    "df = pd.DataFrame(data=zip(names,births), columns=['Name', 'Births'])\n",
    "df.to_csv('births.csv', index=False, header=False)\n",
    "\n",
    "# now read it\n",
    "pd.read_csv('births.csv', header=None, names=['Name','Births'])"
   ]
  },
  {
   "cell_type": "markdown",
   "metadata": {},
   "source": [
    "## Parsing Dates\n",
    "To facilitate working with dates data, `read_csv()` and `read_table()`, use the keyword arguments `parse_dates` and `date_parser` to allow users to specify a variety of columns and date/time formats to turn the input text data into datetime objects."
   ]
  },
  {
   "cell_type": "code",
   "execution_count": 179,
   "metadata": {
    "collapsed": false
   },
   "outputs": [
    {
     "data": {
      "text/html": [
       "<div>\n",
       "<table border=\"1\" class=\"dataframe\">\n",
       "  <thead>\n",
       "    <tr style=\"text-align: right;\">\n",
       "      <th></th>\n",
       "      <th>A</th>\n",
       "      <th>B</th>\n",
       "      <th>C</th>\n",
       "      <th>D</th>\n",
       "      <th>E</th>\n",
       "    </tr>\n",
       "  </thead>\n",
       "  <tbody>\n",
       "    <tr>\n",
       "      <th>2014-01-02</th>\n",
       "      <td>0.370925</td>\n",
       "      <td>2.652533</td>\n",
       "      <td>0.780542</td>\n",
       "      <td>0.700552</td>\n",
       "      <td>-1.268281</td>\n",
       "    </tr>\n",
       "    <tr>\n",
       "      <th>2014-01-03</th>\n",
       "      <td>0.113868</td>\n",
       "      <td>-0.286942</td>\n",
       "      <td>-0.157590</td>\n",
       "      <td>-0.528135</td>\n",
       "      <td>0.834606</td>\n",
       "    </tr>\n",
       "    <tr>\n",
       "      <th>2014-01-04</th>\n",
       "      <td>-2.921078</td>\n",
       "      <td>0.196292</td>\n",
       "      <td>0.500695</td>\n",
       "      <td>1.574374</td>\n",
       "      <td>0.767868</td>\n",
       "    </tr>\n",
       "    <tr>\n",
       "      <th>2014-01-05</th>\n",
       "      <td>-1.710115</td>\n",
       "      <td>-2.316419</td>\n",
       "      <td>0.218561</td>\n",
       "      <td>1.248791</td>\n",
       "      <td>2.343854</td>\n",
       "    </tr>\n",
       "    <tr>\n",
       "      <th>2014-01-06</th>\n",
       "      <td>-0.797792</td>\n",
       "      <td>-0.388493</td>\n",
       "      <td>0.912275</td>\n",
       "      <td>0.894019</td>\n",
       "      <td>0.132230</td>\n",
       "    </tr>\n",
       "  </tbody>\n",
       "</table>\n",
       "</div>"
      ],
      "text/plain": [
       "                   A         B         C         D         E\n",
       "2014-01-02  0.370925  2.652533  0.780542  0.700552 -1.268281\n",
       "2014-01-03  0.113868 -0.286942 -0.157590 -0.528135  0.834606\n",
       "2014-01-04 -2.921078  0.196292  0.500695  1.574374  0.767868\n",
       "2014-01-05 -1.710115 -2.316419  0.218561  1.248791  2.343854\n",
       "2014-01-06 -0.797792 -0.388493  0.912275  0.894019  0.132230"
      ]
     },
     "execution_count": 179,
     "metadata": {},
     "output_type": "execute_result"
    }
   ],
   "source": [
    "#<help:read_csv_dates>\n",
    "import pandas as pd\n",
    "import numpy as np\n",
    "dates = pd.date_range('20140102',periods=5)\n",
    "df = pd.DataFrame(np.random.randn(5,5), index=dates, columns=list('ABCDE'))\n",
    "# specify dates column (defaults to first column) as index\n",
    "djs = df.to_csv('dates.csv', index=True, header=True)\n",
    "\n",
    "pd.read_csv('dates.csv', parse_dates=True, index_col=0)"
   ]
  },
  {
   "cell_type": "markdown",
   "metadata": {},
   "source": [
    "## Save to JSON\n",
    "A Series or DataFrame can be converted to a valid JSON string. Use `to_json` with optional parameters:\n",
    "\n",
    "* `path_or_buf` : the pathname or buffer to write the output. This can be `None` in which case a JSON string is returned.\n",
    "\n",
    "* `orient` :\n",
    "\n",
    "    Series :\n",
    "        * default is index\n",
    "        * allowed values are {split, records, index}\n",
    "    DataFrame\n",
    "        * default is columns\n",
    "        * allowed values are {split, records, index, columns, values}\n",
    "    The format of the JSON string:\n",
    "    \n",
    "    \n",
    "|  command         |       params                                                            |\n",
    "|-----------|-----------|\n",
    "|`split`\t|dict like {index -> [index], columns -> [columns], data -> [values]}|\n",
    "|`records`\t|list like [{column -> value}, ... , {column -> value}]|\n",
    "|`index`\t|dict like {index -> {column -> value}}|\n",
    "|`columns`\t|dict like {column -> {index -> value}}|\n",
    "|`values`\t|just the values array|\n",
    "    \n",
    "* `date_format` : string, type of date conversion, ‘epoch’ for timestamp, ‘iso’ for ISO8601.\n",
    "\n",
    "* `double_precision` : The number of decimal places to use when encoding floating point values, default is 10.\n",
    "\n",
    "* `force_ascii` : force encoded string to be ASCII, default is True.\n",
    "\n",
    "* `date_unit` : The time unit to encode to, governs timestamp and ISO8601 precision. One of ‘s’, ‘ms’, ‘us’ or ‘ns’ for seconds, milliseconds, microseconds and nanoseconds respectively. Default is ‘ms’.\n",
    "\n",
    "* `efault_handler` : The handler to call if an object cannot otherwise be converted to a suitable format for JSON. Takes a single argument, which is the object to convert, and returns a serializable object."
   ]
  },
  {
   "cell_type": "code",
   "execution_count": 180,
   "metadata": {
    "collapsed": false
   },
   "outputs": [
    {
     "name": "stdout",
     "output_type": "stream",
     "text": [
      "          A         B\n",
      "0 -0.079130 -0.263816\n",
      "1  1.170449  1.752213\n",
      "2 -0.681488  0.373793\n",
      "3  0.784154 -0.189514\n",
      "4 -0.451040  1.608035\n"
     ]
    }
   ],
   "source": [
    "#<help:to_json>\n",
    "import pandas as pd\n",
    "import numpy as np\n",
    "dfj = pd.DataFrame(np.random.randn(5, 2), columns=list('AB'))\n",
    "print dfj\n",
    "dfj.to_json('random.json')"
   ]
  },
  {
   "cell_type": "markdown",
   "metadata": {},
   "source": [
    "## Read JSON\n",
    "\n",
    "**The same applies for reading a JSON file**. The most important [parameters](http://pandas.pydata.org/pandas-docs/stable/generated/pandas.DataFrame.to_json.html) are:\n",
    "\n",
    "* `convert_dates` : a list of columns to parse for dates; If True, then try to parse date-like columns, default is `True`.\n",
    "\n",
    "* `eep_default_dates` : boolean, default `True`. If parsing dates, then parse the default date-like columns.\n",
    "\n",
    "* `numpy` : direct decoding to numpy arrays. default is False; Supports numeric data only, although labels may be non-numeric. Also note that the JSON ordering MUST be the same for each term if `numpy=True`.\n",
    "\n",
    "* `precise_float` : boolean, default False. Set to enable usage of higher precision (strtod) function when decoding string to double values. Default (`False`) is to use fast but less precise builtin functionality.\n",
    "\n",
    "* `ate_unit` : string, the timestamp unit to detect if converting dates. Default is `None`. By default the timestamp precision will be detected. If this is not desired then pass one of `‘s’, ‘ms’, ‘us’` or `‘ns’` to force timestamp precision to seconds, milliseconds, microseconds or nanoseconds respectively."
   ]
  },
  {
   "cell_type": "code",
   "execution_count": 181,
   "metadata": {
    "collapsed": false
   },
   "outputs": [
    {
     "data": {
      "text/html": [
       "<div>\n",
       "<table border=\"1\" class=\"dataframe\">\n",
       "  <thead>\n",
       "    <tr style=\"text-align: right;\">\n",
       "      <th></th>\n",
       "      <th>A</th>\n",
       "      <th>B</th>\n",
       "    </tr>\n",
       "  </thead>\n",
       "  <tbody>\n",
       "    <tr>\n",
       "      <th>0</th>\n",
       "      <td>-0.079130</td>\n",
       "      <td>-0.263816</td>\n",
       "    </tr>\n",
       "    <tr>\n",
       "      <th>1</th>\n",
       "      <td>1.170449</td>\n",
       "      <td>1.752213</td>\n",
       "    </tr>\n",
       "    <tr>\n",
       "      <th>2</th>\n",
       "      <td>-0.681488</td>\n",
       "      <td>0.373793</td>\n",
       "    </tr>\n",
       "    <tr>\n",
       "      <th>3</th>\n",
       "      <td>0.784154</td>\n",
       "      <td>-0.189514</td>\n",
       "    </tr>\n",
       "    <tr>\n",
       "      <th>4</th>\n",
       "      <td>-0.451040</td>\n",
       "      <td>1.608035</td>\n",
       "    </tr>\n",
       "  </tbody>\n",
       "</table>\n",
       "</div>"
      ],
      "text/plain": [
       "          A         B\n",
       "0 -0.079130 -0.263816\n",
       "1  1.170449  1.752213\n",
       "2 -0.681488  0.373793\n",
       "3  0.784154 -0.189514\n",
       "4 -0.451040  1.608035"
      ]
     },
     "execution_count": 181,
     "metadata": {},
     "output_type": "execute_result"
    }
   ],
   "source": [
    "#<help:read_json>\n",
    "import pandas as pd\n",
    "import numpy as np\n",
    "jsondf = pd.read_json('random.json')\n",
    "jsondf"
   ]
  },
  {
   "cell_type": "markdown",
   "metadata": {},
   "source": [
    "##Pickling\n",
    "All pandas objects are equipped with `to_pickle` methods which use Python’s `cPickle` module to save data structures to disk using the pickle format.  \n",
    "The `read_pickle` function in the pandas namespace can be used to load any pickled pandas object (or any other pickled object) from file."
   ]
  },
  {
   "cell_type": "code",
   "execution_count": 182,
   "metadata": {
    "collapsed": false
   },
   "outputs": [
    {
     "data": {
      "text/html": [
       "<div>\n",
       "<table border=\"1\" class=\"dataframe\">\n",
       "  <thead>\n",
       "    <tr style=\"text-align: right;\">\n",
       "      <th></th>\n",
       "      <th>A</th>\n",
       "      <th>B</th>\n",
       "      <th>C</th>\n",
       "      <th>D</th>\n",
       "      <th>E</th>\n",
       "    </tr>\n",
       "  </thead>\n",
       "  <tbody>\n",
       "    <tr>\n",
       "      <th>0</th>\n",
       "      <td>0.871311</td>\n",
       "      <td>0.830979</td>\n",
       "      <td>-0.892127</td>\n",
       "      <td>1.944029</td>\n",
       "      <td>0.222529</td>\n",
       "    </tr>\n",
       "    <tr>\n",
       "      <th>1</th>\n",
       "      <td>-1.227732</td>\n",
       "      <td>-1.761144</td>\n",
       "      <td>-0.249142</td>\n",
       "      <td>-0.134043</td>\n",
       "      <td>2.165719</td>\n",
       "    </tr>\n",
       "    <tr>\n",
       "      <th>2</th>\n",
       "      <td>-0.406129</td>\n",
       "      <td>0.435053</td>\n",
       "      <td>-0.959152</td>\n",
       "      <td>-0.273515</td>\n",
       "      <td>0.710263</td>\n",
       "    </tr>\n",
       "    <tr>\n",
       "      <th>3</th>\n",
       "      <td>-0.872559</td>\n",
       "      <td>2.335534</td>\n",
       "      <td>-0.907439</td>\n",
       "      <td>1.148816</td>\n",
       "      <td>1.157761</td>\n",
       "    </tr>\n",
       "    <tr>\n",
       "      <th>4</th>\n",
       "      <td>-0.556930</td>\n",
       "      <td>-1.043094</td>\n",
       "      <td>0.842480</td>\n",
       "      <td>0.048886</td>\n",
       "      <td>-0.180195</td>\n",
       "    </tr>\n",
       "  </tbody>\n",
       "</table>\n",
       "</div>"
      ],
      "text/plain": [
       "          A         B         C         D         E\n",
       "0  0.871311  0.830979 -0.892127  1.944029  0.222529\n",
       "1 -1.227732 -1.761144 -0.249142 -0.134043  2.165719\n",
       "2 -0.406129  0.435053 -0.959152 -0.273515  0.710263\n",
       "3 -0.872559  2.335534 -0.907439  1.148816  1.157761\n",
       "4 -0.556930 -1.043094  0.842480  0.048886 -0.180195"
      ]
     },
     "execution_count": 182,
     "metadata": {},
     "output_type": "execute_result"
    }
   ],
   "source": [
    "#<help:read_pickle>\n",
    "import pandas as pd\n",
    "import numpy as np\n",
    "df = pd.DataFrame(np.random.randn(5,5), index=None, columns=list('ABCDE'))\n",
    "df.to_pickle('foo.pkl')\n",
    "pd.read_pickle('foo.pkl')"
   ]
  },
  {
   "cell_type": "markdown",
   "metadata": {},
   "source": [
    "# SQL Queries\n",
    "The `pandas.io.sql` module provides a collection of query wrappers to both facilitate data retrieval and to reduce dependencies on DB-specific APIs. Database abstraction is provided by SQLAlchemy, which needs to be installed. In addition you will need a driver library for your database.\n",
    "\n",
    "The key functions are:\n",
    "\n",
    "| Function                                       | Description                                          |\n",
    "|------------------------------------------------|------------------------------------------------------|\n",
    "|read_sql_table(table_name, con[, schema, ...])\t |Read SQL database table into a DataFrame.             |\n",
    "|read_sql_query(sql, con[, index_col, ...])      |Read SQL query into a DataFrame.                      |\n",
    "|read_sql(sql, con[, index_col, ...])\t         |Read SQL query or database table into a DataFrame.    |\n",
    "|DataFrame.to_sql(name, con[, flavor, ...])      |Write records stored in a DataFrame to a SQL database.|"
   ]
  },
  {
   "cell_type": "markdown",
   "metadata": {},
   "source": [
    "## Setup"
   ]
  },
  {
   "cell_type": "code",
   "execution_count": 183,
   "metadata": {
    "collapsed": false
   },
   "outputs": [
    {
     "name": "stdout",
     "output_type": "stream",
     "text": [
      "Requirement already satisfied: SQLAlchemy in ./common/.virtualenv/python2/lib/python2.7/site-packages\r\n"
     ]
    }
   ],
   "source": [
    "#<help:sql_setup>\n",
    "!pip install SQLAlchemy"
   ]
  },
  {
   "cell_type": "markdown",
   "metadata": {},
   "source": [
    "## Query"
   ]
  },
  {
   "cell_type": "code",
   "execution_count": 184,
   "metadata": {
    "collapsed": false
   },
   "outputs": [
    {
     "data": {
      "text/html": [
       "<div>\n",
       "<table border=\"1\" class=\"dataframe\">\n",
       "  <thead>\n",
       "    <tr style=\"text-align: right;\">\n",
       "      <th></th>\n",
       "      <th>index</th>\n",
       "      <th>A</th>\n",
       "      <th>B</th>\n",
       "      <th>C</th>\n",
       "      <th>D</th>\n",
       "      <th>E</th>\n",
       "    </tr>\n",
       "  </thead>\n",
       "  <tbody>\n",
       "    <tr>\n",
       "      <th>0</th>\n",
       "      <td>0</td>\n",
       "      <td>0.200725</td>\n",
       "      <td>-1.033336</td>\n",
       "      <td>-0.481330</td>\n",
       "      <td>-1.097476</td>\n",
       "      <td>-1.071577</td>\n",
       "    </tr>\n",
       "    <tr>\n",
       "      <th>1</th>\n",
       "      <td>1</td>\n",
       "      <td>-0.443988</td>\n",
       "      <td>-1.816926</td>\n",
       "      <td>-0.367223</td>\n",
       "      <td>-1.101936</td>\n",
       "      <td>-0.051321</td>\n",
       "    </tr>\n",
       "    <tr>\n",
       "      <th>2</th>\n",
       "      <td>2</td>\n",
       "      <td>-0.385862</td>\n",
       "      <td>-2.096114</td>\n",
       "      <td>0.193254</td>\n",
       "      <td>-0.235828</td>\n",
       "      <td>0.602765</td>\n",
       "    </tr>\n",
       "    <tr>\n",
       "      <th>3</th>\n",
       "      <td>3</td>\n",
       "      <td>-0.060105</td>\n",
       "      <td>-1.294294</td>\n",
       "      <td>0.779046</td>\n",
       "      <td>-0.241056</td>\n",
       "      <td>0.645593</td>\n",
       "    </tr>\n",
       "    <tr>\n",
       "      <th>4</th>\n",
       "      <td>4</td>\n",
       "      <td>1.310104</td>\n",
       "      <td>0.091904</td>\n",
       "      <td>-0.294520</td>\n",
       "      <td>-1.378827</td>\n",
       "      <td>1.600259</td>\n",
       "    </tr>\n",
       "  </tbody>\n",
       "</table>\n",
       "</div>"
      ],
      "text/plain": [
       "   index         A         B         C         D         E\n",
       "0      0  0.200725 -1.033336 -0.481330 -1.097476 -1.071577\n",
       "1      1 -0.443988 -1.816926 -0.367223 -1.101936 -0.051321\n",
       "2      2 -0.385862 -2.096114  0.193254 -0.235828  0.602765\n",
       "3      3 -0.060105 -1.294294  0.779046 -0.241056  0.645593\n",
       "4      4  1.310104  0.091904 -0.294520 -1.378827  1.600259"
      ]
     },
     "execution_count": 184,
     "metadata": {},
     "output_type": "execute_result"
    }
   ],
   "source": [
    "#<help:sql_query>\n",
    "import pandas as pd\n",
    "import numpy as np\n",
    "from sqlalchemy import create_engine\n",
    "\n",
    "engine = create_engine('sqlite:///:memory:')\n",
    "connection = engine.raw_connection()\n",
    "\n",
    "df = pd.DataFrame(np.random.randn(5,5), index=None, columns=list('ABCDE'))\n",
    "df.to_sql('data', connection)\n",
    "pd.read_sql('SELECT * FROM data', connection)"
   ]
  },
  {
   "cell_type": "markdown",
   "metadata": {},
   "source": [
    "# Plot\n",
    "Create/Feed a Series or DataFrame, and plot it simply by using ```plot()```\n",
    "\n",
    "The entire parameter list for `plot` is:  \n",
    "\n",
    "`DataFrame.plot(data, x=None, y=None, kind='line', ax=None, subplots=False, sharex=True, sharey=False, layout=None, figsize=None, use_index=True, title=None, grid=None, legend=True, style=None, logx=False, logy=False, loglog=False, xticks=None, yticks=None, xlim=None, ylim=None, rot=None, fontsize=None, colormap=None, table=False, yerr=None, xerr=None, secondary_y=False, sort_columns=False, **kwds)`\n",
    "\n",
    "**Note**: Pandas uses matplotlib to render plots, so you must setup matplotlib."
   ]
  },
  {
   "cell_type": "code",
   "execution_count": 185,
   "metadata": {
    "collapsed": false
   },
   "outputs": [
    {
     "data": {
      "image/png": "[encoded data removed]",
      "text/plain": [
       "<matplotlib.figure.Figure at 0x7f727cf87550>"
      ]
     },
     "metadata": {},
     "output_type": "display_data"
    }
   ],
   "source": [
    "#<help:plot_series>\n",
    "import matplotlib.pyplot as plt\n",
    "%matplotlib inline\n",
    "import pandas as pd\n",
    "import numpy as np\n",
    "\n",
    "# use default pandas formatting\n",
    "pd.options.display.mpl_style = 'default'\n",
    "\n",
    "s = pd.Series([1,4,3,6,5,8])\n",
    "s.plot()\n",
    "plt.show()"
   ]
  },
  {
   "cell_type": "code",
   "execution_count": 186,
   "metadata": {
    "collapsed": false
   },
   "outputs": [
    {
     "data": {
      "image/png": "[encoded data removed]",
      "text/plain": [
       "<matplotlib.figure.Figure at 0x7f7295123450>"
      ]
     },
     "metadata": {},
     "output_type": "display_data"
    }
   ],
   "source": [
    "#<help:plot_dataframe>\n",
    "import matplotlib.pyplot as plt\n",
    "%matplotlib inline\n",
    "import pandas as pd\n",
    "import numpy as np\n",
    "\n",
    "# use default pandas formatting\n",
    "pd.options.display.mpl_style = 'default'\n",
    "\n",
    "dates = pd.date_range('20140102',periods=4)\n",
    "df = pd.DataFrame(np.random.randn(4,5),index=dates,columns=list('ABCDE'))\n",
    "df.plot()\n",
    "plt.show()"
   ]
  },
  {
   "cell_type": "markdown",
   "metadata": {},
   "source": [
    "Select a column to plot only that column in a DataFrame."
   ]
  },
  {
   "cell_type": "code",
   "execution_count": 187,
   "metadata": {
    "collapsed": false
   },
   "outputs": [
    {
     "data": {
      "image/png": "[encoded data removed]",
      "text/plain": [
       "<matplotlib.figure.Figure at 0x7f728c6cd810>"
      ]
     },
     "metadata": {},
     "output_type": "display_data"
    }
   ],
   "source": [
    "#<help:plot_dataframe_col>\n",
    "import matplotlib.pyplot as plt\n",
    "%matplotlib inline\n",
    "import pandas as pd\n",
    "import numpy as np\n",
    "\n",
    "# use default pandas formatting\n",
    "pd.options.display.mpl_style = 'default'\n",
    "\n",
    "dates = pd.date_range('20140102',periods=4)\n",
    "df = pd.DataFrame(np.random.randn(4,5),index=dates,columns=list('ABCDE'))\n",
    "df['A'].plot()\n",
    "plt.show()"
   ]
  },
  {
   "cell_type": "markdown",
   "metadata": {},
   "source": [
    "The kind keyword argument of plot() accepts a handful of values for plots other than the default line plot. These include:\n",
    "\n",
    "* `'bar'` or `'barh'` for bar plots\n",
    "\n",
    "* `'box'` for boxplot\n",
    "\n",
    "* `'kde'` or `'density'` for density plots\n",
    "\n",
    "* `'area'` for area plots\n",
    "\n",
    "* `'scatter'` for scatter plots\n",
    "\n",
    "* `'hexbin'` for hexagonal bin plots\n",
    "\n",
    "* `.hist()` for histogram\n",
    "\n",
    "* `.pie()`  for pie plots"
   ]
  },
  {
   "cell_type": "markdown",
   "metadata": {},
   "source": [
    "## Scatter Plot"
   ]
  },
  {
   "cell_type": "code",
   "execution_count": 188,
   "metadata": {
    "collapsed": false
   },
   "outputs": [
    {
     "data": {
      "image/png": "[encoded data removed]",
      "text/plain": [
       "<matplotlib.figure.Figure at 0x7f728c7326d0>"
      ]
     },
     "metadata": {},
     "output_type": "display_data"
    }
   ],
   "source": [
    "#<help:plot_scatter>\n",
    "import matplotlib.pyplot as plt\n",
    "%matplotlib inline\n",
    "import pandas as pd\n",
    "import numpy as np\n",
    "\n",
    "dates = pd.date_range('20140102',periods=6)\n",
    "df = pd.DataFrame(np.random.randn(6,6),index=dates,columns=list('ABCDEF'))\n",
    "df.plot(kind='scatter', x= 'A', y='B', color = 'g')\n",
    "plt.show()"
   ]
  },
  {
   "cell_type": "markdown",
   "metadata": {},
   "source": [
    "Scatter plot of multiple DataFrame columns."
   ]
  },
  {
   "cell_type": "code",
   "execution_count": 189,
   "metadata": {
    "collapsed": false
   },
   "outputs": [
    {
     "data": {
      "image/png": "[encoded data removed]",
      "text/plain": [
       "<matplotlib.figure.Figure at 0x7f72950ef950>"
      ]
     },
     "metadata": {},
     "output_type": "display_data"
    }
   ],
   "source": [
    "#<help:plot_multiple_scatter>\n",
    "import matplotlib.pyplot as plt\n",
    "%matplotlib inline\n",
    "import pandas as pd\n",
    "import numpy as np\n",
    "\n",
    "df = pd.DataFrame(np.random.rand(25, 4), columns=['A', 'B', 'C', 'D'])\n",
    "ax = df.plot(kind='scatter', x='A', y='D',\n",
    "             color='Blue', label='Group 1')\n",
    "df.plot(kind='scatter', x='B', y='C',\n",
    "        color='Green', label='Group 2', ax=ax)\n",
    "plt.show()"
   ]
  },
  {
   "cell_type": "markdown",
   "metadata": {},
   "source": [
    "## Bar Plot\n",
    "`kind='bar'`"
   ]
  },
  {
   "cell_type": "code",
   "execution_count": 190,
   "metadata": {
    "collapsed": false
   },
   "outputs": [
    {
     "data": {
      "image/png": "[encoded data removed]",
      "text/plain": [
       "<matplotlib.figure.Figure at 0x7f727ceac650>"
      ]
     },
     "metadata": {},
     "output_type": "display_data"
    }
   ],
   "source": [
    "#<help:plot_bar>\n",
    "import matplotlib.pyplot as plt\n",
    "%matplotlib inline\n",
    "import pandas as pd\n",
    "import numpy as np\n",
    "\n",
    "dates = pd.date_range('20141102',periods=8)\n",
    "df = pd.DataFrame(np.random.randn(8,8),index=dates,columns=list('ABCDEFGH'))\n",
    "\n",
    "df.plot(kind='bar', x= 'C', y='B', color='c')\n",
    "plt.show()"
   ]
  },
  {
   "cell_type": "markdown",
   "metadata": {},
   "source": [
    "## Stacked Bar Plot\n",
    "`kind='bar'`\n",
    "\n",
    "`stacked='True'`"
   ]
  },
  {
   "cell_type": "code",
   "execution_count": 191,
   "metadata": {
    "collapsed": false
   },
   "outputs": [
    {
     "data": {
      "image/png": "[encoded data removed]",
      "text/plain": [
       "<matplotlib.figure.Figure at 0x7f728c7b8fd0>"
      ]
     },
     "metadata": {},
     "output_type": "display_data"
    }
   ],
   "source": [
    "#<help:plot_bar_stacked>\n",
    "import matplotlib.pyplot as plt\n",
    "%matplotlib inline\n",
    "import pandas as pd\n",
    "import numpy as np\n",
    "\n",
    "df= pd.DataFrame(np.random.rand(10,4), columns=['a','b','c','d'])\n",
    "df.plot(kind='bar', stacked='True')\n",
    "plt.show()        "
   ]
  },
  {
   "cell_type": "markdown",
   "metadata": {},
   "source": [
    "## Horizontal Bar Plot\n",
    "`kind='barh'`"
   ]
  },
  {
   "cell_type": "code",
   "execution_count": 192,
   "metadata": {
    "collapsed": false
   },
   "outputs": [
    {
     "data": {
      "image/png": "[encoded data removed]",
      "text/plain": [
       "<matplotlib.figure.Figure at 0x7f728c7d0150>"
      ]
     },
     "metadata": {},
     "output_type": "display_data"
    }
   ],
   "source": [
    "#<help:plot_bar_horizontal>\n",
    "import matplotlib.pyplot as plt\n",
    "%matplotlib inline\n",
    "import pandas as pd\n",
    "import numpy as np\n",
    "\n",
    "dates = pd.date_range('20140902',periods=8)\n",
    "df = pd.DataFrame(np.random.randn(8,8),index=dates,columns=list('ABCDEFGH'))\n",
    "df.plot(kind='barh', x= 'C', y='F')\n",
    "plt.show()"
   ]
  },
  {
   "cell_type": "markdown",
   "metadata": {},
   "source": [
    "## Density Plot\n",
    "```kind='kde'```"
   ]
  },
  {
   "cell_type": "code",
   "execution_count": 193,
   "metadata": {
    "collapsed": false
   },
   "outputs": [
    {
     "data": {
      "image/png": "[encoded data removed]",
      "text/plain": [
       "<matplotlib.figure.Figure at 0x7f727d00ded0>"
      ]
     },
     "metadata": {},
     "output_type": "display_data"
    }
   ],
   "source": [
    "#<help:plot_kde_density>\n",
    "import matplotlib.pyplot as plt\n",
    "%matplotlib inline\n",
    "import pandas as pd\n",
    "import numpy as np\n",
    "\n",
    "ser = pd.Series(np.random.randn(1000))\n",
    "ser.plot(kind='kde')\n",
    "plt.show()"
   ]
  },
  {
   "cell_type": "markdown",
   "metadata": {},
   "source": [
    "## Histogram\n",
    "`.hist()`"
   ]
  },
  {
   "cell_type": "code",
   "execution_count": 194,
   "metadata": {
    "collapsed": false
   },
   "outputs": [
    {
     "data": {
      "image/png": "[encoded data removed]",
      "text/plain": [
       "<matplotlib.figure.Figure at 0x7f728c4bbe90>"
      ]
     },
     "metadata": {},
     "output_type": "display_data"
    }
   ],
   "source": [
    "#<help:plot_hist>  \n",
    "\n",
    "import matplotlib.pyplot as plt  \n",
    "%matplotlib inline  \n",
    "import pandas as pd\n",
    "import numpy as np  \n",
    "\n",
    "s = pd.Series(np.random.randn(1000))  \n",
    "s.hist()\n",
    "plt.show()  "
   ]
  },
  {
   "cell_type": "markdown",
   "metadata": {},
   "source": [
    "## Histogram (pandas 0.15.0)\n",
    "`kind='hist'`"
   ]
  },
  {
   "cell_type": "markdown",
   "metadata": {},
   "source": [
    "A histogram can be stacked using `stacked=True`. The bin size can be customized by setting `bins=N`."
   ]
  },
  {
   "cell_type": "code",
   "execution_count": 195,
   "metadata": {
    "collapsed": true
   },
   "outputs": [],
   "source": [
    "#<help:plot_hist_stacked>\n",
    "from functools import wraps\n",
    "def check_pandas_version(major=0, minor=0, fix=0):\n",
    "    '''Decorator that checks for minimum version of pandas.'''\n",
    "    def wrap(func):\n",
    "        @wraps(func)\n",
    "        def wrapped_func(*args, **kwargs):\n",
    "            version = [int(x) for x in pd.version.version.split('.')]\n",
    "            if version[0] < major or (version [0] == major and version[1] < minor) or \\\n",
    "               (version[0] == major and version[1] == minor and version[2] < fix):\n",
    "                print 'Please upgrade your pandas installation to {}.{}.{} or later.' \\\n",
    "                    .format(major, minor, fix)\n",
    "                return\n",
    "            return func(*args, **kwargs)\n",
    "        return wrapped_func\n",
    "    return wrap"
   ]
  },
  {
   "cell_type": "code",
   "execution_count": 196,
   "metadata": {
    "collapsed": false
   },
   "outputs": [
    {
     "ename": "AttributeError",
     "evalue": "'module' object has no attribute 'version'",
     "output_type": "error",
     "traceback": [
      "\u001b[0;31m\u001b[0m",
      "\u001b[0;31mAttributeError\u001b[0mTraceback (most recent call last)",
      "\u001b[0;32m<ipython-input-196-565991a21438>\u001b[0m in \u001b[0;36m<module>\u001b[0;34m()\u001b[0m\n\u001b[1;32m     13\u001b[0m     \u001b[0mdf\u001b[0m\u001b[0;34m.\u001b[0m\u001b[0mplot\u001b[0m\u001b[0;34m(\u001b[0m\u001b[0mkind\u001b[0m\u001b[0;34m=\u001b[0m\u001b[0;34m'hist'\u001b[0m\u001b[0;34m,\u001b[0m \u001b[0mstacked\u001b[0m\u001b[0;34m=\u001b[0m\u001b[0mTrue\u001b[0m\u001b[0;34m,\u001b[0m \u001b[0mbins\u001b[0m\u001b[0;34m=\u001b[0m\u001b[0;36m25\u001b[0m\u001b[0;34m)\u001b[0m\u001b[0;34m\u001b[0m\u001b[0m\n\u001b[1;32m     14\u001b[0m \u001b[0;34m\u001b[0m\u001b[0m\n\u001b[0;32m---> 15\u001b[0;31m \u001b[0mplot\u001b[0m\u001b[0;34m(\u001b[0m\u001b[0;34m)\u001b[0m\u001b[0;34m\u001b[0m\u001b[0m\n\u001b[0m\u001b[1;32m     16\u001b[0m \u001b[0mplt\u001b[0m\u001b[0;34m.\u001b[0m\u001b[0mshow\u001b[0m\u001b[0;34m(\u001b[0m\u001b[0;34m)\u001b[0m\u001b[0;34m\u001b[0m\u001b[0m\n",
      "\u001b[0;32m<ipython-input-195-81b741133af4>\u001b[0m in \u001b[0;36mwrapped_func\u001b[0;34m(*args, **kwargs)\u001b[0m\n\u001b[1;32m      6\u001b[0m         \u001b[0;34m@\u001b[0m\u001b[0mwraps\u001b[0m\u001b[0;34m(\u001b[0m\u001b[0mfunc\u001b[0m\u001b[0;34m)\u001b[0m\u001b[0;34m\u001b[0m\u001b[0m\n\u001b[1;32m      7\u001b[0m         \u001b[0;32mdef\u001b[0m \u001b[0mwrapped_func\u001b[0m\u001b[0;34m(\u001b[0m\u001b[0;34m*\u001b[0m\u001b[0margs\u001b[0m\u001b[0;34m,\u001b[0m \u001b[0;34m**\u001b[0m\u001b[0mkwargs\u001b[0m\u001b[0;34m)\u001b[0m\u001b[0;34m:\u001b[0m\u001b[0;34m\u001b[0m\u001b[0m\n\u001b[0;32m----> 8\u001b[0;31m             \u001b[0mversion\u001b[0m \u001b[0;34m=\u001b[0m \u001b[0;34m[\u001b[0m\u001b[0mint\u001b[0m\u001b[0;34m(\u001b[0m\u001b[0mx\u001b[0m\u001b[0;34m)\u001b[0m \u001b[0;32mfor\u001b[0m \u001b[0mx\u001b[0m \u001b[0;32min\u001b[0m \u001b[0mpd\u001b[0m\u001b[0;34m.\u001b[0m\u001b[0mversion\u001b[0m\u001b[0;34m.\u001b[0m\u001b[0mversion\u001b[0m\u001b[0;34m.\u001b[0m\u001b[0msplit\u001b[0m\u001b[0;34m(\u001b[0m\u001b[0;34m'.'\u001b[0m\u001b[0;34m)\u001b[0m\u001b[0;34m]\u001b[0m\u001b[0;34m\u001b[0m\u001b[0m\n\u001b[0m\u001b[1;32m      9\u001b[0m             \u001b[0;32mif\u001b[0m \u001b[0mversion\u001b[0m\u001b[0;34m[\u001b[0m\u001b[0;36m0\u001b[0m\u001b[0;34m]\u001b[0m \u001b[0;34m<\u001b[0m \u001b[0mmajor\u001b[0m \u001b[0;32mor\u001b[0m \u001b[0;34m(\u001b[0m\u001b[0mversion\u001b[0m \u001b[0;34m[\u001b[0m\u001b[0;36m0\u001b[0m\u001b[0;34m]\u001b[0m \u001b[0;34m==\u001b[0m \u001b[0mmajor\u001b[0m \u001b[0;32mand\u001b[0m \u001b[0mversion\u001b[0m\u001b[0;34m[\u001b[0m\u001b[0;36m1\u001b[0m\u001b[0;34m]\u001b[0m \u001b[0;34m<\u001b[0m \u001b[0mminor\u001b[0m\u001b[0;34m)\u001b[0m \u001b[0;32mor\u001b[0m                \u001b[0;34m(\u001b[0m\u001b[0mversion\u001b[0m\u001b[0;34m[\u001b[0m\u001b[0;36m0\u001b[0m\u001b[0;34m]\u001b[0m \u001b[0;34m==\u001b[0m \u001b[0mmajor\u001b[0m \u001b[0;32mand\u001b[0m \u001b[0mversion\u001b[0m\u001b[0;34m[\u001b[0m\u001b[0;36m1\u001b[0m\u001b[0;34m]\u001b[0m \u001b[0;34m==\u001b[0m \u001b[0mminor\u001b[0m \u001b[0;32mand\u001b[0m \u001b[0mversion\u001b[0m\u001b[0;34m[\u001b[0m\u001b[0;36m2\u001b[0m\u001b[0;34m]\u001b[0m \u001b[0;34m<\u001b[0m \u001b[0mfix\u001b[0m\u001b[0;34m)\u001b[0m\u001b[0;34m:\u001b[0m\u001b[0;34m\u001b[0m\u001b[0m\n\u001b[1;32m     10\u001b[0m                 \u001b[0;32mprint\u001b[0m \u001b[0;34m'Please upgrade your pandas installation to {}.{}.{} or later.'\u001b[0m                     \u001b[0;34m.\u001b[0m\u001b[0mformat\u001b[0m\u001b[0;34m(\u001b[0m\u001b[0mmajor\u001b[0m\u001b[0;34m,\u001b[0m \u001b[0mminor\u001b[0m\u001b[0;34m,\u001b[0m \u001b[0mfix\u001b[0m\u001b[0;34m)\u001b[0m\u001b[0;34m\u001b[0m\u001b[0m\n",
      "\u001b[0;31mAttributeError\u001b[0m: 'module' object has no attribute 'version'"
     ]
    }
   ],
   "source": [
    "#<help:plot_hist_stacked>\n",
    "import matplotlib.pyplot as plt\n",
    "%matplotlib inline\n",
    "import pandas as pd\n",
    "import numpy as np\n",
    "\n",
    "df = pd.DataFrame({'A': np.random.randn(500) + 1, 'B': np.random.randn(500), \n",
    "                 'C': np.random.randn(500) - 1}, columns=['A', 'B', 'C'])\n",
    "\n",
    "# kind=hist requires pandas 0.15 or later\n",
    "@check_pandas_version(0, 15)\n",
    "def plot():\n",
    "    df.plot(kind='hist', stacked=True, bins=25)\n",
    "\n",
    "plot()\n",
    "plt.show()"
   ]
  },
  {
   "cell_type": "markdown",
   "metadata": {},
   "source": [
    "Other keywords can be used, like `orientation='horizontal'` and `cumulative=True`"
   ]
  },
  {
   "cell_type": "code",
   "execution_count": 197,
   "metadata": {
    "collapsed": true
   },
   "outputs": [],
   "source": [
    "#<help:plot_hist_cumulative_horizontal>\n",
    "from functools import wraps\n",
    "def check_pandas_version(major=0, minor=0, fix=0):\n",
    "    '''Decorator that checks for minimum version of pandas.'''\n",
    "    def wrap(func):\n",
    "        @wraps(func)\n",
    "        def wrapped_func(*args, **kwargs):\n",
    "            version = [int(x) for x in pd.version.version.split('.')]\n",
    "            if version[0] < major or (version [0] == major and version[1] < minor) or \\\n",
    "               (version[0] == major and version[1] == minor and version[2] < fix):\n",
    "                print 'Please upgrade your pandas installation to {}.{}.{} or later.' \\\n",
    "                    .format(major, minor, fix)\n",
    "                return\n",
    "            return func(*args, **kwargs)\n",
    "        return wrapped_func\n",
    "    return wrap"
   ]
  },
  {
   "cell_type": "code",
   "execution_count": 198,
   "metadata": {
    "collapsed": false
   },
   "outputs": [
    {
     "ename": "AttributeError",
     "evalue": "'module' object has no attribute 'version'",
     "output_type": "error",
     "traceback": [
      "\u001b[0;31m\u001b[0m",
      "\u001b[0;31mAttributeError\u001b[0mTraceback (most recent call last)",
      "\u001b[0;32m<ipython-input-198-94be8616e9ab>\u001b[0m in \u001b[0;36m<module>\u001b[0;34m()\u001b[0m\n\u001b[1;32m     13\u001b[0m     \u001b[0mdf\u001b[0m\u001b[0;34m[\u001b[0m\u001b[0;34m'A'\u001b[0m\u001b[0;34m]\u001b[0m\u001b[0;34m.\u001b[0m\u001b[0mplot\u001b[0m\u001b[0;34m(\u001b[0m\u001b[0mkind\u001b[0m\u001b[0;34m=\u001b[0m\u001b[0;34m'hist'\u001b[0m\u001b[0;34m,\u001b[0m \u001b[0morientation\u001b[0m\u001b[0;34m=\u001b[0m\u001b[0;34m'horizontal'\u001b[0m\u001b[0;34m,\u001b[0m \u001b[0mcumulative\u001b[0m\u001b[0;34m=\u001b[0m\u001b[0mTrue\u001b[0m\u001b[0;34m)\u001b[0m\u001b[0;34m\u001b[0m\u001b[0m\n\u001b[1;32m     14\u001b[0m \u001b[0;34m\u001b[0m\u001b[0m\n\u001b[0;32m---> 15\u001b[0;31m \u001b[0mplot\u001b[0m\u001b[0;34m(\u001b[0m\u001b[0;34m)\u001b[0m\u001b[0;34m\u001b[0m\u001b[0m\n\u001b[0m\u001b[1;32m     16\u001b[0m \u001b[0mplt\u001b[0m\u001b[0;34m.\u001b[0m\u001b[0mshow\u001b[0m\u001b[0;34m(\u001b[0m\u001b[0;34m)\u001b[0m\u001b[0;34m\u001b[0m\u001b[0m\n",
      "\u001b[0;32m<ipython-input-197-90c2c774ba4d>\u001b[0m in \u001b[0;36mwrapped_func\u001b[0;34m(*args, **kwargs)\u001b[0m\n\u001b[1;32m      6\u001b[0m         \u001b[0;34m@\u001b[0m\u001b[0mwraps\u001b[0m\u001b[0;34m(\u001b[0m\u001b[0mfunc\u001b[0m\u001b[0;34m)\u001b[0m\u001b[0;34m\u001b[0m\u001b[0m\n\u001b[1;32m      7\u001b[0m         \u001b[0;32mdef\u001b[0m \u001b[0mwrapped_func\u001b[0m\u001b[0;34m(\u001b[0m\u001b[0;34m*\u001b[0m\u001b[0margs\u001b[0m\u001b[0;34m,\u001b[0m \u001b[0;34m**\u001b[0m\u001b[0mkwargs\u001b[0m\u001b[0;34m)\u001b[0m\u001b[0;34m:\u001b[0m\u001b[0;34m\u001b[0m\u001b[0m\n\u001b[0;32m----> 8\u001b[0;31m             \u001b[0mversion\u001b[0m \u001b[0;34m=\u001b[0m \u001b[0;34m[\u001b[0m\u001b[0mint\u001b[0m\u001b[0;34m(\u001b[0m\u001b[0mx\u001b[0m\u001b[0;34m)\u001b[0m \u001b[0;32mfor\u001b[0m \u001b[0mx\u001b[0m \u001b[0;32min\u001b[0m \u001b[0mpd\u001b[0m\u001b[0;34m.\u001b[0m\u001b[0mversion\u001b[0m\u001b[0;34m.\u001b[0m\u001b[0mversion\u001b[0m\u001b[0;34m.\u001b[0m\u001b[0msplit\u001b[0m\u001b[0;34m(\u001b[0m\u001b[0;34m'.'\u001b[0m\u001b[0;34m)\u001b[0m\u001b[0;34m]\u001b[0m\u001b[0;34m\u001b[0m\u001b[0m\n\u001b[0m\u001b[1;32m      9\u001b[0m             \u001b[0;32mif\u001b[0m \u001b[0mversion\u001b[0m\u001b[0;34m[\u001b[0m\u001b[0;36m0\u001b[0m\u001b[0;34m]\u001b[0m \u001b[0;34m<\u001b[0m \u001b[0mmajor\u001b[0m \u001b[0;32mor\u001b[0m \u001b[0;34m(\u001b[0m\u001b[0mversion\u001b[0m \u001b[0;34m[\u001b[0m\u001b[0;36m0\u001b[0m\u001b[0;34m]\u001b[0m \u001b[0;34m==\u001b[0m \u001b[0mmajor\u001b[0m \u001b[0;32mand\u001b[0m \u001b[0mversion\u001b[0m\u001b[0;34m[\u001b[0m\u001b[0;36m1\u001b[0m\u001b[0;34m]\u001b[0m \u001b[0;34m<\u001b[0m \u001b[0mminor\u001b[0m\u001b[0;34m)\u001b[0m \u001b[0;32mor\u001b[0m                \u001b[0;34m(\u001b[0m\u001b[0mversion\u001b[0m\u001b[0;34m[\u001b[0m\u001b[0;36m0\u001b[0m\u001b[0;34m]\u001b[0m \u001b[0;34m==\u001b[0m \u001b[0mmajor\u001b[0m \u001b[0;32mand\u001b[0m \u001b[0mversion\u001b[0m\u001b[0;34m[\u001b[0m\u001b[0;36m1\u001b[0m\u001b[0;34m]\u001b[0m \u001b[0;34m==\u001b[0m \u001b[0mminor\u001b[0m \u001b[0;32mand\u001b[0m \u001b[0mversion\u001b[0m\u001b[0;34m[\u001b[0m\u001b[0;36m2\u001b[0m\u001b[0;34m]\u001b[0m \u001b[0;34m<\u001b[0m \u001b[0mfix\u001b[0m\u001b[0;34m)\u001b[0m\u001b[0;34m:\u001b[0m\u001b[0;34m\u001b[0m\u001b[0m\n\u001b[1;32m     10\u001b[0m                 \u001b[0;32mprint\u001b[0m \u001b[0;34m'Please upgrade your pandas installation to {}.{}.{} or later.'\u001b[0m                     \u001b[0;34m.\u001b[0m\u001b[0mformat\u001b[0m\u001b[0;34m(\u001b[0m\u001b[0mmajor\u001b[0m\u001b[0;34m,\u001b[0m \u001b[0mminor\u001b[0m\u001b[0;34m,\u001b[0m \u001b[0mfix\u001b[0m\u001b[0;34m)\u001b[0m\u001b[0;34m\u001b[0m\u001b[0m\n",
      "\u001b[0;31mAttributeError\u001b[0m: 'module' object has no attribute 'version'"
     ]
    }
   ],
   "source": [
    "#<help:plot_hist_cumulative_horizontal>\n",
    "import matplotlib.pyplot as plt\n",
    "%matplotlib inline\n",
    "import pandas as pd\n",
    "import numpy as np\n",
    "\n",
    "df = pd.DataFrame({'A': np.random.randn(500) + 1, 'B': np.random.randn(500), \n",
    "                 'C': np.random.randn(500) - 1}, columns=['A', 'B', 'C'])\n",
    "\n",
    "# kind=hist requires pandas 0.15 or later\n",
    "@check_pandas_version(0, 15)\n",
    "def plot():\n",
    "    df['A'].plot(kind='hist', orientation='horizontal', cumulative=True)\n",
    "\n",
    "plot()\n",
    "plt.show()"
   ]
  },
  {
   "cell_type": "markdown",
   "metadata": {},
   "source": [
    "## Hexbin Plot (pandas 0.15.0)\n",
    "\n",
    "`kind='hexbin'`\n",
    "\n",
    "Useful for when a scatter plot has too many data points.  \n",
    "\n",
    "Control the number of hexagons in the x direction with `gridsize`, defaults to 100."
   ]
  },
  {
   "cell_type": "code",
   "execution_count": 199,
   "metadata": {
    "collapsed": true
   },
   "outputs": [],
   "source": [
    "#<help:plot_hexbin>\n",
    "from functools import wraps\n",
    "def check_pandas_version(major=0, minor=0, fix=0):\n",
    "    '''Decorator that checks for minimum version of pandas.'''\n",
    "    def wrap(func):\n",
    "        @wraps(func)\n",
    "        def wrapped_func(*args, **kwargs):\n",
    "            version = [int(x) for x in pd.version.version.split('.')]\n",
    "            if version[0] < major or (version [0] == major and version[1] < minor) or \\\n",
    "               (version[0] == major and version[1] == minor and version[2] < fix):\n",
    "                print 'Please upgrade your pandas installation to {}.{}.{} or later.' \\\n",
    "                    .format(major, minor, fix)\n",
    "                return\n",
    "            return func(*args, **kwargs)\n",
    "        return wrapped_func\n",
    "    return wrap"
   ]
  },
  {
   "cell_type": "code",
   "execution_count": 200,
   "metadata": {
    "collapsed": false
   },
   "outputs": [
    {
     "ename": "AttributeError",
     "evalue": "'module' object has no attribute 'version'",
     "output_type": "error",
     "traceback": [
      "\u001b[0;31m\u001b[0m",
      "\u001b[0;31mAttributeError\u001b[0mTraceback (most recent call last)",
      "\u001b[0;32m<ipython-input-200-1bfa4fc1ed20>\u001b[0m in \u001b[0;36m<module>\u001b[0;34m()\u001b[0m\n\u001b[1;32m     13\u001b[0m     \u001b[0mdf\u001b[0m\u001b[0;34m.\u001b[0m\u001b[0mplot\u001b[0m\u001b[0;34m(\u001b[0m\u001b[0mkind\u001b[0m\u001b[0;34m=\u001b[0m\u001b[0;34m'hexbin'\u001b[0m\u001b[0;34m,\u001b[0m \u001b[0mx\u001b[0m\u001b[0;34m=\u001b[0m\u001b[0;34m'C'\u001b[0m\u001b[0;34m,\u001b[0m \u001b[0my\u001b[0m\u001b[0;34m=\u001b[0m\u001b[0;34m'B'\u001b[0m\u001b[0;34m,\u001b[0m \u001b[0mgridsize\u001b[0m\u001b[0;34m=\u001b[0m\u001b[0;36m20\u001b[0m\u001b[0;34m)\u001b[0m\u001b[0;34m\u001b[0m\u001b[0m\n\u001b[1;32m     14\u001b[0m \u001b[0;34m\u001b[0m\u001b[0m\n\u001b[0;32m---> 15\u001b[0;31m \u001b[0mplot\u001b[0m\u001b[0;34m(\u001b[0m\u001b[0;34m)\u001b[0m\u001b[0;34m\u001b[0m\u001b[0m\n\u001b[0m\u001b[1;32m     16\u001b[0m \u001b[0mplt\u001b[0m\u001b[0;34m.\u001b[0m\u001b[0mshow\u001b[0m\u001b[0;34m(\u001b[0m\u001b[0;34m)\u001b[0m\u001b[0;34m\u001b[0m\u001b[0m\n",
      "\u001b[0;32m<ipython-input-199-8af6806aec70>\u001b[0m in \u001b[0;36mwrapped_func\u001b[0;34m(*args, **kwargs)\u001b[0m\n\u001b[1;32m      6\u001b[0m         \u001b[0;34m@\u001b[0m\u001b[0mwraps\u001b[0m\u001b[0;34m(\u001b[0m\u001b[0mfunc\u001b[0m\u001b[0;34m)\u001b[0m\u001b[0;34m\u001b[0m\u001b[0m\n\u001b[1;32m      7\u001b[0m         \u001b[0;32mdef\u001b[0m \u001b[0mwrapped_func\u001b[0m\u001b[0;34m(\u001b[0m\u001b[0;34m*\u001b[0m\u001b[0margs\u001b[0m\u001b[0;34m,\u001b[0m \u001b[0;34m**\u001b[0m\u001b[0mkwargs\u001b[0m\u001b[0;34m)\u001b[0m\u001b[0;34m:\u001b[0m\u001b[0;34m\u001b[0m\u001b[0m\n\u001b[0;32m----> 8\u001b[0;31m             \u001b[0mversion\u001b[0m \u001b[0;34m=\u001b[0m \u001b[0;34m[\u001b[0m\u001b[0mint\u001b[0m\u001b[0;34m(\u001b[0m\u001b[0mx\u001b[0m\u001b[0;34m)\u001b[0m \u001b[0;32mfor\u001b[0m \u001b[0mx\u001b[0m \u001b[0;32min\u001b[0m \u001b[0mpd\u001b[0m\u001b[0;34m.\u001b[0m\u001b[0mversion\u001b[0m\u001b[0;34m.\u001b[0m\u001b[0mversion\u001b[0m\u001b[0;34m.\u001b[0m\u001b[0msplit\u001b[0m\u001b[0;34m(\u001b[0m\u001b[0;34m'.'\u001b[0m\u001b[0;34m)\u001b[0m\u001b[0;34m]\u001b[0m\u001b[0;34m\u001b[0m\u001b[0m\n\u001b[0m\u001b[1;32m      9\u001b[0m             \u001b[0;32mif\u001b[0m \u001b[0mversion\u001b[0m\u001b[0;34m[\u001b[0m\u001b[0;36m0\u001b[0m\u001b[0;34m]\u001b[0m \u001b[0;34m<\u001b[0m \u001b[0mmajor\u001b[0m \u001b[0;32mor\u001b[0m \u001b[0;34m(\u001b[0m\u001b[0mversion\u001b[0m \u001b[0;34m[\u001b[0m\u001b[0;36m0\u001b[0m\u001b[0;34m]\u001b[0m \u001b[0;34m==\u001b[0m \u001b[0mmajor\u001b[0m \u001b[0;32mand\u001b[0m \u001b[0mversion\u001b[0m\u001b[0;34m[\u001b[0m\u001b[0;36m1\u001b[0m\u001b[0;34m]\u001b[0m \u001b[0;34m<\u001b[0m \u001b[0mminor\u001b[0m\u001b[0;34m)\u001b[0m \u001b[0;32mor\u001b[0m                \u001b[0;34m(\u001b[0m\u001b[0mversion\u001b[0m\u001b[0;34m[\u001b[0m\u001b[0;36m0\u001b[0m\u001b[0;34m]\u001b[0m \u001b[0;34m==\u001b[0m \u001b[0mmajor\u001b[0m \u001b[0;32mand\u001b[0m \u001b[0mversion\u001b[0m\u001b[0;34m[\u001b[0m\u001b[0;36m1\u001b[0m\u001b[0;34m]\u001b[0m \u001b[0;34m==\u001b[0m \u001b[0mminor\u001b[0m \u001b[0;32mand\u001b[0m \u001b[0mversion\u001b[0m\u001b[0;34m[\u001b[0m\u001b[0;36m2\u001b[0m\u001b[0;34m]\u001b[0m \u001b[0;34m<\u001b[0m \u001b[0mfix\u001b[0m\u001b[0;34m)\u001b[0m\u001b[0;34m:\u001b[0m\u001b[0;34m\u001b[0m\u001b[0m\n\u001b[1;32m     10\u001b[0m                 \u001b[0;32mprint\u001b[0m \u001b[0;34m'Please upgrade your pandas installation to {}.{}.{} or later.'\u001b[0m                     \u001b[0;34m.\u001b[0m\u001b[0mformat\u001b[0m\u001b[0;34m(\u001b[0m\u001b[0mmajor\u001b[0m\u001b[0;34m,\u001b[0m \u001b[0mminor\u001b[0m\u001b[0;34m,\u001b[0m \u001b[0mfix\u001b[0m\u001b[0;34m)\u001b[0m\u001b[0;34m\u001b[0m\u001b[0m\n",
      "\u001b[0;31mAttributeError\u001b[0m: 'module' object has no attribute 'version'"
     ]
    }
   ],
   "source": [
    "#<help:plot_hexbin>\n",
    "import matplotlib.pyplot as plt\n",
    "%matplotlib inline\n",
    "import pandas as pd\n",
    "import numpy as np\n",
    "\n",
    "df = pd.DataFrame(np.random.rand(900, 3), columns=['A', 'B', 'C'])\n",
    "df['B'] = df['B'] + np.arange(900)\n",
    "\n",
    "# kind=hexbin requires pandas 0.15 or later\n",
    "@check_pandas_version(0, 15)\n",
    "def plot():\n",
    "    df.plot(kind='hexbin', x='C', y='B', gridsize=20)\n",
    "    \n",
    "plot()\n",
    "plt.show()"
   ]
  },
  {
   "cell_type": "markdown",
   "metadata": {},
   "source": [
    "## Scatter Plot for a Series"
   ]
  },
  {
   "cell_type": "code",
   "execution_count": 201,
   "metadata": {
    "collapsed": false
   },
   "outputs": [
    {
     "data": {
      "image/png": "[encoded data removed]",
      "text/plain": [
       "<matplotlib.figure.Figure at 0x7f728c551090>"
      ]
     },
     "metadata": {},
     "output_type": "display_data"
    }
   ],
   "source": [
    "#<help:plot_scatter_series>\n",
    "import matplotlib.pyplot as plt\n",
    "%matplotlib inline\n",
    "import numpy as np\n",
    "import pandas as pd\n",
    "\n",
    "np.random.seed(1974)\n",
    "\n",
    "# Generate Data\n",
    "num = 20\n",
    "x, y = np.random.random((2, num))\n",
    "labels = np.random.choice(['a', 'b', 'c'], num)\n",
    "df = pd.DataFrame(dict(x=x, y=y, label=labels))\n",
    "\n",
    "groups = df.groupby('label')\n",
    "\n",
    "# Plot\n",
    "fig, ax = plt.subplots()\n",
    "ax.margins(0.05) # Optional, just adds 5% padding to the autoscaling\n",
    "for name, group in groups:\n",
    "    ax.plot(group.x, group.y, marker='o', linestyle='', ms=12, label=name)\n",
    "ax.legend()\n",
    "plt.show()"
   ]
  },
  {
   "cell_type": "markdown",
   "metadata": {},
   "source": [
    "## Box Plot\n",
    "```.boxplot()```"
   ]
  },
  {
   "cell_type": "code",
   "execution_count": 202,
   "metadata": {
    "collapsed": false
   },
   "outputs": [
    {
     "name": "stderr",
     "output_type": "stream",
     "text": [
      "/usr/local/lib/python2.7/dist-packages/ipykernel/__main__.py:8: FutureWarning: \n",
      "The default value for 'return_type' will change to 'axes' in a future release.\n",
      " To use the future behavior now, set return_type='axes'.\n",
      " To keep the previous behavior and silence this warning, set return_type='dict'.\n"
     ]
    },
    {
     "data": {
      "image/png": "[encoded data removed]",
      "text/plain": [
       "<matplotlib.figure.Figure at 0x7f728c584b10>"
      ]
     },
     "metadata": {},
     "output_type": "display_data"
    }
   ],
   "source": [
    "#<help:plot_boxplot>\n",
    "import matplotlib.pyplot as plt\n",
    "%matplotlib inline\n",
    "import numpy as np\n",
    "import pandas as pd\n",
    "\n",
    "daf = pd.DataFrame(np.random.rand(10,5))\n",
    "bp= daf.boxplot()\n",
    "plt.show()"
   ]
  },
  {
   "cell_type": "markdown",
   "metadata": {},
   "source": [
    "## Bootstrap Plot\n",
    "These visually assess the uncertainty of a statistic. "
   ]
  },
  {
   "cell_type": "code",
   "execution_count": 203,
   "metadata": {
    "collapsed": false
   },
   "outputs": [
    {
     "data": {
      "image/png": "[encoded data removed]",
      "text/plain": [
       "<matplotlib.figure.Figure at 0x7f728c4bb150>"
      ]
     },
     "metadata": {},
     "output_type": "display_data"
    }
   ],
   "source": [
    "#<help:plot_bootstrap_series>\n",
    "import matplotlib.pyplot as plt\n",
    "%matplotlib inline\n",
    "import numpy as np\n",
    "import pandas as pd\n",
    "from pandas.tools.plotting import bootstrap_plot\n",
    "\n",
    "data = pd.Series(np.random.rand(1500))\n",
    "bootstrap_plot(data, size=50, samples= 300, color='m')\n",
    "plt.show()"
   ]
  },
  {
   "cell_type": "markdown",
   "metadata": {},
   "source": [
    "## Pie Chart (pandas 0.15.0)\n",
    "`kind='pie'`\n",
    "\n",
    "**Note:** \n",
    "Use the `labels` and `colors` keywords to specify the labels and colors of each wedge.\n",
    "(Note the lack of “s” on those). This is to be consistent with `matplotlib.pyplot.pie()`."
   ]
  },
  {
   "cell_type": "code",
   "execution_count": 204,
   "metadata": {
    "collapsed": true
   },
   "outputs": [],
   "source": [
    "#<help:plot_pie_chart>\n",
    "from functools import wraps\n",
    "def check_pandas_version(major=0, minor=0, fix=0):\n",
    "    '''Decorator that checks for minimum version of pandas.'''\n",
    "    def wrap(func):\n",
    "        @wraps(func)\n",
    "        def wrapped_func(*args, **kwargs):\n",
    "            version = [int(x) for x in pd.version.version.split('.')]\n",
    "            if version[0] < major or (version [0] == major and version[1] < minor) or \\\n",
    "               (version[0] == major and version[1] == minor and version[2] < fix):\n",
    "                print 'Please upgrade your pandas installation to {}.{}.{} or later.' \\\n",
    "                    .format(major, minor, fix)\n",
    "                return\n",
    "            return func(*args, **kwargs)\n",
    "        return wrapped_func\n",
    "    return wrap"
   ]
  },
  {
   "cell_type": "code",
   "execution_count": 205,
   "metadata": {
    "collapsed": false
   },
   "outputs": [
    {
     "ename": "AttributeError",
     "evalue": "'module' object has no attribute 'version'",
     "output_type": "error",
     "traceback": [
      "\u001b[0;31m\u001b[0m",
      "\u001b[0;31mAttributeError\u001b[0mTraceback (most recent call last)",
      "\u001b[0;32m<ipython-input-205-f27da8b602e4>\u001b[0m in \u001b[0;36m<module>\u001b[0;34m()\u001b[0m\n\u001b[1;32m     12\u001b[0m     \u001b[0mseries\u001b[0m\u001b[0;34m.\u001b[0m\u001b[0mplot\u001b[0m\u001b[0;34m(\u001b[0m\u001b[0mkind\u001b[0m\u001b[0;34m=\u001b[0m\u001b[0;34m'pie'\u001b[0m\u001b[0;34m,\u001b[0m \u001b[0mlabels\u001b[0m\u001b[0;34m=\u001b[0m\u001b[0;34m[\u001b[0m\u001b[0;34m'AA'\u001b[0m\u001b[0;34m,\u001b[0m \u001b[0;34m'BB'\u001b[0m\u001b[0;34m,\u001b[0m \u001b[0;34m'CC'\u001b[0m\u001b[0;34m,\u001b[0m \u001b[0;34m'DD'\u001b[0m\u001b[0;34m]\u001b[0m\u001b[0;34m,\u001b[0m \u001b[0mcolors\u001b[0m\u001b[0;34m=\u001b[0m\u001b[0;34m[\u001b[0m\u001b[0;34m'm'\u001b[0m\u001b[0;34m,\u001b[0m \u001b[0;34m'g'\u001b[0m\u001b[0;34m,\u001b[0m \u001b[0;34m'y'\u001b[0m\u001b[0;34m,\u001b[0m \u001b[0;34m'c'\u001b[0m\u001b[0;34m]\u001b[0m\u001b[0;34m,\u001b[0m \u001b[0mfigsize\u001b[0m\u001b[0;34m=\u001b[0m\u001b[0;34m(\u001b[0m\u001b[0;36m6\u001b[0m\u001b[0;34m,\u001b[0m\u001b[0;36m6\u001b[0m\u001b[0;34m)\u001b[0m\u001b[0;34m)\u001b[0m\u001b[0;34m\u001b[0m\u001b[0m\n\u001b[1;32m     13\u001b[0m \u001b[0;34m\u001b[0m\u001b[0m\n\u001b[0;32m---> 14\u001b[0;31m \u001b[0mplot\u001b[0m\u001b[0;34m(\u001b[0m\u001b[0;34m)\u001b[0m\u001b[0;34m\u001b[0m\u001b[0m\n\u001b[0m\u001b[1;32m     15\u001b[0m \u001b[0mplt\u001b[0m\u001b[0;34m.\u001b[0m\u001b[0mshow\u001b[0m\u001b[0;34m(\u001b[0m\u001b[0;34m)\u001b[0m\u001b[0;34m\u001b[0m\u001b[0m\n",
      "\u001b[0;32m<ipython-input-204-ddf84fcd727f>\u001b[0m in \u001b[0;36mwrapped_func\u001b[0;34m(*args, **kwargs)\u001b[0m\n\u001b[1;32m      6\u001b[0m         \u001b[0;34m@\u001b[0m\u001b[0mwraps\u001b[0m\u001b[0;34m(\u001b[0m\u001b[0mfunc\u001b[0m\u001b[0;34m)\u001b[0m\u001b[0;34m\u001b[0m\u001b[0m\n\u001b[1;32m      7\u001b[0m         \u001b[0;32mdef\u001b[0m \u001b[0mwrapped_func\u001b[0m\u001b[0;34m(\u001b[0m\u001b[0;34m*\u001b[0m\u001b[0margs\u001b[0m\u001b[0;34m,\u001b[0m \u001b[0;34m**\u001b[0m\u001b[0mkwargs\u001b[0m\u001b[0;34m)\u001b[0m\u001b[0;34m:\u001b[0m\u001b[0;34m\u001b[0m\u001b[0m\n\u001b[0;32m----> 8\u001b[0;31m             \u001b[0mversion\u001b[0m \u001b[0;34m=\u001b[0m \u001b[0;34m[\u001b[0m\u001b[0mint\u001b[0m\u001b[0;34m(\u001b[0m\u001b[0mx\u001b[0m\u001b[0;34m)\u001b[0m \u001b[0;32mfor\u001b[0m \u001b[0mx\u001b[0m \u001b[0;32min\u001b[0m \u001b[0mpd\u001b[0m\u001b[0;34m.\u001b[0m\u001b[0mversion\u001b[0m\u001b[0;34m.\u001b[0m\u001b[0mversion\u001b[0m\u001b[0;34m.\u001b[0m\u001b[0msplit\u001b[0m\u001b[0;34m(\u001b[0m\u001b[0;34m'.'\u001b[0m\u001b[0;34m)\u001b[0m\u001b[0;34m]\u001b[0m\u001b[0;34m\u001b[0m\u001b[0m\n\u001b[0m\u001b[1;32m      9\u001b[0m             \u001b[0;32mif\u001b[0m \u001b[0mversion\u001b[0m\u001b[0;34m[\u001b[0m\u001b[0;36m0\u001b[0m\u001b[0;34m]\u001b[0m \u001b[0;34m<\u001b[0m \u001b[0mmajor\u001b[0m \u001b[0;32mor\u001b[0m \u001b[0;34m(\u001b[0m\u001b[0mversion\u001b[0m \u001b[0;34m[\u001b[0m\u001b[0;36m0\u001b[0m\u001b[0;34m]\u001b[0m \u001b[0;34m==\u001b[0m \u001b[0mmajor\u001b[0m \u001b[0;32mand\u001b[0m \u001b[0mversion\u001b[0m\u001b[0;34m[\u001b[0m\u001b[0;36m1\u001b[0m\u001b[0;34m]\u001b[0m \u001b[0;34m<\u001b[0m \u001b[0mminor\u001b[0m\u001b[0;34m)\u001b[0m \u001b[0;32mor\u001b[0m                \u001b[0;34m(\u001b[0m\u001b[0mversion\u001b[0m\u001b[0;34m[\u001b[0m\u001b[0;36m0\u001b[0m\u001b[0;34m]\u001b[0m \u001b[0;34m==\u001b[0m \u001b[0mmajor\u001b[0m \u001b[0;32mand\u001b[0m \u001b[0mversion\u001b[0m\u001b[0;34m[\u001b[0m\u001b[0;36m1\u001b[0m\u001b[0;34m]\u001b[0m \u001b[0;34m==\u001b[0m \u001b[0mminor\u001b[0m \u001b[0;32mand\u001b[0m \u001b[0mversion\u001b[0m\u001b[0;34m[\u001b[0m\u001b[0;36m2\u001b[0m\u001b[0;34m]\u001b[0m \u001b[0;34m<\u001b[0m \u001b[0mfix\u001b[0m\u001b[0;34m)\u001b[0m\u001b[0;34m:\u001b[0m\u001b[0;34m\u001b[0m\u001b[0m\n\u001b[1;32m     10\u001b[0m                 \u001b[0;32mprint\u001b[0m \u001b[0;34m'Please upgrade your pandas installation to {}.{}.{} or later.'\u001b[0m                     \u001b[0;34m.\u001b[0m\u001b[0mformat\u001b[0m\u001b[0;34m(\u001b[0m\u001b[0mmajor\u001b[0m\u001b[0;34m,\u001b[0m \u001b[0mminor\u001b[0m\u001b[0;34m,\u001b[0m \u001b[0mfix\u001b[0m\u001b[0;34m)\u001b[0m\u001b[0;34m\u001b[0m\u001b[0m\n",
      "\u001b[0;31mAttributeError\u001b[0m: 'module' object has no attribute 'version'"
     ]
    }
   ],
   "source": [
    "#<help:plot_pie_chart>\n",
    "import matplotlib.pyplot as plt\n",
    "%matplotlib inline\n",
    "import numpy as np\n",
    "import pandas as pd\n",
    "\n",
    "series = pd.Series(3* np.random.rand(4), index=['a','b','c','d'], name='Series')\n",
    "\n",
    "# kind=pie requires pandas 0.15 or later\n",
    "@check_pandas_version(0, 15)\n",
    "def plot():\n",
    "    series.plot(kind='pie', labels=['AA', 'BB', 'CC', 'DD'], colors=['m', 'g', 'y', 'c'], figsize=(6,6))\n",
    "\n",
    "plot()\n",
    "plt.show()"
   ]
  },
  {
   "cell_type": "markdown",
   "metadata": {},
   "source": [
    "## Area Plot (pandas 0.15.0)\n",
    "`kind='area'`\n",
    "\n",
    "Stacked area chart."
   ]
  },
  {
   "cell_type": "code",
   "execution_count": 206,
   "metadata": {
    "collapsed": true
   },
   "outputs": [],
   "source": [
    "#<help:plot_area_stacked>\n",
    "from functools import wraps\n",
    "def check_pandas_version(major=0, minor=0, fix=0):\n",
    "    '''Decorator that checks for minimum version of pandas.'''\n",
    "    def wrap(func):\n",
    "        @wraps(func)\n",
    "        def wrapped_func(*args, **kwargs):\n",
    "            version = [int(x) for x in pd.version.version.split('.')]\n",
    "            if version[0] < major or (version [0] == major and version[1] < minor) or \\\n",
    "               (version[0] == major and version[1] == minor and version[2] < fix):\n",
    "                print 'Please upgrade your pandas installation to {}.{}.{} or later.' \\\n",
    "                    .format(major, minor, fix)\n",
    "                return\n",
    "            return func(*args, **kwargs)\n",
    "        return wrapped_func\n",
    "    return wrap"
   ]
  },
  {
   "cell_type": "code",
   "execution_count": 207,
   "metadata": {
    "collapsed": false
   },
   "outputs": [
    {
     "ename": "AttributeError",
     "evalue": "'module' object has no attribute 'version'",
     "output_type": "error",
     "traceback": [
      "\u001b[0;31m\u001b[0m",
      "\u001b[0;31mAttributeError\u001b[0mTraceback (most recent call last)",
      "\u001b[0;32m<ipython-input-207-072c6046d3b3>\u001b[0m in \u001b[0;36m<module>\u001b[0;34m()\u001b[0m\n\u001b[1;32m     12\u001b[0m     \u001b[0mdf\u001b[0m\u001b[0;34m.\u001b[0m\u001b[0mplot\u001b[0m\u001b[0;34m(\u001b[0m\u001b[0mkind\u001b[0m\u001b[0;34m=\u001b[0m\u001b[0;34m'area'\u001b[0m\u001b[0;34m)\u001b[0m\u001b[0;34m\u001b[0m\u001b[0m\n\u001b[1;32m     13\u001b[0m \u001b[0;34m\u001b[0m\u001b[0m\n\u001b[0;32m---> 14\u001b[0;31m \u001b[0mplot\u001b[0m\u001b[0;34m(\u001b[0m\u001b[0;34m)\u001b[0m\u001b[0;34m\u001b[0m\u001b[0m\n\u001b[0m\u001b[1;32m     15\u001b[0m \u001b[0mplt\u001b[0m\u001b[0;34m.\u001b[0m\u001b[0mshow\u001b[0m\u001b[0;34m(\u001b[0m\u001b[0;34m)\u001b[0m\u001b[0;34m\u001b[0m\u001b[0m\n",
      "\u001b[0;32m<ipython-input-206-a78354e637e2>\u001b[0m in \u001b[0;36mwrapped_func\u001b[0;34m(*args, **kwargs)\u001b[0m\n\u001b[1;32m      6\u001b[0m         \u001b[0;34m@\u001b[0m\u001b[0mwraps\u001b[0m\u001b[0;34m(\u001b[0m\u001b[0mfunc\u001b[0m\u001b[0;34m)\u001b[0m\u001b[0;34m\u001b[0m\u001b[0m\n\u001b[1;32m      7\u001b[0m         \u001b[0;32mdef\u001b[0m \u001b[0mwrapped_func\u001b[0m\u001b[0;34m(\u001b[0m\u001b[0;34m*\u001b[0m\u001b[0margs\u001b[0m\u001b[0;34m,\u001b[0m \u001b[0;34m**\u001b[0m\u001b[0mkwargs\u001b[0m\u001b[0;34m)\u001b[0m\u001b[0;34m:\u001b[0m\u001b[0;34m\u001b[0m\u001b[0m\n\u001b[0;32m----> 8\u001b[0;31m             \u001b[0mversion\u001b[0m \u001b[0;34m=\u001b[0m \u001b[0;34m[\u001b[0m\u001b[0mint\u001b[0m\u001b[0;34m(\u001b[0m\u001b[0mx\u001b[0m\u001b[0;34m)\u001b[0m \u001b[0;32mfor\u001b[0m \u001b[0mx\u001b[0m \u001b[0;32min\u001b[0m \u001b[0mpd\u001b[0m\u001b[0;34m.\u001b[0m\u001b[0mversion\u001b[0m\u001b[0;34m.\u001b[0m\u001b[0mversion\u001b[0m\u001b[0;34m.\u001b[0m\u001b[0msplit\u001b[0m\u001b[0;34m(\u001b[0m\u001b[0;34m'.'\u001b[0m\u001b[0;34m)\u001b[0m\u001b[0;34m]\u001b[0m\u001b[0;34m\u001b[0m\u001b[0m\n\u001b[0m\u001b[1;32m      9\u001b[0m             \u001b[0;32mif\u001b[0m \u001b[0mversion\u001b[0m\u001b[0;34m[\u001b[0m\u001b[0;36m0\u001b[0m\u001b[0;34m]\u001b[0m \u001b[0;34m<\u001b[0m \u001b[0mmajor\u001b[0m \u001b[0;32mor\u001b[0m \u001b[0;34m(\u001b[0m\u001b[0mversion\u001b[0m \u001b[0;34m[\u001b[0m\u001b[0;36m0\u001b[0m\u001b[0;34m]\u001b[0m \u001b[0;34m==\u001b[0m \u001b[0mmajor\u001b[0m \u001b[0;32mand\u001b[0m \u001b[0mversion\u001b[0m\u001b[0;34m[\u001b[0m\u001b[0;36m1\u001b[0m\u001b[0;34m]\u001b[0m \u001b[0;34m<\u001b[0m \u001b[0mminor\u001b[0m\u001b[0;34m)\u001b[0m \u001b[0;32mor\u001b[0m                \u001b[0;34m(\u001b[0m\u001b[0mversion\u001b[0m\u001b[0;34m[\u001b[0m\u001b[0;36m0\u001b[0m\u001b[0;34m]\u001b[0m \u001b[0;34m==\u001b[0m \u001b[0mmajor\u001b[0m \u001b[0;32mand\u001b[0m \u001b[0mversion\u001b[0m\u001b[0;34m[\u001b[0m\u001b[0;36m1\u001b[0m\u001b[0;34m]\u001b[0m \u001b[0;34m==\u001b[0m \u001b[0mminor\u001b[0m \u001b[0;32mand\u001b[0m \u001b[0mversion\u001b[0m\u001b[0;34m[\u001b[0m\u001b[0;36m2\u001b[0m\u001b[0;34m]\u001b[0m \u001b[0;34m<\u001b[0m \u001b[0mfix\u001b[0m\u001b[0;34m)\u001b[0m\u001b[0;34m:\u001b[0m\u001b[0;34m\u001b[0m\u001b[0m\n\u001b[1;32m     10\u001b[0m                 \u001b[0;32mprint\u001b[0m \u001b[0;34m'Please upgrade your pandas installation to {}.{}.{} or later.'\u001b[0m                     \u001b[0;34m.\u001b[0m\u001b[0mformat\u001b[0m\u001b[0;34m(\u001b[0m\u001b[0mmajor\u001b[0m\u001b[0;34m,\u001b[0m \u001b[0mminor\u001b[0m\u001b[0;34m,\u001b[0m \u001b[0mfix\u001b[0m\u001b[0;34m)\u001b[0m\u001b[0;34m\u001b[0m\u001b[0m\n",
      "\u001b[0;31mAttributeError\u001b[0m: 'module' object has no attribute 'version'"
     ]
    }
   ],
   "source": [
    "#<help:plot_area_stacked>\n",
    "import matplotlib.pyplot as plt\n",
    "%matplotlib inline\n",
    "import numpy as np\n",
    "import pandas as pd\n",
    "\n",
    "df = pd.DataFrame(np.random.rand(10,4), columns=['a', 'b', 'c', 'd'])\n",
    "\n",
    "# kind=area requires pandas 0.15 or later\n",
    "@check_pandas_version(0, 15)\n",
    "def plot():\n",
    "    df.plot(kind='area')\n",
    "\n",
    "plot()\n",
    "plt.show()"
   ]
  },
  {
   "cell_type": "markdown",
   "metadata": {},
   "source": [
    "Create unstacked are plot with `kind='area'` and `stacked=False`."
   ]
  },
  {
   "cell_type": "code",
   "execution_count": 208,
   "metadata": {
    "collapsed": true
   },
   "outputs": [],
   "source": [
    "#<help:plot_area_unstacked>\n",
    "from functools import wraps\n",
    "def check_pandas_version(major=0, minor=0, fix=0):\n",
    "    '''Decorator that checks for minimum version of pandas.'''\n",
    "    def wrap(func):\n",
    "        @wraps(func)\n",
    "        def wrapped_func(*args, **kwargs):\n",
    "            version = [int(x) for x in pd.version.version.split('.')]\n",
    "            if version[0] < major or (version [0] == major and version[1] < minor) or \\\n",
    "               (version[0] == major and version[1] == minor and version[2] < fix):\n",
    "                print 'Please upgrade your pandas installation to {}.{}.{} or later.' \\\n",
    "                    .format(major, minor, fix)\n",
    "                return\n",
    "            return func(*args, **kwargs)\n",
    "        return wrapped_func\n",
    "    return wrap"
   ]
  },
  {
   "cell_type": "code",
   "execution_count": 209,
   "metadata": {
    "collapsed": false
   },
   "outputs": [
    {
     "ename": "AttributeError",
     "evalue": "'module' object has no attribute 'version'",
     "output_type": "error",
     "traceback": [
      "\u001b[0;31m\u001b[0m",
      "\u001b[0;31mAttributeError\u001b[0mTraceback (most recent call last)",
      "\u001b[0;32m<ipython-input-209-38c30c37f23d>\u001b[0m in \u001b[0;36m<module>\u001b[0;34m()\u001b[0m\n\u001b[1;32m     12\u001b[0m     \u001b[0mdf\u001b[0m\u001b[0;34m.\u001b[0m\u001b[0mplot\u001b[0m\u001b[0;34m(\u001b[0m\u001b[0mkind\u001b[0m\u001b[0;34m=\u001b[0m\u001b[0;34m'area'\u001b[0m\u001b[0;34m,\u001b[0m \u001b[0mstacked\u001b[0m\u001b[0;34m=\u001b[0m\u001b[0mFalse\u001b[0m\u001b[0;34m)\u001b[0m\u001b[0;34m\u001b[0m\u001b[0m\n\u001b[1;32m     13\u001b[0m \u001b[0;34m\u001b[0m\u001b[0m\n\u001b[0;32m---> 14\u001b[0;31m \u001b[0mplot\u001b[0m\u001b[0;34m(\u001b[0m\u001b[0;34m)\u001b[0m\u001b[0;34m\u001b[0m\u001b[0m\n\u001b[0m\u001b[1;32m     15\u001b[0m \u001b[0mplt\u001b[0m\u001b[0;34m.\u001b[0m\u001b[0mshow\u001b[0m\u001b[0;34m(\u001b[0m\u001b[0;34m)\u001b[0m\u001b[0;34m\u001b[0m\u001b[0m\n",
      "\u001b[0;32m<ipython-input-208-067818d9a960>\u001b[0m in \u001b[0;36mwrapped_func\u001b[0;34m(*args, **kwargs)\u001b[0m\n\u001b[1;32m      6\u001b[0m         \u001b[0;34m@\u001b[0m\u001b[0mwraps\u001b[0m\u001b[0;34m(\u001b[0m\u001b[0mfunc\u001b[0m\u001b[0;34m)\u001b[0m\u001b[0;34m\u001b[0m\u001b[0m\n\u001b[1;32m      7\u001b[0m         \u001b[0;32mdef\u001b[0m \u001b[0mwrapped_func\u001b[0m\u001b[0;34m(\u001b[0m\u001b[0;34m*\u001b[0m\u001b[0margs\u001b[0m\u001b[0;34m,\u001b[0m \u001b[0;34m**\u001b[0m\u001b[0mkwargs\u001b[0m\u001b[0;34m)\u001b[0m\u001b[0;34m:\u001b[0m\u001b[0;34m\u001b[0m\u001b[0m\n\u001b[0;32m----> 8\u001b[0;31m             \u001b[0mversion\u001b[0m \u001b[0;34m=\u001b[0m \u001b[0;34m[\u001b[0m\u001b[0mint\u001b[0m\u001b[0;34m(\u001b[0m\u001b[0mx\u001b[0m\u001b[0;34m)\u001b[0m \u001b[0;32mfor\u001b[0m \u001b[0mx\u001b[0m \u001b[0;32min\u001b[0m \u001b[0mpd\u001b[0m\u001b[0;34m.\u001b[0m\u001b[0mversion\u001b[0m\u001b[0;34m.\u001b[0m\u001b[0mversion\u001b[0m\u001b[0;34m.\u001b[0m\u001b[0msplit\u001b[0m\u001b[0;34m(\u001b[0m\u001b[0;34m'.'\u001b[0m\u001b[0;34m)\u001b[0m\u001b[0;34m]\u001b[0m\u001b[0;34m\u001b[0m\u001b[0m\n\u001b[0m\u001b[1;32m      9\u001b[0m             \u001b[0;32mif\u001b[0m \u001b[0mversion\u001b[0m\u001b[0;34m[\u001b[0m\u001b[0;36m0\u001b[0m\u001b[0;34m]\u001b[0m \u001b[0;34m<\u001b[0m \u001b[0mmajor\u001b[0m \u001b[0;32mor\u001b[0m \u001b[0;34m(\u001b[0m\u001b[0mversion\u001b[0m \u001b[0;34m[\u001b[0m\u001b[0;36m0\u001b[0m\u001b[0;34m]\u001b[0m \u001b[0;34m==\u001b[0m \u001b[0mmajor\u001b[0m \u001b[0;32mand\u001b[0m \u001b[0mversion\u001b[0m\u001b[0;34m[\u001b[0m\u001b[0;36m1\u001b[0m\u001b[0;34m]\u001b[0m \u001b[0;34m<\u001b[0m \u001b[0mminor\u001b[0m\u001b[0;34m)\u001b[0m \u001b[0;32mor\u001b[0m                \u001b[0;34m(\u001b[0m\u001b[0mversion\u001b[0m\u001b[0;34m[\u001b[0m\u001b[0;36m0\u001b[0m\u001b[0;34m]\u001b[0m \u001b[0;34m==\u001b[0m \u001b[0mmajor\u001b[0m \u001b[0;32mand\u001b[0m \u001b[0mversion\u001b[0m\u001b[0;34m[\u001b[0m\u001b[0;36m1\u001b[0m\u001b[0;34m]\u001b[0m \u001b[0;34m==\u001b[0m \u001b[0mminor\u001b[0m \u001b[0;32mand\u001b[0m \u001b[0mversion\u001b[0m\u001b[0;34m[\u001b[0m\u001b[0;36m2\u001b[0m\u001b[0;34m]\u001b[0m \u001b[0;34m<\u001b[0m \u001b[0mfix\u001b[0m\u001b[0;34m)\u001b[0m\u001b[0;34m:\u001b[0m\u001b[0;34m\u001b[0m\u001b[0m\n\u001b[1;32m     10\u001b[0m                 \u001b[0;32mprint\u001b[0m \u001b[0;34m'Please upgrade your pandas installation to {}.{}.{} or later.'\u001b[0m                     \u001b[0;34m.\u001b[0m\u001b[0mformat\u001b[0m\u001b[0;34m(\u001b[0m\u001b[0mmajor\u001b[0m\u001b[0;34m,\u001b[0m \u001b[0mminor\u001b[0m\u001b[0;34m,\u001b[0m \u001b[0mfix\u001b[0m\u001b[0;34m)\u001b[0m\u001b[0;34m\u001b[0m\u001b[0m\n",
      "\u001b[0;31mAttributeError\u001b[0m: 'module' object has no attribute 'version'"
     ]
    }
   ],
   "source": [
    "#<help:plot_area_unstacked>\n",
    "import matplotlib.pyplot as plt\n",
    "%matplotlib inline\n",
    "import numpy as np\n",
    "import pandas as pd\n",
    "\n",
    "df = pd.DataFrame(np.random.rand(10,4), columns=['a', 'b', 'c', 'd'])\n",
    "\n",
    "# kind=area requires pandas 0.15 or later\n",
    "@check_pandas_version(0, 15)\n",
    "def plot():\n",
    "    df.plot(kind='area', stacked=False)\n",
    "\n",
    "plot()\n",
    "plt.show()"
   ]
  },
  {
   "cell_type": "markdown",
   "metadata": {},
   "source": [
    "# Subplots\n",
    "\n",
    "Each Series in a DataFrame can be plotted on a different axis with the `subplots` keyword:\n",
    "\n",
    "```df.plot(subplots=True, figsize=(6, 6));```"
   ]
  },
  {
   "cell_type": "markdown",
   "metadata": {},
   "source": [
    "## Line Plot"
   ]
  },
  {
   "cell_type": "code",
   "execution_count": 210,
   "metadata": {
    "collapsed": false
   },
   "outputs": [
    {
     "data": {
      "image/png": "[encoded data removed]",
      "text/plain": [
       "<matplotlib.figure.Figure at 0x7f728c68c290>"
      ]
     },
     "metadata": {},
     "output_type": "display_data"
    }
   ],
   "source": [
    "#<help:plot_subplots_line>\n",
    "import matplotlib.pyplot as plt\n",
    "%matplotlib inline\n",
    "import numpy as np\n",
    "import pandas as pd\n",
    "\n",
    "df = pd.DataFrame(np.random.randn(100, 4), columns=list('ABCD'))\n",
    "df.plot(subplots=True, figsize=(6, 6));\n",
    "plt.show()"
   ]
  },
  {
   "cell_type": "markdown",
   "metadata": {},
   "source": [
    "## Histogram"
   ]
  },
  {
   "cell_type": "code",
   "execution_count": 211,
   "metadata": {
    "collapsed": false
   },
   "outputs": [
    {
     "data": {
      "image/png": "[encoded data removed]",
      "text/plain": [
       "<matplotlib.figure.Figure at 0x7f727cabde90>"
      ]
     },
     "metadata": {},
     "output_type": "display_data"
    }
   ],
   "source": [
    "#<help:plot_subplots_hist>\n",
    "import matplotlib.pyplot as plt\n",
    "%matplotlib inline\n",
    "import numpy as np\n",
    "import pandas as pd\n",
    "pd.options.display.mpl_style = 'default'\n",
    "df = pd.DataFrame({'A': np.random.randn(1000) + 1, 'B': np.random.randn(1000), \n",
    "                   'C': np.random.randn(1000) - 1}, columns = ['A','B','C'])\n",
    "df.diff().hist(color='r', alpha=0.5, bins=30)\n",
    "plt.show()"
   ]
  },
  {
   "cell_type": "markdown",
   "metadata": {},
   "source": [
    "## Stratified Boxplot\n",
    "Use the `by` keyword to create groupings."
   ]
  },
  {
   "cell_type": "code",
   "execution_count": 212,
   "metadata": {
    "collapsed": false
   },
   "outputs": [
    {
     "data": {
      "image/png": "[encoded data removed]",
      "text/plain": [
       "<matplotlib.figure.Figure at 0x7f727ca81650>"
      ]
     },
     "metadata": {},
     "output_type": "display_data"
    }
   ],
   "source": [
    "#<help:plot_subplots_boxplot_stratified>\n",
    "import matplotlib.pyplot as plt\n",
    "%matplotlib inline\n",
    "import numpy as np\n",
    "import pandas as pd\n",
    "\n",
    "df = pd.DataFrame(np.random.rand(10,2), columns=['Column1','Column2'])\n",
    "df['X']= pd.Series(['A','A','A','A','A','B','B','B','B','B'])\n",
    "bp = df.boxplot(by = 'X')\n",
    "plt.show()"
   ]
  },
  {
   "cell_type": "markdown",
   "metadata": {},
   "source": [
    "## Scatter Matrix\n",
    "You can create a scatter plot matrix using the ```scatter_matrix``` method in pandas.tools.plotting."
   ]
  },
  {
   "cell_type": "code",
   "execution_count": 213,
   "metadata": {
    "collapsed": false
   },
   "outputs": [
    {
     "data": {
      "image/png": "[encoded data removed]",
      "text/plain": [
       "<matplotlib.figure.Figure at 0x7f727ca4f390>"
      ]
     },
     "metadata": {},
     "output_type": "display_data"
    }
   ],
   "source": [
    "#<help:plot_scatter_matrix>\n",
    "import matplotlib.pyplot as plt\n",
    "%matplotlib inline\n",
    "import numpy as np\n",
    "import pandas as pd\n",
    "\n",
    "from pandas.tools.plotting import scatter_matrix\n",
    "df = pd.DataFrame(np.random.randn(1000, 4), columns=['a', 'b', 'c', 'd'])\n",
    "scatter_matrix(df, alpha=0.2, figsize=(6, 6), diagonal='kde')\n",
    "plt.show()"
   ]
  },
  {
   "cell_type": "markdown",
   "metadata": {},
   "source": [
    "## Bar Chart\n",
    "From\n",
    "https://datasciencelab.wordpress.com/2013/12/21/beautiful-plots-with-pandas-and-matplotlib/"
   ]
  },
  {
   "cell_type": "code",
   "execution_count": 214,
   "metadata": {
    "collapsed": false
   },
   "outputs": [
    {
     "name": "stderr",
     "output_type": "stream",
     "text": [
      "/usr/local/lib/python2.7/dist-packages/ipykernel/__main__.py:26: FutureWarning: sort(columns=....) is deprecated, use sort_values(by=.....)\n"
     ]
    },
    {
     "data": {
      "image/png": "[encoded data removed]",
      "text/plain": [
       "<matplotlib.figure.Figure at 0x7f727ca662d0>"
      ]
     },
     "metadata": {},
     "output_type": "display_data"
    }
   ],
   "source": [
    "#<help:plot_subplots_bar>\n",
    "import pandas as pd\n",
    "import matplotlib as mpl\n",
    "import matplotlib.pyplot as plt\n",
    "%matplotlib inline\n",
    "from matplotlib.colors import LinearSegmentedColormap\n",
    "from matplotlib.lines import Line2D \n",
    " \n",
    "countries = ['France','Spain','Sweden','Germany','Finland','Poland','Italy',\n",
    "             'United Kingdom','Romania','Greece','Bulgaria','Hungary',\n",
    "             'Portugal','Austria','Czech Republic','Ireland','Lithuania','Latvia',\n",
    "             'Croatia','Slovakia','Estonia','Denmark','Netherlands','Belgium']\n",
    "extensions = [547030,504782,450295,357022,338145,312685,301340,243610,238391,\n",
    "              131940,110879,93028,92090,83871,78867,70273,65300,64589,56594,\n",
    "              49035,45228,43094,41543,30528]\n",
    "populations = [63.8,47,9.55,81.8,5.42,38.3,61.1,63.2,21.3,11.4,7.35,\n",
    "               9.93,10.7,8.44,10.6,4.63,3.28,2.23,4.38,5.49,1.34,5.61,\n",
    "               16.8,10.8]\n",
    "life_expectancies = [81.8,82.1,81.8,80.7,80.5,76.4,82.4,80.5,73.8,80.8,73.5,\n",
    "                    74.6,79.9,81.1,77.7,80.7,72.1,72.2,77,75.4,74.4,79.4,81,80.5]\n",
    "data = {'Extension' : pd.Series(extensions, index=countries), \n",
    "        'Population' : pd.Series(populations, index=countries),\n",
    "        'Life Expectancy' : pd.Series(life_expectancies, index=countries)}\n",
    " \n",
    "df = pd.DataFrame(data)\n",
    "df = df.sort('Life Expectancy')\n",
    "fig, axes = plt.subplots(nrows=3, ncols=1)\n",
    "for i, c in enumerate(df.columns):\n",
    "    df[c].plot(kind='bar', ax=axes[i], figsize=(12, 10), title=c)\n",
    "fig.tight_layout()    \n",
    "plt.show()"
   ]
  },
  {
   "cell_type": "markdown",
   "metadata": {},
   "source": [
    "## Pie Charts (pandas 0.15.0)\n",
    "`subplots=True` "
   ]
  },
  {
   "cell_type": "code",
   "execution_count": 215,
   "metadata": {
    "collapsed": true
   },
   "outputs": [],
   "source": [
    "#<help:plot_subplots_pie>\n",
    "from functools import wraps\n",
    "def check_pandas_version(major=0, minor=0, fix=0):\n",
    "    '''Decorator that checks for minimum version of pandas.'''\n",
    "    def wrap(func):\n",
    "        @wraps(func)\n",
    "        def wrapped_func(*args, **kwargs):\n",
    "            version = [int(x) for x in pd.version.version.split('.')]\n",
    "            if version[0] < major or (version [0] == major and version[1] < minor) or \\\n",
    "               (version[0] == major and version[1] == minor and version[2] < fix):\n",
    "                print 'Please upgrade your pandas installation to {}.{}.{} or later.' \\\n",
    "                    .format(major, minor, fix)\n",
    "                return\n",
    "            return func(*args, **kwargs)\n",
    "        return wrapped_func\n",
    "    return wrap"
   ]
  },
  {
   "cell_type": "code",
   "execution_count": 216,
   "metadata": {
    "collapsed": false
   },
   "outputs": [
    {
     "ename": "AttributeError",
     "evalue": "'module' object has no attribute 'version'",
     "output_type": "error",
     "traceback": [
      "\u001b[0;31m\u001b[0m",
      "\u001b[0;31mAttributeError\u001b[0mTraceback (most recent call last)",
      "\u001b[0;32m<ipython-input-216-9db08a9483e9>\u001b[0m in \u001b[0;36m<module>\u001b[0;34m()\u001b[0m\n\u001b[1;32m     12\u001b[0m     \u001b[0mdf\u001b[0m\u001b[0;34m.\u001b[0m\u001b[0mplot\u001b[0m\u001b[0;34m(\u001b[0m\u001b[0mkind\u001b[0m\u001b[0;34m=\u001b[0m\u001b[0;34m'pie'\u001b[0m\u001b[0;34m,\u001b[0m \u001b[0msubplots\u001b[0m\u001b[0;34m=\u001b[0m\u001b[0mTrue\u001b[0m\u001b[0;34m,\u001b[0m \u001b[0mlabels\u001b[0m\u001b[0;34m=\u001b[0m\u001b[0;34m[\u001b[0m\u001b[0;34m'A'\u001b[0m\u001b[0;34m,\u001b[0m \u001b[0;34m'B'\u001b[0m\u001b[0;34m,\u001b[0m \u001b[0;34m'C'\u001b[0m\u001b[0;34m,\u001b[0m \u001b[0;34m'D'\u001b[0m\u001b[0;34m]\u001b[0m\u001b[0;34m,\u001b[0m \u001b[0mcolors\u001b[0m\u001b[0;34m=\u001b[0m\u001b[0;34m[\u001b[0m\u001b[0;34m'b'\u001b[0m\u001b[0;34m,\u001b[0m \u001b[0;34m'g'\u001b[0m\u001b[0;34m,\u001b[0m \u001b[0;34m'r'\u001b[0m\u001b[0;34m,\u001b[0m \u001b[0;34m'y'\u001b[0m\u001b[0;34m]\u001b[0m\u001b[0;34m,\u001b[0m \u001b[0mfigsize\u001b[0m\u001b[0;34m=\u001b[0m\u001b[0;34m(\u001b[0m\u001b[0;36m8\u001b[0m\u001b[0;34m,\u001b[0m\u001b[0;36m4\u001b[0m\u001b[0;34m)\u001b[0m\u001b[0;34m)\u001b[0m\u001b[0;34m\u001b[0m\u001b[0m\n\u001b[1;32m     13\u001b[0m \u001b[0;34m\u001b[0m\u001b[0m\n\u001b[0;32m---> 14\u001b[0;31m \u001b[0mplot\u001b[0m\u001b[0;34m(\u001b[0m\u001b[0;34m)\u001b[0m\u001b[0;34m\u001b[0m\u001b[0m\n\u001b[0m\u001b[1;32m     15\u001b[0m \u001b[0mplt\u001b[0m\u001b[0;34m.\u001b[0m\u001b[0mshow\u001b[0m\u001b[0;34m(\u001b[0m\u001b[0;34m)\u001b[0m\u001b[0;34m\u001b[0m\u001b[0m\n",
      "\u001b[0;32m<ipython-input-215-0aeb9849918d>\u001b[0m in \u001b[0;36mwrapped_func\u001b[0;34m(*args, **kwargs)\u001b[0m\n\u001b[1;32m      6\u001b[0m         \u001b[0;34m@\u001b[0m\u001b[0mwraps\u001b[0m\u001b[0;34m(\u001b[0m\u001b[0mfunc\u001b[0m\u001b[0;34m)\u001b[0m\u001b[0;34m\u001b[0m\u001b[0m\n\u001b[1;32m      7\u001b[0m         \u001b[0;32mdef\u001b[0m \u001b[0mwrapped_func\u001b[0m\u001b[0;34m(\u001b[0m\u001b[0;34m*\u001b[0m\u001b[0margs\u001b[0m\u001b[0;34m,\u001b[0m \u001b[0;34m**\u001b[0m\u001b[0mkwargs\u001b[0m\u001b[0;34m)\u001b[0m\u001b[0;34m:\u001b[0m\u001b[0;34m\u001b[0m\u001b[0m\n\u001b[0;32m----> 8\u001b[0;31m             \u001b[0mversion\u001b[0m \u001b[0;34m=\u001b[0m \u001b[0;34m[\u001b[0m\u001b[0mint\u001b[0m\u001b[0;34m(\u001b[0m\u001b[0mx\u001b[0m\u001b[0;34m)\u001b[0m \u001b[0;32mfor\u001b[0m \u001b[0mx\u001b[0m \u001b[0;32min\u001b[0m \u001b[0mpd\u001b[0m\u001b[0;34m.\u001b[0m\u001b[0mversion\u001b[0m\u001b[0;34m.\u001b[0m\u001b[0mversion\u001b[0m\u001b[0;34m.\u001b[0m\u001b[0msplit\u001b[0m\u001b[0;34m(\u001b[0m\u001b[0;34m'.'\u001b[0m\u001b[0;34m)\u001b[0m\u001b[0;34m]\u001b[0m\u001b[0;34m\u001b[0m\u001b[0m\n\u001b[0m\u001b[1;32m      9\u001b[0m             \u001b[0;32mif\u001b[0m \u001b[0mversion\u001b[0m\u001b[0;34m[\u001b[0m\u001b[0;36m0\u001b[0m\u001b[0;34m]\u001b[0m \u001b[0;34m<\u001b[0m \u001b[0mmajor\u001b[0m \u001b[0;32mor\u001b[0m \u001b[0;34m(\u001b[0m\u001b[0mversion\u001b[0m \u001b[0;34m[\u001b[0m\u001b[0;36m0\u001b[0m\u001b[0;34m]\u001b[0m \u001b[0;34m==\u001b[0m \u001b[0mmajor\u001b[0m \u001b[0;32mand\u001b[0m \u001b[0mversion\u001b[0m\u001b[0;34m[\u001b[0m\u001b[0;36m1\u001b[0m\u001b[0;34m]\u001b[0m \u001b[0;34m<\u001b[0m \u001b[0mminor\u001b[0m\u001b[0;34m)\u001b[0m \u001b[0;32mor\u001b[0m                \u001b[0;34m(\u001b[0m\u001b[0mversion\u001b[0m\u001b[0;34m[\u001b[0m\u001b[0;36m0\u001b[0m\u001b[0;34m]\u001b[0m \u001b[0;34m==\u001b[0m \u001b[0mmajor\u001b[0m \u001b[0;32mand\u001b[0m \u001b[0mversion\u001b[0m\u001b[0;34m[\u001b[0m\u001b[0;36m1\u001b[0m\u001b[0;34m]\u001b[0m \u001b[0;34m==\u001b[0m \u001b[0mminor\u001b[0m \u001b[0;32mand\u001b[0m \u001b[0mversion\u001b[0m\u001b[0;34m[\u001b[0m\u001b[0;36m2\u001b[0m\u001b[0;34m]\u001b[0m \u001b[0;34m<\u001b[0m \u001b[0mfix\u001b[0m\u001b[0;34m)\u001b[0m\u001b[0;34m:\u001b[0m\u001b[0;34m\u001b[0m\u001b[0m\n\u001b[1;32m     10\u001b[0m                 \u001b[0;32mprint\u001b[0m \u001b[0;34m'Please upgrade your pandas installation to {}.{}.{} or later.'\u001b[0m                     \u001b[0;34m.\u001b[0m\u001b[0mformat\u001b[0m\u001b[0;34m(\u001b[0m\u001b[0mmajor\u001b[0m\u001b[0;34m,\u001b[0m \u001b[0mminor\u001b[0m\u001b[0;34m,\u001b[0m \u001b[0mfix\u001b[0m\u001b[0;34m)\u001b[0m\u001b[0;34m\u001b[0m\u001b[0m\n",
      "\u001b[0;31mAttributeError\u001b[0m: 'module' object has no attribute 'version'"
     ]
    }
   ],
   "source": [
    "#<help:plot_subplots_pie>\n",
    "import matplotlib.pyplot as plt\n",
    "%matplotlib inline\n",
    "import numpy as np\n",
    "import pandas as pd\n",
    "\n",
    "df = pd.DataFrame(3 * np.random.rand(4, 2), index=['a', 'b', 'c', 'd'], columns=['x', 'y'])\n",
    "\n",
    "# kind=pie requires pandas 0.15 or later\n",
    "@check_pandas_version(0, 15)\n",
    "def plot():\n",
    "    df.plot(kind='pie', subplots=True, labels=['A', 'B', 'C', 'D'], colors=['b', 'g', 'r', 'y'], figsize=(8,4))\n",
    "\n",
    "plot()    \n",
    "plt.show()"
   ]
  },
  {
   "cell_type": "markdown",
   "metadata": {},
   "source": [
    "## Groupby Bar Chart\n",
    "\n",
    "Group data and plot it in a bar chart. CSV file and code taken from:\n",
    "\n",
    "https://github.com/jvns/pandas-cookbook/blob/v0.1/data/bikes.csv"
   ]
  },
  {
   "cell_type": "code",
   "execution_count": 217,
   "metadata": {
    "collapsed": false
   },
   "outputs": [
    {
     "name": "stdout",
     "output_type": "stream",
     "text": [
      "--2017-05-23 01:26:31--  https://raw.githubusercontent.com/jvns/pandas-cookbook/v0.1/data/bikes.csv\n",
      "Resolving raw.githubusercontent.com (raw.githubusercontent.com)... 151.101.20.133\n",
      "Connecting to raw.githubusercontent.com (raw.githubusercontent.com)|151.101.20.133|:443... connected.\n",
      "HTTP request sent, awaiting response... 200 OK\n",
      "Length: 13807 (13K) [text/plain]\n",
      "Saving to: ‘bikes.csv’\n",
      "\n",
      "100%[======================================>] 13,807      --.-K/s   in 0.01s   \n",
      "\n",
      "2017-05-23 01:26:31 (951 KB/s) - ‘bikes.csv’ saved [13807/13807]\n",
      "\n"
     ]
    }
   ],
   "source": [
    "!wget https://raw.githubusercontent.com/jvns/pandas-cookbook/v0.1/data/bikes.csv"
   ]
  },
  {
   "cell_type": "code",
   "execution_count": 218,
   "metadata": {
    "collapsed": false
   },
   "outputs": [
    {
     "data": {
      "image/png": "[encoded data removed]",
      "text/plain": [
       "<matplotlib.figure.Figure at 0x7f727c691d10>"
      ]
     },
     "metadata": {},
     "output_type": "display_data"
    }
   ],
   "source": [
    "#<help:plot_groupby_bar>\n",
    "import pandas as pd\n",
    "import matplotlib as mpl\n",
    "import matplotlib.pyplot as plt\n",
    "%matplotlib inline\n",
    "\n",
    "bikes = pd.read_csv('bikes.csv',\n",
    "                    sep=';', encoding='latin1',\n",
    "                    parse_dates=['Date'], dayfirst=True,\n",
    "                    index_col='Date')\n",
    "# Add the weekday column\n",
    "bikes['weekday'] = bikes.index.weekday\n",
    "berri_bikes = bikes[['weekday','Berri 1']]\n",
    "\n",
    "# Add up the number of cyclists by weekday, and plot!\n",
    "weekday_counts = berri_bikes.groupby('weekday').aggregate(sum)\n",
    "weekday_counts.index = ['Monday', 'Tuesday', 'Wednesday', 'Thursday', 'Friday', 'Saturday', 'Sunday']\n",
    "weekday_counts.plot(kind='bar')\n",
    "plt.show()"
   ]
  },
  {
   "cell_type": "markdown",
   "metadata": {},
   "source": [
    "## Groupby Line Plot"
   ]
  },
  {
   "cell_type": "code",
   "execution_count": 219,
   "metadata": {
    "collapsed": false
   },
   "outputs": [
    {
     "data": {
      "image/png": "[encoded data removed]",
      "text/plain": [
       "<matplotlib.figure.Figure at 0x7f727cefea50>"
      ]
     },
     "metadata": {},
     "output_type": "display_data"
    }
   ],
   "source": [
    "#<help:plot_groupby_line>\n",
    "import matplotlib.pyplot as plt\n",
    "%matplotlib inline\n",
    "import pandas as pd\n",
    "import numpy as np\n",
    "\n",
    "dates = pd.date_range('20140102',periods=4)\n",
    "df = pd.DataFrame(np.random.randn(4,5), index=dates, columns=list('ABCDE'))\n",
    "df = df.groupby('B').cumsum()\n",
    "df.plot()\n",
    "plt.show()"
   ]
  },
  {
   "cell_type": "markdown",
   "metadata": {},
   "source": [
    "# Plot Formatting\n",
    "\n",
    "Title:\n",
    "* `plt.title('My Title')`\n",
    "\n",
    "Axis labels:\n",
    "* `plt.xlabel('xlabel')`\n",
    "* `plt.ylabel('ylabel')`\n",
    "\n",
    "You can customize `fontsize` and `color`."
   ]
  },
  {
   "cell_type": "code",
   "execution_count": 220,
   "metadata": {
    "collapsed": false
   },
   "outputs": [
    {
     "data": {
      "image/png": "[encoded data removed]",
      "text/plain": [
       "<matplotlib.figure.Figure at 0x7f727c7ddc50>"
      ]
     },
     "metadata": {},
     "output_type": "display_data"
    }
   ],
   "source": [
    "#<help:plot_formatting_title_color>\n",
    "import matplotlib.pyplot as plt\n",
    "%matplotlib inline\n",
    "import pandas as pd\n",
    "import numpy as np\n",
    "\n",
    "dates = pd.date_range('20141102',periods=5)\n",
    "df = pd.DataFrame(np.random.randn(5,5),index=dates,columns=list('ABCDE'))\n",
    "df['A'].plot(color='g')\n",
    "\n",
    "plt.title('My Title', fontsize=20)\n",
    "\n",
    "plt.xlabel('X Axis', fontsize=16, color='r')\n",
    "plt.ylabel('Y Axis', fontsize=16, color ='m')\n",
    "plt.show()"
   ]
  },
  {
   "cell_type": "markdown",
   "metadata": {},
   "source": [
    "## Add Table (pandas 0.14.0)\n",
    "\n",
    "`table=[DataFrame] or [Series]`"
   ]
  },
  {
   "cell_type": "code",
   "execution_count": 221,
   "metadata": {
    "collapsed": true
   },
   "outputs": [],
   "source": [
    "#<help:plot_table>\n",
    "from functools import wraps\n",
    "def check_pandas_version(major=0, minor=0, fix=0):\n",
    "    '''Decorator that checks for minimum version of pandas.'''\n",
    "    def wrap(func):\n",
    "        @wraps(func)\n",
    "        def wrapped_func(*args, **kwargs):\n",
    "            version = [int(x) for x in pd.version.version.split('.')]\n",
    "            if version[0] < major or (version [0] == major and version[1] < minor) or \\\n",
    "               (version[0] == major and version[1] == minor and version[2] < fix):\n",
    "                print 'Please upgrade your pandas installation to {}.{}.{} or later.' \\\n",
    "                    .format(major, minor, fix)\n",
    "                return\n",
    "            return func(*args, **kwargs)\n",
    "        return wrapped_func\n",
    "    return wrap"
   ]
  },
  {
   "cell_type": "code",
   "execution_count": 222,
   "metadata": {
    "collapsed": false
   },
   "outputs": [
    {
     "ename": "AttributeError",
     "evalue": "'module' object has no attribute 'version'",
     "output_type": "error",
     "traceback": [
      "\u001b[0;31m\u001b[0m",
      "\u001b[0;31mAttributeError\u001b[0mTraceback (most recent call last)",
      "\u001b[0;32m<ipython-input-222-30abb8d4aaff>\u001b[0m in \u001b[0;36m<module>\u001b[0;34m()\u001b[0m\n\u001b[1;32m     16\u001b[0m     \u001b[0mdf\u001b[0m\u001b[0;34m.\u001b[0m\u001b[0mplot\u001b[0m\u001b[0;34m(\u001b[0m\u001b[0mtable\u001b[0m\u001b[0;34m=\u001b[0m\u001b[0mnp\u001b[0m\u001b[0;34m.\u001b[0m\u001b[0mround\u001b[0m\u001b[0;34m(\u001b[0m\u001b[0mdf\u001b[0m\u001b[0;34m.\u001b[0m\u001b[0mT\u001b[0m\u001b[0;34m,\u001b[0m \u001b[0;36m2\u001b[0m\u001b[0;34m)\u001b[0m\u001b[0;34m,\u001b[0m \u001b[0max\u001b[0m\u001b[0;34m=\u001b[0m\u001b[0max\u001b[0m\u001b[0;34m)\u001b[0m\u001b[0;34m\u001b[0m\u001b[0m\n\u001b[1;32m     17\u001b[0m \u001b[0;34m\u001b[0m\u001b[0m\n\u001b[0;32m---> 18\u001b[0;31m \u001b[0mplot\u001b[0m\u001b[0;34m(\u001b[0m\u001b[0;34m)\u001b[0m\u001b[0;34m\u001b[0m\u001b[0m\n\u001b[0m\u001b[1;32m     19\u001b[0m \u001b[0mplt\u001b[0m\u001b[0;34m.\u001b[0m\u001b[0mshow\u001b[0m\u001b[0;34m(\u001b[0m\u001b[0;34m)\u001b[0m\u001b[0;34m\u001b[0m\u001b[0m\n",
      "\u001b[0;32m<ipython-input-221-cace4dec5828>\u001b[0m in \u001b[0;36mwrapped_func\u001b[0;34m(*args, **kwargs)\u001b[0m\n\u001b[1;32m      6\u001b[0m         \u001b[0;34m@\u001b[0m\u001b[0mwraps\u001b[0m\u001b[0;34m(\u001b[0m\u001b[0mfunc\u001b[0m\u001b[0;34m)\u001b[0m\u001b[0;34m\u001b[0m\u001b[0m\n\u001b[1;32m      7\u001b[0m         \u001b[0;32mdef\u001b[0m \u001b[0mwrapped_func\u001b[0m\u001b[0;34m(\u001b[0m\u001b[0;34m*\u001b[0m\u001b[0margs\u001b[0m\u001b[0;34m,\u001b[0m \u001b[0;34m**\u001b[0m\u001b[0mkwargs\u001b[0m\u001b[0;34m)\u001b[0m\u001b[0;34m:\u001b[0m\u001b[0;34m\u001b[0m\u001b[0m\n\u001b[0;32m----> 8\u001b[0;31m             \u001b[0mversion\u001b[0m \u001b[0;34m=\u001b[0m \u001b[0;34m[\u001b[0m\u001b[0mint\u001b[0m\u001b[0;34m(\u001b[0m\u001b[0mx\u001b[0m\u001b[0;34m)\u001b[0m \u001b[0;32mfor\u001b[0m \u001b[0mx\u001b[0m \u001b[0;32min\u001b[0m \u001b[0mpd\u001b[0m\u001b[0;34m.\u001b[0m\u001b[0mversion\u001b[0m\u001b[0;34m.\u001b[0m\u001b[0mversion\u001b[0m\u001b[0;34m.\u001b[0m\u001b[0msplit\u001b[0m\u001b[0;34m(\u001b[0m\u001b[0;34m'.'\u001b[0m\u001b[0;34m)\u001b[0m\u001b[0;34m]\u001b[0m\u001b[0;34m\u001b[0m\u001b[0m\n\u001b[0m\u001b[1;32m      9\u001b[0m             \u001b[0;32mif\u001b[0m \u001b[0mversion\u001b[0m\u001b[0;34m[\u001b[0m\u001b[0;36m0\u001b[0m\u001b[0;34m]\u001b[0m \u001b[0;34m<\u001b[0m \u001b[0mmajor\u001b[0m \u001b[0;32mor\u001b[0m \u001b[0;34m(\u001b[0m\u001b[0mversion\u001b[0m \u001b[0;34m[\u001b[0m\u001b[0;36m0\u001b[0m\u001b[0;34m]\u001b[0m \u001b[0;34m==\u001b[0m \u001b[0mmajor\u001b[0m \u001b[0;32mand\u001b[0m \u001b[0mversion\u001b[0m\u001b[0;34m[\u001b[0m\u001b[0;36m1\u001b[0m\u001b[0;34m]\u001b[0m \u001b[0;34m<\u001b[0m \u001b[0mminor\u001b[0m\u001b[0;34m)\u001b[0m \u001b[0;32mor\u001b[0m                \u001b[0;34m(\u001b[0m\u001b[0mversion\u001b[0m\u001b[0;34m[\u001b[0m\u001b[0;36m0\u001b[0m\u001b[0;34m]\u001b[0m \u001b[0;34m==\u001b[0m \u001b[0mmajor\u001b[0m \u001b[0;32mand\u001b[0m \u001b[0mversion\u001b[0m\u001b[0;34m[\u001b[0m\u001b[0;36m1\u001b[0m\u001b[0;34m]\u001b[0m \u001b[0;34m==\u001b[0m \u001b[0mminor\u001b[0m \u001b[0;32mand\u001b[0m \u001b[0mversion\u001b[0m\u001b[0;34m[\u001b[0m\u001b[0;36m2\u001b[0m\u001b[0;34m]\u001b[0m \u001b[0;34m<\u001b[0m \u001b[0mfix\u001b[0m\u001b[0;34m)\u001b[0m\u001b[0;34m:\u001b[0m\u001b[0;34m\u001b[0m\u001b[0m\n\u001b[1;32m     10\u001b[0m                 \u001b[0;32mprint\u001b[0m \u001b[0;34m'Please upgrade your pandas installation to {}.{}.{} or later.'\u001b[0m                     \u001b[0;34m.\u001b[0m\u001b[0mformat\u001b[0m\u001b[0;34m(\u001b[0m\u001b[0mmajor\u001b[0m\u001b[0;34m,\u001b[0m \u001b[0mminor\u001b[0m\u001b[0;34m,\u001b[0m \u001b[0mfix\u001b[0m\u001b[0;34m)\u001b[0m\u001b[0;34m\u001b[0m\u001b[0m\n",
      "\u001b[0;31mAttributeError\u001b[0m: 'module' object has no attribute 'version'"
     ]
    },
    {
     "data": {
      "image/png": "[encoded data removed]",
      "text/plain": [
       "<matplotlib.figure.Figure at 0x7f72ae79bb10>"
      ]
     },
     "metadata": {},
     "output_type": "display_data"
    }
   ],
   "source": [
    "#<help:plot_table>\n",
    "import matplotlib.pyplot as plt\n",
    "%matplotlib inline\n",
    "import pandas as pd\n",
    "import numpy as np\n",
    "\n",
    "fig, ax = plt.subplots(1, 1)\n",
    "ax.get_xaxis().set_visible(False)   # Hide Ticks\n",
    "plt.title('Table at the Bottom')\n",
    "\n",
    "df = pd.DataFrame(np.random.rand(5, 3), columns=['A', 'B', 'C'])\n",
    "\n",
    "# table keyword added in pandas 0.14\n",
    "@check_pandas_version(0, 14)\n",
    "def plot():\n",
    "    df.plot(table=np.round(df.T, 2), ax=ax)\n",
    "\n",
    "plot()\n",
    "plt.show()"
   ]
  },
  {
   "cell_type": "markdown",
   "metadata": {},
   "source": [
    "## Add Legend\n",
    "Use `plt.legend('My Legend', loc='best')` to add a legend.\n",
    "\n",
    "Remove a legend by setting `df.plot(legend=None)`."
   ]
  },
  {
   "cell_type": "code",
   "execution_count": 223,
   "metadata": {
    "collapsed": false
   },
   "outputs": [
    {
     "data": {
      "text/plain": [
       "<matplotlib.legend.Legend at 0x7f727c711310>"
      ]
     },
     "execution_count": 223,
     "metadata": {},
     "output_type": "execute_result"
    },
    {
     "data": {
      "image/png": "[encoded data removed]",
      "text/plain": [
       "<matplotlib.figure.Figure at 0x7f727caae790>"
      ]
     },
     "metadata": {},
     "output_type": "display_data"
    }
   ],
   "source": [
    "#<help:plot_formatting_legend>\n",
    "import pandas as pd\n",
    "import numpy as np\n",
    "import matplotlib as mpl\n",
    "import matplotlib.pyplot as plt\n",
    "%matplotlib inline\n",
    "\n",
    "ts = pd.Series(np.random.randn(1000), index=pd.date_range('1/1/2000', periods=1000))\n",
    "\n",
    "df = pd.DataFrame(np.random.randn(1000, 4), index=ts.index,\n",
    "             columns=['A', 'B', 'C', 'D'])\n",
    "df = df.cumsum()\n",
    "df.plot()\n",
    "plt.title('With Title')\n",
    "plt.legend(loc='best')"
   ]
  },
  {
   "cell_type": "markdown",
   "metadata": {},
   "source": [
    "## Colormap\n",
    "Having many data sets when plotting serie makes it hard to distiguish them from each other. A colormap helps contrast the colors avoiding repetition. Use the [colormap](http://wiki.scipy.org/Cookbook/Matplotlib/Show_colormaps) hues to better differentiate data."
   ]
  },
  {
   "cell_type": "code",
   "execution_count": 224,
   "metadata": {
    "collapsed": false
   },
   "outputs": [
    {
     "data": {
      "image/png": "[encoded data removed]",
      "text/plain": [
       "<matplotlib.figure.Figure at 0x7f728c7b04d0>"
      ]
     },
     "metadata": {},
     "output_type": "display_data"
    }
   ],
   "source": [
    "#<help:plot_formatting_colormap>\n",
    "import pandas as pd\n",
    "import numpy as np\n",
    "import matplotlib as mpl\n",
    "import matplotlib.pyplot as plt\n",
    "%matplotlib inline\n",
    "\n",
    "df = pd.DataFrame(np.random.randn(1000, 10))\n",
    "df = df.cumsum()\n",
    "df.plot(colormap='Set1')\n",
    "plt.title('Set1 Colormap')\n",
    "plt.legend(loc='best')\n",
    "plt.show()"
   ]
  },
  {
   "cell_type": "markdown",
   "metadata": {},
   "source": [
    "## Log-Scale Axis\n",
    "Use  `logy`, or `logx` or `loglog=True` to get a log scale in the each or both axes (in the case of loglog)."
   ]
  },
  {
   "cell_type": "code",
   "execution_count": 225,
   "metadata": {
    "collapsed": false
   },
   "outputs": [
    {
     "data": {
      "image/png": "[encoded data removed]",
      "text/plain": [
       "<matplotlib.figure.Figure at 0x7f727c7111d0>"
      ]
     },
     "metadata": {},
     "output_type": "display_data"
    }
   ],
   "source": [
    "#<help:plot_formatting_log_axes>\n",
    "import pandas as pd\n",
    "import numpy as np\n",
    "import matplotlib as mpl\n",
    "import matplotlib.pyplot as plt\n",
    "%matplotlib inline\n",
    "\n",
    "ts = pd.Series(np.random.randn(2000))\n",
    "ts = np.exp(ts.cumsum())\n",
    "ts.plot(logy=True)\n",
    "plt.show()"
   ]
  },
  {
   "cell_type": "markdown",
   "metadata": {},
   "source": [
    "## Want to learn more?"
   ]
  },
  {
   "cell_type": "markdown",
   "metadata": {},
   "source": [
    "<a href=\"http://bigdatauniversity.com/courses/python-for-data-analysis/?utm_source=tutorial-pandas-cookbook&utm_medium=dswb&utm_campaign=bdu\"><img src = \"https://ibm.box.com/shared/static/nw8w4ssxilysjzz1i49ygdrm8x1en6qw.png\"> </a>"
   ]
  },
  {
   "cell_type": "markdown",
   "metadata": {},
   "source": [
    "Created by: <a href=\"https://bigdatauniversity.com/?utm_source=bducreatedbylink&utm_medium=dswb&utm_campaign=bdu\">The Big Data University Team</a>"
   ]
  }
 ],
 "metadata": {
  "kernelspec": {
   "display_name": "Python 2",
   "language": "python",
   "name": "python2"
  },
  "language_info": {
   "codemirror_mode": {
    "name": "ipython",
    "version": 2
   },
   "file_extension": ".py",
   "mimetype": "text/x-python",
   "name": "python",
   "nbconvert_exporter": "python",
   "pygments_lexer": "ipython2",
   "version": "2.7.12"
  },
  "widgets": {
   "state": {},
   "version": "1.1.2"
  }
 },
 "nbformat": 4,
 "nbformat_minor": 0
}
